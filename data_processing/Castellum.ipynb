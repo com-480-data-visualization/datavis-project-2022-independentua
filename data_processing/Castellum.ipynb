{
 "cells": [
  {
   "cell_type": "markdown",
   "id": "61221e78-e767-4ef0-a73e-686f5025278e",
   "metadata": {},
   "source": [
    "# Castellum.ai"
   ]
  },
  {
   "cell_type": "code",
   "execution_count": 2,
   "id": "ad5ec451-3653-4794-b414-1accad9167be",
   "metadata": {},
   "outputs": [],
   "source": [
    "import requests"
   ]
  },
  {
   "cell_type": "code",
   "execution_count": 8,
   "id": "943ddada-7e0b-402f-b7bb-0dc18f82ce05",
   "metadata": {},
   "outputs": [],
   "source": [
    "server = 'https://api.castellum.ai/'"
   ]
  },
  {
   "cell_type": "code",
   "execution_count": 9,
   "id": "6d0b7693-47cd-49f6-a7e3-edb11a5991c2",
   "metadata": {},
   "outputs": [
    {
     "data": {
      "text/plain": [
       "<Response [401]>"
      ]
     },
     "execution_count": 9,
     "metadata": {},
     "output_type": "execute_result"
    }
   ],
   "source": [
    "requests.get(server + 'entity_types')"
   ]
  },
  {
   "cell_type": "code",
   "execution_count": null,
   "id": "8eaa1cea-ff92-40e2-b3e2-c5cdb77e956c",
   "metadata": {},
   "outputs": [],
   "source": []
  },
  {
   "cell_type": "code",
   "execution_count": null,
   "id": "42b585d2-6e8f-459d-8707-89cfcf35af3e",
   "metadata": {},
   "outputs": [],
   "source": []
  },
  {
   "cell_type": "code",
   "execution_count": null,
   "id": "81900d18-cb10-4c5d-9231-efb7e11dd612",
   "metadata": {},
   "outputs": [],
   "source": []
  }
 ],
 "metadata": {
  "kernelspec": {
   "display_name": "Python 3 (ipykernel)",
   "language": "python",
   "name": "python3"
  },
  "language_info": {
   "codemirror_mode": {
    "name": "ipython",
    "version": 3
   },
   "file_extension": ".py",
   "mimetype": "text/x-python",
   "name": "python",
   "nbconvert_exporter": "python",
   "pygments_lexer": "ipython3",
   "version": "3.9.7"
  }
 },
 "nbformat": 4,
 "nbformat_minor": 5
}
