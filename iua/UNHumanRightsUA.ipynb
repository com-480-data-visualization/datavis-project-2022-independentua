{
 "cells": [
  {
   "cell_type": "markdown",
   "source": [
    "# Extracting data about casualties from UN Human Rights UA (civilian + children)"
   ],
   "metadata": {
    "collapsed": false,
    "pycharm": {
     "name": "#%% md\n"
    }
   }
  },
  {
   "cell_type": "code",
   "execution_count": 18,
   "metadata": {
    "collapsed": true
   },
   "outputs": [],
   "source": [
    "import datetime\n",
    "import re\n",
    "from datetime import date\n",
    "\n",
    "import numpy as np\n",
    "import pandas as pd"
   ]
  },
  {
   "cell_type": "code",
   "execution_count": 19,
   "outputs": [],
   "source": [
    "tweets = pd.read_csv(\"./../data/UNHumanRightsUATweets.csv\")"
   ],
   "metadata": {
    "collapsed": false,
    "pycharm": {
     "name": "#%%\n"
    }
   }
  },
  {
   "cell_type": "code",
   "execution_count": 20,
   "outputs": [
    {
     "data": {
      "text/plain": "                    id      conversation_id    created_at  \\\n0  1498918622059798532  1498918622059798532  1.646205e+12   \n1  1499126009085497345  1499126009085497345  1.646254e+12   \n2  1499460762330402825  1499460762330402825  1.646334e+12   \n3  1499785706222329870  1499785706222329870  1.646412e+12   \n4  1500121254136848390  1500121254136848390  1.646492e+12   \n\n                  date  timezone  place  \\\n0  2022-03-02 08:10:22       200    NaN   \n1  2022-03-02 21:54:27       200    NaN   \n2  2022-03-03 20:04:39       200    NaN   \n3  2022-03-04 17:35:51       200    NaN   \n4  2022-03-05 15:49:12       200    NaN   \n\n                                               tweet language     hashtags  \\\n0  From 24-28 Feb, we recorded 550 civilian casua...       en  ['ukraine']   \n1  From 24 Feb—1 March, we recorded 752 civilian ...       en  ['ukraine']   \n2  From 24 Feb—2 March, we recorded 802 civilian ...       en  ['ukraine']   \n3  From 24 Feb—3 March, we recorded 1,006 civilia...       en  ['ukraine']   \n4  From 24 Feb—4 March, we recorded 1,058 civilia...       en  ['ukraine']   \n\n  cashtags  ...  geo  source user_rt_id user_rt  retweet_id  reply_to  \\\n0       []  ...  NaN     NaN        NaN     NaN         NaN        []   \n1       []  ...  NaN     NaN        NaN     NaN         NaN        []   \n2       []  ...  NaN     NaN        NaN     NaN         NaN        []   \n3       []  ...  NaN     NaN        NaN     NaN         NaN        []   \n4       []  ...  NaN     NaN        NaN     NaN         NaN        []   \n\n  retweet_date translate trans_src  trans_dest  \n0          NaN       NaN       NaN         NaN  \n1          NaN       NaN       NaN         NaN  \n2          NaN       NaN       NaN         NaN  \n3          NaN       NaN       NaN         NaN  \n4          NaN       NaN       NaN         NaN  \n\n[5 rows x 38 columns]",
      "text/html": "<div>\n<style scoped>\n    .dataframe tbody tr th:only-of-type {\n        vertical-align: middle;\n    }\n\n    .dataframe tbody tr th {\n        vertical-align: top;\n    }\n\n    .dataframe thead th {\n        text-align: right;\n    }\n</style>\n<table border=\"1\" class=\"dataframe\">\n  <thead>\n    <tr style=\"text-align: right;\">\n      <th></th>\n      <th>id</th>\n      <th>conversation_id</th>\n      <th>created_at</th>\n      <th>date</th>\n      <th>timezone</th>\n      <th>place</th>\n      <th>tweet</th>\n      <th>language</th>\n      <th>hashtags</th>\n      <th>cashtags</th>\n      <th>...</th>\n      <th>geo</th>\n      <th>source</th>\n      <th>user_rt_id</th>\n      <th>user_rt</th>\n      <th>retweet_id</th>\n      <th>reply_to</th>\n      <th>retweet_date</th>\n      <th>translate</th>\n      <th>trans_src</th>\n      <th>trans_dest</th>\n    </tr>\n  </thead>\n  <tbody>\n    <tr>\n      <th>0</th>\n      <td>1498918622059798532</td>\n      <td>1498918622059798532</td>\n      <td>1.646205e+12</td>\n      <td>2022-03-02 08:10:22</td>\n      <td>200</td>\n      <td>NaN</td>\n      <td>From 24-28 Feb, we recorded 550 civilian casua...</td>\n      <td>en</td>\n      <td>['ukraine']</td>\n      <td>[]</td>\n      <td>...</td>\n      <td>NaN</td>\n      <td>NaN</td>\n      <td>NaN</td>\n      <td>NaN</td>\n      <td>NaN</td>\n      <td>[]</td>\n      <td>NaN</td>\n      <td>NaN</td>\n      <td>NaN</td>\n      <td>NaN</td>\n    </tr>\n    <tr>\n      <th>1</th>\n      <td>1499126009085497345</td>\n      <td>1499126009085497345</td>\n      <td>1.646254e+12</td>\n      <td>2022-03-02 21:54:27</td>\n      <td>200</td>\n      <td>NaN</td>\n      <td>From 24 Feb—1 March, we recorded 752 civilian ...</td>\n      <td>en</td>\n      <td>['ukraine']</td>\n      <td>[]</td>\n      <td>...</td>\n      <td>NaN</td>\n      <td>NaN</td>\n      <td>NaN</td>\n      <td>NaN</td>\n      <td>NaN</td>\n      <td>[]</td>\n      <td>NaN</td>\n      <td>NaN</td>\n      <td>NaN</td>\n      <td>NaN</td>\n    </tr>\n    <tr>\n      <th>2</th>\n      <td>1499460762330402825</td>\n      <td>1499460762330402825</td>\n      <td>1.646334e+12</td>\n      <td>2022-03-03 20:04:39</td>\n      <td>200</td>\n      <td>NaN</td>\n      <td>From 24 Feb—2 March, we recorded 802 civilian ...</td>\n      <td>en</td>\n      <td>['ukraine']</td>\n      <td>[]</td>\n      <td>...</td>\n      <td>NaN</td>\n      <td>NaN</td>\n      <td>NaN</td>\n      <td>NaN</td>\n      <td>NaN</td>\n      <td>[]</td>\n      <td>NaN</td>\n      <td>NaN</td>\n      <td>NaN</td>\n      <td>NaN</td>\n    </tr>\n    <tr>\n      <th>3</th>\n      <td>1499785706222329870</td>\n      <td>1499785706222329870</td>\n      <td>1.646412e+12</td>\n      <td>2022-03-04 17:35:51</td>\n      <td>200</td>\n      <td>NaN</td>\n      <td>From 24 Feb—3 March, we recorded 1,006 civilia...</td>\n      <td>en</td>\n      <td>['ukraine']</td>\n      <td>[]</td>\n      <td>...</td>\n      <td>NaN</td>\n      <td>NaN</td>\n      <td>NaN</td>\n      <td>NaN</td>\n      <td>NaN</td>\n      <td>[]</td>\n      <td>NaN</td>\n      <td>NaN</td>\n      <td>NaN</td>\n      <td>NaN</td>\n    </tr>\n    <tr>\n      <th>4</th>\n      <td>1500121254136848390</td>\n      <td>1500121254136848390</td>\n      <td>1.646492e+12</td>\n      <td>2022-03-05 15:49:12</td>\n      <td>200</td>\n      <td>NaN</td>\n      <td>From 24 Feb—4 March, we recorded 1,058 civilia...</td>\n      <td>en</td>\n      <td>['ukraine']</td>\n      <td>[]</td>\n      <td>...</td>\n      <td>NaN</td>\n      <td>NaN</td>\n      <td>NaN</td>\n      <td>NaN</td>\n      <td>NaN</td>\n      <td>[]</td>\n      <td>NaN</td>\n      <td>NaN</td>\n      <td>NaN</td>\n      <td>NaN</td>\n    </tr>\n  </tbody>\n</table>\n<p>5 rows × 38 columns</p>\n</div>"
     },
     "execution_count": 20,
     "metadata": {},
     "output_type": "execute_result"
    }
   ],
   "source": [
    "tweets.head()"
   ],
   "metadata": {
    "collapsed": false,
    "pycharm": {
     "name": "#%%\n"
    }
   }
  },
  {
   "cell_type": "code",
   "execution_count": 21,
   "outputs": [],
   "source": [
    "common_beginning_mask = tweets.tweet.str.contains(\"from\", case=False)"
   ],
   "metadata": {
    "collapsed": false,
    "pycharm": {
     "name": "#%%\n"
    }
   }
  },
  {
   "cell_type": "code",
   "execution_count": 22,
   "outputs": [],
   "source": [
    "casualties_information_pattern = r\".* ([0-9]+|[0-9]+,[0-9]+) killed, incl ([0-9]+|[0-9]+,[0-9]+) children; ([0-9]+|[0-9]+,[0-9]+) injured, incl ([0-9]+|[0-9]+,[0-9]+) children\"\n",
    "date_pattern = r\".*[0-9]+ Feb—([0-9]+) (\\w+).*\"\n",
    "date_format = \"%d %B %y\""
   ],
   "metadata": {
    "collapsed": false,
    "pycharm": {
     "name": "#%%\n"
    }
   }
  },
  {
   "cell_type": "markdown",
   "source": [
    "Create dataset"
   ],
   "metadata": {
    "collapsed": false,
    "pycharm": {
     "name": "#%% md\n"
    }
   }
  },
  {
   "cell_type": "code",
   "execution_count": 23,
   "outputs": [],
   "source": [
    "date_range = pd.date_range(date(2022, 2, 24), date.today())\n",
    "columns = [\"civilians_killed\", \"civilians_injured\", \"children_killed\", \"children_injured\"]"
   ],
   "metadata": {
    "collapsed": false,
    "pycharm": {
     "name": "#%%\n"
    }
   }
  },
  {
   "cell_type": "code",
   "execution_count": 24,
   "outputs": [],
   "source": [
    "casualties = pd.DataFrame(np.zeros(shape=(len(date_range), len(columns)), dtype=np.int32), index=date_range, columns=columns)"
   ],
   "metadata": {
    "collapsed": false,
    "pycharm": {
     "name": "#%%\n"
    }
   }
  },
  {
   "cell_type": "code",
   "execution_count": 25,
   "outputs": [
    {
     "data": {
      "text/plain": "            civilians_killed  civilians_injured  children_killed  \\\n2022-02-24                 0                  0                0   \n2022-02-25                 0                  0                0   \n2022-02-26                 0                  0                0   \n2022-02-27                 0                  0                0   \n2022-02-28                 0                  0                0   \n\n            children_injured  \n2022-02-24                 0  \n2022-02-25                 0  \n2022-02-26                 0  \n2022-02-27                 0  \n2022-02-28                 0  ",
      "text/html": "<div>\n<style scoped>\n    .dataframe tbody tr th:only-of-type {\n        vertical-align: middle;\n    }\n\n    .dataframe tbody tr th {\n        vertical-align: top;\n    }\n\n    .dataframe thead th {\n        text-align: right;\n    }\n</style>\n<table border=\"1\" class=\"dataframe\">\n  <thead>\n    <tr style=\"text-align: right;\">\n      <th></th>\n      <th>civilians_killed</th>\n      <th>civilians_injured</th>\n      <th>children_killed</th>\n      <th>children_injured</th>\n    </tr>\n  </thead>\n  <tbody>\n    <tr>\n      <th>2022-02-24</th>\n      <td>0</td>\n      <td>0</td>\n      <td>0</td>\n      <td>0</td>\n    </tr>\n    <tr>\n      <th>2022-02-25</th>\n      <td>0</td>\n      <td>0</td>\n      <td>0</td>\n      <td>0</td>\n    </tr>\n    <tr>\n      <th>2022-02-26</th>\n      <td>0</td>\n      <td>0</td>\n      <td>0</td>\n      <td>0</td>\n    </tr>\n    <tr>\n      <th>2022-02-27</th>\n      <td>0</td>\n      <td>0</td>\n      <td>0</td>\n      <td>0</td>\n    </tr>\n    <tr>\n      <th>2022-02-28</th>\n      <td>0</td>\n      <td>0</td>\n      <td>0</td>\n      <td>0</td>\n    </tr>\n  </tbody>\n</table>\n</div>"
     },
     "execution_count": 25,
     "metadata": {},
     "output_type": "execute_result"
    }
   ],
   "source": [
    "casualties.head()"
   ],
   "metadata": {
    "collapsed": false,
    "pycharm": {
     "name": "#%%\n"
    }
   }
  },
  {
   "cell_type": "code",
   "execution_count": 26,
   "outputs": [],
   "source": [
    "def string_number_to_int(str_number):\n",
    "    return int(str_number.replace(\",\", \"\"))"
   ],
   "metadata": {
    "collapsed": false,
    "pycharm": {
     "name": "#%%\n"
    }
   }
  },
  {
   "cell_type": "code",
   "execution_count": 27,
   "outputs": [],
   "source": [
    "def infer_date(whole_tweet):\n",
    "    # 1st option = it is in the tweet\n",
    "    tweet = whole_tweet.tweet\n",
    "    date_format = \"%d %B %y\"\n",
    "    date_result = re.match(date_pattern, str(tweet))\n",
    "    if date_result is not None:\n",
    "        try:\n",
    "            date = datetime.datetime.strptime(date_result.group(1) + \" \" + date_result.group(2) + \" 22\", date_format).date()\n",
    "        except AttributeError:\n",
    "            raise ValueError\n",
    "        return date\n",
    "    else: # assume that the date is the day before\n",
    "        date = datetime.datetime.strptime(whole_tweet.date, \"%Y-%m-%d %H:%M:%S\").date() - datetime.timedelta(1)\n",
    "        return date\n"
   ],
   "metadata": {
    "collapsed": false,
    "pycharm": {
     "name": "#%%\n"
    }
   }
  },
  {
   "cell_type": "code",
   "execution_count": 32,
   "outputs": [],
   "source": [
    "for idx, whole_tweet in tweets.iterrows():\n",
    "    tweet = whole_tweet.tweet\n",
    "    # check if the casualties info is in the post\n",
    "    result = re.match(casualties_information_pattern, tweet)\n",
    "    if result is None:\n",
    "        continue\n",
    "    try:\n",
    "        date = infer_date(whole_tweet)\n",
    "    except ValueError:\n",
    "        continue\n",
    "\n",
    "    casualties.loc[pd.Timestamp(date), \"civilians_killed\"] = string_number_to_int(result.group(1))\n",
    "    casualties.loc[pd.Timestamp(date), \"children_killed\"] = string_number_to_int(result.group(2))\n",
    "    casualties.loc[pd.Timestamp(date), \"civilians_injured\"] = string_number_to_int(result.group(3))\n",
    "    casualties.loc[pd.Timestamp(date), \"children_injured\"] = string_number_to_int(result.group(4))"
   ],
   "metadata": {
    "collapsed": false,
    "pycharm": {
     "name": "#%%\n"
    }
   }
  },
  {
   "cell_type": "code",
   "execution_count": 33,
   "outputs": [
    {
     "data": {
      "text/plain": "            civilians_killed  civilians_injured  children_killed  \\\n2022-02-24                 0                  0                0   \n2022-02-25                 0                  0                0   \n2022-02-26                 0                  0                0   \n2022-02-27                 0                  0                0   \n2022-02-28                 0                  0                0   \n...                      ...                ...              ...   \n2022-04-28              2899               3235              210   \n2022-04-29                 0                  0                0   \n2022-04-30                 0                  0                0   \n2022-05-01                 0                  0                0   \n2022-05-02                 0                  0                0   \n\n            children_injured  \n2022-02-24                 0  \n2022-02-25                 0  \n2022-02-26                 0  \n2022-02-27                 0  \n2022-02-28                 0  \n...                      ...  \n2022-04-28               309  \n2022-04-29                 0  \n2022-04-30                 0  \n2022-05-01                 0  \n2022-05-02                 0  \n\n[68 rows x 4 columns]",
      "text/html": "<div>\n<style scoped>\n    .dataframe tbody tr th:only-of-type {\n        vertical-align: middle;\n    }\n\n    .dataframe tbody tr th {\n        vertical-align: top;\n    }\n\n    .dataframe thead th {\n        text-align: right;\n    }\n</style>\n<table border=\"1\" class=\"dataframe\">\n  <thead>\n    <tr style=\"text-align: right;\">\n      <th></th>\n      <th>civilians_killed</th>\n      <th>civilians_injured</th>\n      <th>children_killed</th>\n      <th>children_injured</th>\n    </tr>\n  </thead>\n  <tbody>\n    <tr>\n      <th>2022-02-24</th>\n      <td>0</td>\n      <td>0</td>\n      <td>0</td>\n      <td>0</td>\n    </tr>\n    <tr>\n      <th>2022-02-25</th>\n      <td>0</td>\n      <td>0</td>\n      <td>0</td>\n      <td>0</td>\n    </tr>\n    <tr>\n      <th>2022-02-26</th>\n      <td>0</td>\n      <td>0</td>\n      <td>0</td>\n      <td>0</td>\n    </tr>\n    <tr>\n      <th>2022-02-27</th>\n      <td>0</td>\n      <td>0</td>\n      <td>0</td>\n      <td>0</td>\n    </tr>\n    <tr>\n      <th>2022-02-28</th>\n      <td>0</td>\n      <td>0</td>\n      <td>0</td>\n      <td>0</td>\n    </tr>\n    <tr>\n      <th>...</th>\n      <td>...</td>\n      <td>...</td>\n      <td>...</td>\n      <td>...</td>\n    </tr>\n    <tr>\n      <th>2022-04-28</th>\n      <td>2899</td>\n      <td>3235</td>\n      <td>210</td>\n      <td>309</td>\n    </tr>\n    <tr>\n      <th>2022-04-29</th>\n      <td>0</td>\n      <td>0</td>\n      <td>0</td>\n      <td>0</td>\n    </tr>\n    <tr>\n      <th>2022-04-30</th>\n      <td>0</td>\n      <td>0</td>\n      <td>0</td>\n      <td>0</td>\n    </tr>\n    <tr>\n      <th>2022-05-01</th>\n      <td>0</td>\n      <td>0</td>\n      <td>0</td>\n      <td>0</td>\n    </tr>\n    <tr>\n      <th>2022-05-02</th>\n      <td>0</td>\n      <td>0</td>\n      <td>0</td>\n      <td>0</td>\n    </tr>\n  </tbody>\n</table>\n<p>68 rows × 4 columns</p>\n</div>"
     },
     "execution_count": 33,
     "metadata": {},
     "output_type": "execute_result"
    }
   ],
   "source": [
    "casualties"
   ],
   "metadata": {
    "collapsed": false,
    "pycharm": {
     "name": "#%%\n"
    }
   }
  },
  {
   "cell_type": "code",
   "execution_count": 30,
   "outputs": [],
   "source": [
    "casualties.to_excel(\"./../data/casualtiesUNHumanRightsUATweets.xlsx\")"
   ],
   "metadata": {
    "collapsed": false,
    "pycharm": {
     "name": "#%%\n"
    }
   }
  },
  {
   "cell_type": "code",
   "execution_count": 55,
   "outputs": [],
   "source": [],
   "metadata": {
    "collapsed": false,
    "pycharm": {
     "name": "#%%\n"
    }
   }
  },
  {
   "cell_type": "code",
   "execution_count": null,
   "outputs": [],
   "source": [],
   "metadata": {
    "collapsed": false,
    "pycharm": {
     "name": "#%%\n"
    }
   }
  },
  {
   "cell_type": "code",
   "execution_count": null,
   "outputs": [],
   "source": [],
   "metadata": {
    "collapsed": false,
    "pycharm": {
     "name": "#%%\n"
    }
   }
  },
  {
   "cell_type": "code",
   "execution_count": null,
   "outputs": [],
   "source": [],
   "metadata": {
    "collapsed": false,
    "pycharm": {
     "name": "#%%\n"
    }
   }
  }
 ],
 "metadata": {
  "kernelspec": {
   "display_name": "Python 3",
   "language": "python",
   "name": "python3"
  },
  "language_info": {
   "codemirror_mode": {
    "name": "ipython",
    "version": 2
   },
   "file_extension": ".py",
   "mimetype": "text/x-python",
   "name": "python",
   "nbconvert_exporter": "python",
   "pygments_lexer": "ipython2",
   "version": "2.7.6"
  }
 },
 "nbformat": 4,
 "nbformat_minor": 0
}