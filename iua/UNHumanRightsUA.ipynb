{
 "cells": [
  {
   "cell_type": "markdown",
   "source": [
    "# Extracting data about casualties from UN Human Rights UA (civilian + children)"
   ],
   "metadata": {
    "collapsed": false,
    "pycharm": {
     "name": "#%% md\n"
    }
   }
  },
  {
   "cell_type": "code",
   "execution_count": 44,
   "metadata": {
    "collapsed": true
   },
   "outputs": [],
   "source": [
    "import datetime\n",
    "import re\n",
    "from datetime import date\n",
    "\n",
    "import numpy as np\n",
    "import pandas as pd"
   ]
  },
  {
   "cell_type": "code",
   "execution_count": 45,
   "outputs": [],
   "source": [
    "tweets = pd.read_csv(\"./../data/UNHumanRightsUATweets.csv\")"
   ],
   "metadata": {
    "collapsed": false,
    "pycharm": {
     "name": "#%%\n"
    }
   }
  },
  {
   "cell_type": "code",
   "execution_count": 46,
   "outputs": [
    {
     "data": {
      "text/plain": "                    id      conversation_id    created_at  \\\n0  1498918622059798532  1498918622059798532  1.646205e+12   \n1  1499126009085497345  1499126009085497345  1.646254e+12   \n2  1499460762330402825  1499460762330402825  1.646334e+12   \n3  1499785706222329870  1499785706222329870  1.646412e+12   \n4  1500121254136848390  1500121254136848390  1.646492e+12   \n\n                  date  timezone  place  \\\n0  2022-03-02 08:10:22       200    NaN   \n1  2022-03-02 21:54:27       200    NaN   \n2  2022-03-03 20:04:39       200    NaN   \n3  2022-03-04 17:35:51       200    NaN   \n4  2022-03-05 15:49:12       200    NaN   \n\n                                               tweet language     hashtags  \\\n0  From 24-28 Feb, we recorded 550 civilian casua...       en  ['ukraine']   \n1  From 24 Feb—1 March, we recorded 752 civilian ...       en  ['ukraine']   \n2  From 24 Feb—2 March, we recorded 802 civilian ...       en  ['ukraine']   \n3  From 24 Feb—3 March, we recorded 1,006 civilia...       en  ['ukraine']   \n4  From 24 Feb—4 March, we recorded 1,058 civilia...       en  ['ukraine']   \n\n  cashtags  ...  geo  source user_rt_id user_rt  retweet_id  reply_to  \\\n0       []  ...  NaN     NaN        NaN     NaN         NaN        []   \n1       []  ...  NaN     NaN        NaN     NaN         NaN        []   \n2       []  ...  NaN     NaN        NaN     NaN         NaN        []   \n3       []  ...  NaN     NaN        NaN     NaN         NaN        []   \n4       []  ...  NaN     NaN        NaN     NaN         NaN        []   \n\n  retweet_date translate trans_src  trans_dest  \n0          NaN       NaN       NaN         NaN  \n1          NaN       NaN       NaN         NaN  \n2          NaN       NaN       NaN         NaN  \n3          NaN       NaN       NaN         NaN  \n4          NaN       NaN       NaN         NaN  \n\n[5 rows x 38 columns]",
      "text/html": "<div>\n<style scoped>\n    .dataframe tbody tr th:only-of-type {\n        vertical-align: middle;\n    }\n\n    .dataframe tbody tr th {\n        vertical-align: top;\n    }\n\n    .dataframe thead th {\n        text-align: right;\n    }\n</style>\n<table border=\"1\" class=\"dataframe\">\n  <thead>\n    <tr style=\"text-align: right;\">\n      <th></th>\n      <th>id</th>\n      <th>conversation_id</th>\n      <th>created_at</th>\n      <th>date</th>\n      <th>timezone</th>\n      <th>place</th>\n      <th>tweet</th>\n      <th>language</th>\n      <th>hashtags</th>\n      <th>cashtags</th>\n      <th>...</th>\n      <th>geo</th>\n      <th>source</th>\n      <th>user_rt_id</th>\n      <th>user_rt</th>\n      <th>retweet_id</th>\n      <th>reply_to</th>\n      <th>retweet_date</th>\n      <th>translate</th>\n      <th>trans_src</th>\n      <th>trans_dest</th>\n    </tr>\n  </thead>\n  <tbody>\n    <tr>\n      <th>0</th>\n      <td>1498918622059798532</td>\n      <td>1498918622059798532</td>\n      <td>1.646205e+12</td>\n      <td>2022-03-02 08:10:22</td>\n      <td>200</td>\n      <td>NaN</td>\n      <td>From 24-28 Feb, we recorded 550 civilian casua...</td>\n      <td>en</td>\n      <td>['ukraine']</td>\n      <td>[]</td>\n      <td>...</td>\n      <td>NaN</td>\n      <td>NaN</td>\n      <td>NaN</td>\n      <td>NaN</td>\n      <td>NaN</td>\n      <td>[]</td>\n      <td>NaN</td>\n      <td>NaN</td>\n      <td>NaN</td>\n      <td>NaN</td>\n    </tr>\n    <tr>\n      <th>1</th>\n      <td>1499126009085497345</td>\n      <td>1499126009085497345</td>\n      <td>1.646254e+12</td>\n      <td>2022-03-02 21:54:27</td>\n      <td>200</td>\n      <td>NaN</td>\n      <td>From 24 Feb—1 March, we recorded 752 civilian ...</td>\n      <td>en</td>\n      <td>['ukraine']</td>\n      <td>[]</td>\n      <td>...</td>\n      <td>NaN</td>\n      <td>NaN</td>\n      <td>NaN</td>\n      <td>NaN</td>\n      <td>NaN</td>\n      <td>[]</td>\n      <td>NaN</td>\n      <td>NaN</td>\n      <td>NaN</td>\n      <td>NaN</td>\n    </tr>\n    <tr>\n      <th>2</th>\n      <td>1499460762330402825</td>\n      <td>1499460762330402825</td>\n      <td>1.646334e+12</td>\n      <td>2022-03-03 20:04:39</td>\n      <td>200</td>\n      <td>NaN</td>\n      <td>From 24 Feb—2 March, we recorded 802 civilian ...</td>\n      <td>en</td>\n      <td>['ukraine']</td>\n      <td>[]</td>\n      <td>...</td>\n      <td>NaN</td>\n      <td>NaN</td>\n      <td>NaN</td>\n      <td>NaN</td>\n      <td>NaN</td>\n      <td>[]</td>\n      <td>NaN</td>\n      <td>NaN</td>\n      <td>NaN</td>\n      <td>NaN</td>\n    </tr>\n    <tr>\n      <th>3</th>\n      <td>1499785706222329870</td>\n      <td>1499785706222329870</td>\n      <td>1.646412e+12</td>\n      <td>2022-03-04 17:35:51</td>\n      <td>200</td>\n      <td>NaN</td>\n      <td>From 24 Feb—3 March, we recorded 1,006 civilia...</td>\n      <td>en</td>\n      <td>['ukraine']</td>\n      <td>[]</td>\n      <td>...</td>\n      <td>NaN</td>\n      <td>NaN</td>\n      <td>NaN</td>\n      <td>NaN</td>\n      <td>NaN</td>\n      <td>[]</td>\n      <td>NaN</td>\n      <td>NaN</td>\n      <td>NaN</td>\n      <td>NaN</td>\n    </tr>\n    <tr>\n      <th>4</th>\n      <td>1500121254136848390</td>\n      <td>1500121254136848390</td>\n      <td>1.646492e+12</td>\n      <td>2022-03-05 15:49:12</td>\n      <td>200</td>\n      <td>NaN</td>\n      <td>From 24 Feb—4 March, we recorded 1,058 civilia...</td>\n      <td>en</td>\n      <td>['ukraine']</td>\n      <td>[]</td>\n      <td>...</td>\n      <td>NaN</td>\n      <td>NaN</td>\n      <td>NaN</td>\n      <td>NaN</td>\n      <td>NaN</td>\n      <td>[]</td>\n      <td>NaN</td>\n      <td>NaN</td>\n      <td>NaN</td>\n      <td>NaN</td>\n    </tr>\n  </tbody>\n</table>\n<p>5 rows × 38 columns</p>\n</div>"
     },
     "execution_count": 46,
     "metadata": {},
     "output_type": "execute_result"
    }
   ],
   "source": [
    "tweets.head()"
   ],
   "metadata": {
    "collapsed": false,
    "pycharm": {
     "name": "#%%\n"
    }
   }
  },
  {
   "cell_type": "code",
   "execution_count": 47,
   "outputs": [],
   "source": [
    "common_beginning_mask = tweets.tweet.str.contains(\"from\", case=False)"
   ],
   "metadata": {
    "collapsed": false,
    "pycharm": {
     "name": "#%%\n"
    }
   }
  },
  {
   "cell_type": "code",
   "execution_count": 48,
   "outputs": [],
   "source": [
    "casualties_information_pattern = r\".* ([0-9]+|[0-9]+,[0-9]+) killed, incl ([0-9]+|[0-9]+,[0-9]+) children; ([0-9]+|[0-9]+,[0-9]+) injured, incl ([0-9]+|[0-9]+,[0-9]+) children\"\n",
    "date_pattern = r\"From [0-9]+ Feb—([0-9]+) (\\w+).*\"\n",
    "date_format = \"%d %B %y\""
   ],
   "metadata": {
    "collapsed": false,
    "pycharm": {
     "name": "#%%\n"
    }
   }
  },
  {
   "cell_type": "markdown",
   "source": [
    "Create dataset"
   ],
   "metadata": {
    "collapsed": false,
    "pycharm": {
     "name": "#%% md\n"
    }
   }
  },
  {
   "cell_type": "code",
   "execution_count": 49,
   "outputs": [],
   "source": [
    "date_range = pd.date_range(date(2022, 2, 24), date.today())\n",
    "columns = [\"civilians_killed\", \"civilians_injured\", \"children_killed\", \"children_injured\"]"
   ],
   "metadata": {
    "collapsed": false,
    "pycharm": {
     "name": "#%%\n"
    }
   }
  },
  {
   "cell_type": "code",
   "execution_count": 50,
   "outputs": [],
   "source": [
    "casualties = pd.DataFrame(np.zeros(shape=(len(date_range), len(columns)), dtype=np.int32), index=date_range, columns=columns)"
   ],
   "metadata": {
    "collapsed": false,
    "pycharm": {
     "name": "#%%\n"
    }
   }
  },
  {
   "cell_type": "code",
   "execution_count": 51,
   "outputs": [
    {
     "data": {
      "text/plain": "            civilians_killed  civilians_injured  children_killed  \\\n2022-02-24                 0                  0                0   \n2022-02-25                 0                  0                0   \n2022-02-26                 0                  0                0   \n2022-02-27                 0                  0                0   \n2022-02-28                 0                  0                0   \n\n            children_injured  \n2022-02-24                 0  \n2022-02-25                 0  \n2022-02-26                 0  \n2022-02-27                 0  \n2022-02-28                 0  ",
      "text/html": "<div>\n<style scoped>\n    .dataframe tbody tr th:only-of-type {\n        vertical-align: middle;\n    }\n\n    .dataframe tbody tr th {\n        vertical-align: top;\n    }\n\n    .dataframe thead th {\n        text-align: right;\n    }\n</style>\n<table border=\"1\" class=\"dataframe\">\n  <thead>\n    <tr style=\"text-align: right;\">\n      <th></th>\n      <th>civilians_killed</th>\n      <th>civilians_injured</th>\n      <th>children_killed</th>\n      <th>children_injured</th>\n    </tr>\n  </thead>\n  <tbody>\n    <tr>\n      <th>2022-02-24</th>\n      <td>0</td>\n      <td>0</td>\n      <td>0</td>\n      <td>0</td>\n    </tr>\n    <tr>\n      <th>2022-02-25</th>\n      <td>0</td>\n      <td>0</td>\n      <td>0</td>\n      <td>0</td>\n    </tr>\n    <tr>\n      <th>2022-02-26</th>\n      <td>0</td>\n      <td>0</td>\n      <td>0</td>\n      <td>0</td>\n    </tr>\n    <tr>\n      <th>2022-02-27</th>\n      <td>0</td>\n      <td>0</td>\n      <td>0</td>\n      <td>0</td>\n    </tr>\n    <tr>\n      <th>2022-02-28</th>\n      <td>0</td>\n      <td>0</td>\n      <td>0</td>\n      <td>0</td>\n    </tr>\n  </tbody>\n</table>\n</div>"
     },
     "execution_count": 51,
     "metadata": {},
     "output_type": "execute_result"
    }
   ],
   "source": [
    "casualties.head()"
   ],
   "metadata": {
    "collapsed": false,
    "pycharm": {
     "name": "#%%\n"
    }
   }
  },
  {
   "cell_type": "code",
   "execution_count": 52,
   "outputs": [],
   "source": [
    "def string_number_to_int(str_number):\n",
    "    return int(str_number.replace(\",\", \"\"))"
   ],
   "metadata": {
    "collapsed": false,
    "pycharm": {
     "name": "#%%\n"
    }
   }
  },
  {
   "cell_type": "code",
   "execution_count": 53,
   "outputs": [
    {
     "name": "stdout",
     "output_type": "stream",
     "text": [
      "From 24-28 Feb, we recorded 550 civilian casualties in context of the Russia’s military action against #Ukraine: 142 killed, incl 13 children; 408 injured, incl 26 children, mostly caused by shelling &amp; airstrikes. Real toll is much higher. Full update— https://t.co/lNWHqVm1s6  https://t.co/aOZExKWGnQ\n",
      "None\n",
      "ec\n",
      "From 24 Feb—1 March, we recorded 752 civilian casualties in context of the Russia’s military action against #Ukraine: 227 killed, incl 15 children; 525 injured, incl 28 children, mostly caused by shelling &amp; airstrikes. Real toll is much higher. Full update— https://t.co/hy7acxKBfz  https://t.co/yiZGbpw0vV\n",
      "<re.Match object; span=(0, 310), match='From 24 Feb—1 March, we recorded 752 civilian cas>\n",
      "2022-03-01 00:00:00\n",
      "From 24 Feb—2 March, we recorded 802 civilian casualties in context of the Russia’s military action against #Ukraine: 249 killed, incl 17 children; 553 injured, incl 30 children, mostly caused by shelling &amp; airstrikes. Real toll is much higher. Full update— https://t.co/xvHAEImZzx  https://t.co/K7yRvaIvGW\n",
      "<re.Match object; span=(0, 310), match='From 24 Feb—2 March, we recorded 802 civilian cas>\n",
      "2022-03-02 00:00:00\n",
      "From 24 Feb—3 March, we recorded 1,006 civilian casualties in context of Russia’s military action against #Ukraine: 331 killed, incl 19 children; 675 injured, incl 31 children, mostly caused by shelling &amp; airstrikes. Real toll is much higher. Full update  https://t.co/AYvSuukINj  https://t.co/i6HDywZEk4\n",
      "<re.Match object; span=(0, 308), match='From 24 Feb—3 March, we recorded 1,006 civilian c>\n",
      "2022-03-03 00:00:00\n",
      "From 24 Feb—4 March, we recorded 1,058 civilian casualties in context of Russia’s military action against #Ukraine: 351 killed, incl 22 children; 707 injured, incl 36 children, mostly caused by shelling &amp; airstrikes. Real toll is much higher. Full update  https://t.co/q4Qfs3W4uV  https://t.co/QmITDereSH\n",
      "<re.Match object; span=(0, 308), match='From 24 Feb—4 March, we recorded 1,058 civilian c>\n",
      "2022-03-04 00:00:00\n",
      "From 24 Feb—5 March, we recorded 1,123 civilian casualties in context of Russia’s military action against #Ukraine: 364 killed, incl 25 children; 759 injured, incl 41 children, mostly caused by shelling &amp; airstrikes. Real toll is much higher. Full update  https://t.co/S2ZRXtSVKf  https://t.co/ZL3sDDM5Za\n",
      "<re.Match object; span=(0, 308), match='From 24 Feb—5 March, we recorded 1,123 civilian c>\n",
      "2022-03-05 00:00:00\n",
      "From 24 Feb—6 March, we recorded 1,207 civilian casualties in context of Russia’s military action against #Ukraine: 406 killed, incl 27 children; 801 injured, incl 42 children, mostly caused by shelling &amp; airstrikes. Real toll is much higher. Full update  https://t.co/tGP91adRiJ  https://t.co/Ny5Ac90dNj\n",
      "<re.Match object; span=(0, 308), match='From 24 Feb—6 March, we recorded 1,207 civilian c>\n",
      "2022-03-06 00:00:00\n",
      "From 24 Feb—7 March, we recorded 1,335 civilian casualties in context of Russia’s armed attack against #Ukraine: 474 killed, incl 29 children; 861 injured, incl 44 children, mostly caused by shelling &amp; airstrikes. Real toll is much higher. Full update  https://t.co/VDcVWYo5ML  https://t.co/eN29ep16ii\n",
      "<re.Match object; span=(0, 305), match='From 24 Feb—7 March, we recorded 1,335 civilian c>\n",
      "2022-03-07 00:00:00\n",
      "From 24 Feb—8 March, we recorded 1,424 civilian casualties in context of Russia’s armed attack against #Ukraine: 516 killed, incl 37 children; 908 injured, incl 50 children, mostly caused by shelling &amp; airstrikes. Real toll is much higher. Full update  https://t.co/2RaQpyPBv3  https://t.co/Ceb4vnUKkp\n",
      "<re.Match object; span=(0, 305), match='From 24 Feb—8 March, we recorded 1,424 civilian c>\n",
      "2022-03-08 00:00:00\n",
      "From 24 Feb—9 March, we recorded 1,506 civilian casualties in context of Russia’s armed attack against #Ukraine: 549 killed, incl 41 children; 957 injured, incl 52 children, mostly caused by shelling &amp; airstrikes. Actual toll is much higher. Full update  https://t.co/tZAAjKOTEU  https://t.co/pcZnGhQ2uq\n",
      "<re.Match object; span=(0, 307), match='From 24 Feb—9 March, we recorded 1,506 civilian c>\n",
      "2022-03-09 00:00:00\n",
      "From 24 Feb—10 March, we recorded 1,546 civilian casualties in context of Russia’s armed attack against #Ukraine: 564 killed, incl 41 children; 982 injured, incl 52 children, mostly caused by shelling &amp; airstrikes. Actual toll is much higher. Full update  https://t.co/65tPcQcdny  https://t.co/GMTddcmvI4\n",
      "<re.Match object; span=(0, 308), match='From 24 Feb—10 March, we recorded 1,546 civilian >\n",
      "2022-03-10 00:00:00\n",
      "From 24 Feb—11 March, we recorded 1,581 civilian casualties in context of Russia’s armed attack against #Ukraine: 579 killed, incl 42 children; 1,002 injured, incl 54 children, mostly caused by shelling &amp; airstrikes. Actual toll is much higher. Full update  https://t.co/K0tmWBuHug  https://t.co/nm28tJy4ux\n",
      "<re.Match object; span=(0, 310), match='From 24 Feb—11 March, we recorded 1,581 civilian >\n",
      "2022-03-11 00:00:00\n",
      "From 24 Feb—12 March, we recorded 1,663 civilian casualties in context of Russia’s armed attack against #Ukraine: 596 killed, incl 43 children; 1,067 injured, incl 57 children, mostly caused by shelling &amp; airstrikes. Actual toll is much higher. Full update  https://t.co/JWDTe3ya79  https://t.co/TSgScJUr70\n",
      "<re.Match object; span=(0, 310), match='From 24 Feb—12 March, we recorded 1,663 civilian >\n",
      "2022-03-12 00:00:00\n",
      "From 24 Feb—13 March, we recorded 1,761 civilian casualties in context of Russia’s armed attack against #Ukraine: 636 killed, incl 46 children; 1,125 injured, incl 62 children, mostly caused by shelling &amp; airstrikes. Actual toll is much higher. Full update  https://t.co/v46YFcFFBn  https://t.co/v00LIMWCjN\n",
      "<re.Match object; span=(0, 310), match='From 24 Feb—13 March, we recorded 1,761 civilian >\n",
      "2022-03-13 00:00:00\n",
      "From 24 Feb—14 March, we recorded 1,834 civilian casualties in context of Russia’s armed attack against #Ukraine: 691 killed, incl 48 children; 1,143 injured, incl 62 children, mostly caused by shelling &amp; airstrikes. Actual toll is much higher. Full update  https://t.co/oe9HqHat5F  https://t.co/Tg3dGJRk8w\n",
      "<re.Match object; span=(0, 310), match='From 24 Feb—14 March, we recorded 1,834 civilian >\n",
      "2022-03-14 00:00:00\n",
      "From 24 Feb—15 March, we recorded 1,900 civilian casualties in context of Russia’s armed attack against #Ukraine: 726 killed, incl 52 children; 1,174 injured, incl 63 children, mostly caused by shelling &amp; airstrikes. Actual toll is much higher. Full update  https://t.co/huEIakEoI6  https://t.co/zKlUmyt35V\n",
      "<re.Match object; span=(0, 310), match='From 24 Feb—15 March, we recorded 1,900 civilian >\n",
      "2022-03-15 00:00:00\n",
      "From 24 Feb—16 March, we recorded 2,032 civilian casualties in context of Russia’s armed attack against #Ukraine: 780 killed, incl 58 children; 1,252 injured, incl 68 children, mostly caused by shelling &amp; airstrikes. Actual toll is much higher. Full update  https://t.co/eUsyfp56zn  https://t.co/Xw2WMOnYM4\n",
      "<re.Match object; span=(0, 310), match='From 24 Feb—16 March, we recorded 2,032 civilian >\n",
      "2022-03-16 00:00:00\n",
      "From 24 Feb—17 March, we recorded 2,149 civilian casualties in context of Russia’s armed attack against #Ukraine: 816 killed, incl 59 children; 1,333 injured, incl 74 children, mostly caused by shelling &amp; airstrikes. Actual toll is much higher. Full update  https://t.co/VvH1mayqsP  https://t.co/rfBMmSgdwv\n",
      "<re.Match object; span=(0, 310), match='From 24 Feb—17 March, we recorded 2,149 civilian >\n",
      "2022-03-17 00:00:00\n",
      "From 24 Feb—18 March, we recorded 2,246 civilian casualties in context of Russia’s armed attack against #Ukraine: 847 killed, incl 64 children; 1,399 injured, incl 78 children, mostly caused by shelling &amp; airstrikes. Actual toll is much higher. Full update  https://t.co/g7O1JLgmky  https://t.co/aN399jikz5\n",
      "<re.Match object; span=(0, 310), match='From 24 Feb—18 March, we recorded 2,246 civilian >\n",
      "2022-03-18 00:00:00\n",
      "From 24 Feb—19 March, we recorded 2,361 civilian casualties in context of Russia’s armed attack against #Ukraine: 902 killed, incl 75 children; 1,459 injured, incl 98 children, mostly caused by shelling &amp; airstrikes. Actual toll is much higher. Full update  https://t.co/qOWK0enj2H  https://t.co/LbY7zVDHs3\n",
      "<re.Match object; span=(0, 310), match='From 24 Feb—19 March, we recorded 2,361 civilian >\n",
      "2022-03-19 00:00:00\n",
      "From 24 Feb—20 March, we recorded 2,421 civilian casualties in context of Russia’s armed attack against #Ukraine: 925 killed, incl 75 children; 1,496 injured, incl 99 children, mostly caused by shelling &amp; airstrikes. Actual toll is much higher. Full update  https://t.co/URFbgteCm2  https://t.co/ggtKC2zt30\n",
      "<re.Match object; span=(0, 310), match='From 24 Feb—20 March, we recorded 2,421 civilian >\n",
      "2022-03-20 00:00:00\n",
      "From 24 Feb—21 March, we recorded 2,510 civilian casualties in context of Russia’s armed attack against #Ukraine: 953 killed, incl 78 children; 1,557 injured, incl 105 children, mostly caused by shelling &amp;airstrikes. Actual toll is much higher. Full update  https://t.co/c3NMbijjrl  https://t.co/dYaKMnJ0nn\n",
      "<re.Match object; span=(0, 310), match='From 24 Feb—21 March, we recorded 2,510 civilian >\n",
      "2022-03-21 00:00:00\n",
      "From 24 Feb—22 March, we recorded 2,571 civilian casualties in context of Russia’s armed attack against #Ukraine: 977 killed, incl 81 children; 1,594 injured, incl 108 children, mostly caused by shelling &amp;airstrikes. Actual toll is much higher. Full update  https://t.co/XtK7Da43gb  https://t.co/wkVeeVdaKD\n",
      "<re.Match object; span=(0, 310), match='From 24 Feb—22 March, we recorded 2,571 civilian >\n",
      "2022-03-22 00:00:00\n",
      "From 24 Feb—23 March, we recorded 2,685 civilian casualties in context of Russia’s armed attack against #Ukraine: 1,035 killed, incl 90 children; 1,650 injured, incl 118 children, mostly caused by shelling &amp; airstrikes. Actual toll is much higher. Update  https://t.co/caWUvXe0uL  https://t.co/HrwhruLYb9\n",
      "<re.Match object; span=(0, 308), match='From 24 Feb—23 March, we recorded 2,685 civilian >\n",
      "2022-03-23 00:00:00\n",
      "From 24 Feb—24 March, we recorded 2,788 civilian casualties in context of Russia’s armed attack against #Ukraine: 1,081 killed, incl 93 children; 1,707 injured, incl 120 children, mostly caused by shelling &amp; airstrikes. Actual toll is much higher. Update  https://t.co/fgueJRLL28  https://t.co/JddLAXbOTT\n",
      "<re.Match object; span=(0, 308), match='From 24 Feb—24 March, we recorded 2,788 civilian >\n",
      "2022-03-24 00:00:00\n",
      "From 24 Feb—25 March, we recorded 2,858 civilian casualties in context of Russia’s armed attack against #Ukraine: 1,104 killed, incl 96 children; 1,754 injured, incl 124 children, mostly caused by shelling &amp; airstrikes. Actual toll is much higher. Update  https://t.co/ma8hIHA0t2  https://t.co/UIRSPQXq6H\n",
      "<re.Match object; span=(0, 308), match='From 24 Feb—25 March, we recorded 2,858 civilian >\n",
      "2022-03-25 00:00:00\n",
      "From 24 Feb—26 March, we recorded 2,909 civilian casualties in context of Russia’s armed attack against #Ukraine:  1,119 killed, incl 99 children; 1,790 injured, incl 126 children, mostly caused by shelling &amp; airstrikes. Actual toll is much higher. Update  https://t.co/LlMm7iUqsr  https://t.co/OcyhxSUrj3\n",
      "<re.Match object; span=(0, 309), match='From 24 Feb—26 March, we recorded 2,909 civilian >\n",
      "2022-03-26 00:00:00\n",
      "From 24 Feb—27 March, we recorded 2,975 civilian casualties in context of Russia’s armed attack against #Ukraine:  1,151 killed, incl 103 children; 1,824 injured, incl 133 children, mostly caused by shelling &amp; airstrikes. Actual toll is much higher. Update  https://t.co/vy2AXbIbL5  https://t.co/TGSfcKH70O\n",
      "<re.Match object; span=(0, 310), match='From 24 Feb—27 March, we recorded 2,975 civilian >\n",
      "2022-03-27 00:00:00\n",
      "From 24 Feb—28 March, we recorded 3,039 civilian casualties in context of Russia’s armed attack against #Ukraine:  1,179 killed, incl 104 children; 1,860 injured, incl 134 children, mostly caused by shelling &amp; airstrikes. Actual toll is much higher. Update  https://t.co/yQtYq9BhIK  https://t.co/hMgfMGrmjn\n",
      "<re.Match object; span=(0, 310), match='From 24 Feb—28 March, we recorded 3,039 civilian >\n",
      "2022-03-28 00:00:00\n",
      "From 24 Feb—29 March, we recorded 3,090 civilian casualties in context of Russia’s armed attack against #Ukraine:  1,189 killed, incl 108 children; 1,901 injured, incl 142 children, mostly caused by shelling &amp; airstrikes. Actual toll is much higher. Update  https://t.co/v7O6zlBB4g  https://t.co/1HdyiW0kLb\n",
      "<re.Match object; span=(0, 310), match='From 24 Feb—29 March, we recorded 3,090 civilian >\n",
      "2022-03-29 00:00:00\n",
      "From 24 Feb—30 March, we recorded 3,167 civilian casualties in context of Russia’s armed attack against #Ukraine:  1,232 killed, incl 112 children; 1,935 injured, incl 149 children, mostly caused by shelling &amp; airstrikes. Actual toll is much higher. Update  https://t.co/ntiGnznXGg  https://t.co/UQYU6TrSy0\n",
      "<re.Match object; span=(0, 310), match='From 24 Feb—30 March, we recorded 3,167 civilian >\n",
      "2022-03-30 00:00:00\n",
      "From 24 Feb—31 March, we recorded 3,257 civilian casualties in context of Russia’s armed attack against #Ukraine: 1,276 killed, incl 115 children; 1,981 injured, incl 160 children, mostly caused by shelling &amp; airstrikes. Actual toll is much higher. Update  https://t.co/oN0OPIqGcK  https://t.co/8AqIx118zr\n",
      "<re.Match object; span=(0, 309), match='From 24 Feb—31 March, we recorded 3,257 civilian >\n",
      "2022-03-31 00:00:00\n",
      "From 24 Feb—1 April, we recorded 3,342 civilian casualties in context of Russia’s armed attack against #Ukraine: 1,325 killed, incl 120 children; 2,017 injured, incl 168 children, mostly caused by shelling &amp; airstrikes. Actual toll is much higher. Update  https://t.co/sNdyEmc0BC  https://t.co/O4CBI3dfZ6\n",
      "<re.Match object; span=(0, 308), match='From 24 Feb—1 April, we recorded 3,342 civilian c>\n",
      "2022-04-01 00:00:00\n",
      "From 24 Feb—2 April, we recorded 3,455 civilian casualties in context of Russia’s armed attack against #Ukraine: 1,417 killed, incl 121 children; 2,038 injured, incl 171 children, mostly caused by shelling &amp; airstrikes. Actual toll is much higher. Update  https://t.co/hA17imOEQW  https://t.co/5F56ZGK9Jo\n",
      "<re.Match object; span=(0, 308), match='From 24 Feb—2 April, we recorded 3,455 civilian c>\n",
      "2022-04-02 00:00:00\n",
      "From 24 Feb—3 April, we recorded 3,527 civilian casualties in context of Russia’s armed attack against #Ukraine: 1,430 killed, incl 121 children; 2,097 injured, incl 178 children, mostly caused by shelling &amp; airstrikes. Actual toll is much higher. Update  https://t.co/8pdu4jMiz3  https://t.co/Upgrs9FcDL\n",
      "<re.Match object; span=(0, 308), match='From 24 Feb—3 April, we recorded 3,527 civilian c>\n",
      "2022-04-03 00:00:00\n",
      "From 24 Feb—4 April, we recorded 3,675 civilian casualties in context of Russia’s armed attack against #Ukraine: 1,480 killed, incl 123 children; 2,195 injured, incl 183 children, mostly caused by shelling &amp; airstrikes. Actual toll is much higher. Update  https://t.co/ezue4coEeF  https://t.co/7dZvJAsbfY\n",
      "<re.Match object; span=(0, 308), match='From 24 Feb—4 April, we recorded 3,675 civilian c>\n",
      "2022-04-04 00:00:00\n",
      "From 24 Feb—5 April, we recorded 3,776 civilian casualties in context of Russia’s armed attack against #Ukraine: 1,563 killed, incl 130 children; 2,213 injured, incl 188 children, mostly caused by shelling &amp; airstrikes. Actual toll is much higher. Update  https://t.co/vwkx5vqofP  https://t.co/OMRgAIM9r1\n",
      "<re.Match object; span=(0, 308), match='From 24 Feb—5 April, we recorded 3,776 civilian c>\n",
      "2022-04-05 00:00:00\n",
      "From 24 Feb—6 April, we recorded 3,838 civilian casualties in context of Russia’s armed attack against #Ukraine: 1,611 killed, incl 131 children; 2,227 injured, incl 191 children, mostly caused by shelling &amp; airstrikes. Actual toll is much higher. Update  https://t.co/uC5RRtZGZm  https://t.co/5RtMVniqJ6\n",
      "<re.Match object; span=(0, 308), match='From 24 Feb—6 April, we recorded 3,838 civilian c>\n",
      "2022-04-06 00:00:00\n",
      "From 24 Feb—7 April, we recorded 3,893 civilian casualties in context of Russia’s armed attack against #Ukraine: 1,626 killed, incl 132 children; 2,267 injured, incl 197 children, mostly caused by shelling &amp; airstrikes. Actual toll is much higher. Update  https://t.co/i81uB19lMg  https://t.co/0KY1vcfzFE\n",
      "<re.Match object; span=(0, 308), match='From 24 Feb—7 April, we recorded 3,893 civilian c>\n",
      "2022-04-07 00:00:00\n",
      "From 24 Feb—8 April, we recorded 4,149 civilian casualties in context of Russia’s armed attack against #Ukraine: 1,766 killed, incl 139 children; 2,383 injured, incl 215 children, mostly caused by shelling &amp; airstrikes. Actual toll is much higher. Update  https://t.co/UUICVnvMoU  https://t.co/8pbGhDUk4Y\n",
      "<re.Match object; span=(0, 308), match='From 24 Feb—8 April, we recorded 4,149 civilian c>\n",
      "2022-04-08 00:00:00\n",
      "From 24 Feb—9 April, we recorded 4,232 civilian casualties in context of Russia’s armed attack against #Ukraine: 1,793 killed, incl 142 children; 2,439 injured, incl 229 children, mostly caused by shelling &amp; airstrikes. Actual toll is much higher. Update  https://t.co/NWq032Vos7  https://t.co/vpqTAZBUi7\n",
      "<re.Match object; span=(0, 308), match='From 24 Feb—9 April, we recorded 4,232 civilian c>\n",
      "2022-04-09 00:00:00\n",
      "From 24 Feb—10 April, we recorded 4,335 civilian casualties in context of Russia’s armed attack against #Ukraine: 1,842 killed, incl 148 children; 2,493 injured, incl 233 children, mostly caused by shelling &amp; airstrikes. Actual toll is much higher. Update  https://t.co/NcKv2n9EWe  https://t.co/tz6rwofY8B\n",
      "<re.Match object; span=(0, 309), match='From 24 Feb—10 April, we recorded 4,335 civilian >\n",
      "2022-04-10 00:00:00\n",
      "From 24 Feb—11 April, we recorded 4,450 civilian casualties in context of Russia’s armed attack against #Ukraine: 1,892 killed, incl 153 children; 2,558 injured, incl 246 children, mostly caused by shelling &amp; airstrikes. Actual toll is much higher. Update  https://t.co/Dqfj4uw790  https://t.co/SGPBsSlYVt\n",
      "<re.Match object; span=(0, 309), match='From 24 Feb—11 April, we recorded 4,450 civilian >\n",
      "2022-04-11 00:00:00\n",
      "From 24 Feb—12 April, we recorded 4,521 civilian casualties in context of Russia’s armed attack against #Ukraine: 1,932 killed, incl 157 children; 2,589 injured, incl 250 children, mostly caused by shelling &amp; airstrikes. Actual toll is much higher. Update  https://t.co/wfZlrt6gac  https://t.co/yprQ00IkGD\n",
      "<re.Match object; span=(0, 309), match='From 24 Feb—12 April, we recorded 4,521 civilian >\n",
      "2022-04-12 00:00:00\n",
      "From 24 Feb—13 April, we recorded 4,577 civilian casualties in context of Russia’s armed attack against #Ukraine: 1,964 killed, incl 161 children; 2,613 injured, incl 252 children, mostly caused by shelling &amp; airstrikes. Actual toll is much higher. Update  https://t.co/LKxKXh5B7M  https://t.co/Pv9RjamfsY\n",
      "<re.Match object; span=(0, 309), match='From 24 Feb—13 April, we recorded 4,577 civilian >\n",
      "2022-04-13 00:00:00\n",
      "From 24 Feb—14 April, we recorded 4,633 civilian casualties in context of Russia’s armed attack against #Ukraine: 1,982 killed, incl 162 children; 2,651 injured, incl 256 children, mostly caused by shelling &amp; airstrikes. Actual toll is much higher. Update  https://t.co/n7A2wjzagu  https://t.co/r8lRN77gQb\n",
      "<re.Match object; span=(0, 309), match='From 24 Feb—14 April, we recorded 4,633 civilian >\n",
      "2022-04-14 00:00:00\n",
      "From 24 Feb—17 April, we recorded 4,890 civilian casualties in context of Russia’s armed attack against #Ukraine: 2,072 killed, incl 169 children; 2,818 injured, incl 272 children, mostly caused by shelling &amp; airstrikes. Actual toll is much higher. Update  https://t.co/3oZzo610zT  https://t.co/dAH9CnxN2c\n",
      "<re.Match object; span=(0, 309), match='From 24 Feb—17 April, we recorded 4,890 civilian >\n",
      "2022-04-17 00:00:00\n",
      "From 24 Feb—18 April, we recorded 4,966 civilian casualties in context of Russia’s armed attack against #Ukraine: 2,104 killed, incl 170 children; 2,862 injured, incl 277 children, mostly caused by shelling &amp; airstrikes. Actual toll is much higher. Update  https://t.co/tbe96KsZ0i  https://t.co/b6VQ7JH7zq\n",
      "<re.Match object; span=(0, 309), match='From 24 Feb—18 April, we recorded 4,966 civilian >\n",
      "2022-04-18 00:00:00\n",
      "From 24 Feb—19 April, we recorded 5,121 civilian casualties in context of Russia’s armed attack against #Ukraine: 2,224 killed, incl 173 children; 2,897 injured, incl 280 children, mostly caused by shelling &amp; airstrikes. Actual toll is much higher. Update  https://t.co/YeYLpe9YDE  https://t.co/MXU8c8Aqp8\n",
      "<re.Match object; span=(0, 309), match='From 24 Feb—19 April, we recorded 5,121 civilian >\n",
      "2022-04-19 00:00:00\n",
      "From 24 Feb—20 April, we recorded 5,264 civilian casualties in context of Russia’s armed attack against #Ukraine: 2,345 killed, incl 177 children; 2,919 injured, incl 285 children, mostly caused by shelling &amp; airstrikes. Actual toll is much higher. Update  https://t.co/1NdZkmO981  https://t.co/inFFtZhZ6l\n",
      "<re.Match object; span=(0, 309), match='From 24 Feb—20 April, we recorded 5,264 civilian >\n",
      "2022-04-20 00:00:00\n",
      "From 24 Feb—21 April, we recorded 5,381 civilian casualties in context of Russia’s armed attack against #Ukraine: 2,435 killed, incl 184 children; 2,946 injured, incl 286 children, mostly caused by shelling &amp; airstrikes. Actual toll is much higher. Update  https://t.co/sByIM7Jall  https://t.co/4wXEHEt8XH\n",
      "<re.Match object; span=(0, 309), match='From 24 Feb—21 April, we recorded 5,381 civilian >\n",
      "2022-04-21 00:00:00\n",
      "From 24 Feb—24 April, we recorded 5,718 civilian casualties in context of Russia’s armed attack against #Ukraine: 2,665 killed, incl 195 children; 3,050 injured, incl 296 children, mostly caused by shelling &amp; airstrikes. Actual toll is much higher. More -&gt;  https://t.co/wHNbXdfvY7  https://t.co/fFQM8Aoj56\n",
      "<re.Match object; span=(0, 313), match='From 24 Feb—24 April, we recorded 5,718 civilian >\n",
      "2022-04-24 00:00:00\n",
      "From 24 Feb—26 April, we recorded 5,939 civilian casualties in context of Russia’s armed attack against #Ukraine: 2,787 killed, incl 202 children; 3,152 injured, incl 302 children, mostly caused by shelling &amp; airstrikes. Actual toll is much higher. More -&gt;  https://t.co/rvcoq7ocNS  https://t.co/txupuiWSFV\n",
      "<re.Match object; span=(0, 313), match='From 24 Feb—26 April, we recorded 5,939 civilian >\n",
      "2022-04-26 00:00:00\n"
     ]
    }
   ],
   "source": [
    "for tweet in tweets[common_beginning_mask].tweet:\n",
    "    result = re.match(casualties_information_pattern, str(tweet))\n",
    "    if result is None:\n",
    "        continue\n",
    "    date_format = \"%d %B %y\"\n",
    "    print(tweet)\n",
    "    date_result = re.match(date_pattern, str(tweet))\n",
    "    print(date_result)\n",
    "    try:\n",
    "        day = datetime.datetime.strptime(date_result.group(1) + \" \" + date_result.group(2) + \" 22\", date_format)\n",
    "        print(day)\n",
    "    except Exception:\n",
    "        print(\"ec\")\n",
    "        continue\n",
    "    casualties.loc[day, \"civilians_killed\"] = string_number_to_int(result.group(1))\n",
    "    casualties.loc[day, \"civilians_injured\"] = string_number_to_int(result.group(2))\n",
    "    casualties.loc[day, \"children_killed\"] = string_number_to_int(result.group(3))\n",
    "    casualties.loc[day, \"children_injured\"] = string_number_to_int(result.group(4))"
   ],
   "metadata": {
    "collapsed": false,
    "pycharm": {
     "name": "#%%\n"
    }
   }
  },
  {
   "cell_type": "code",
   "execution_count": 54,
   "outputs": [
    {
     "data": {
      "text/plain": "            civilians_killed  civilians_injured  children_killed  \\\n2022-02-24                 0                  0                0   \n2022-02-25                 0                  0                0   \n2022-02-26                 0                  0                0   \n2022-02-27                 0                  0                0   \n2022-02-28                 0                  0                0   \n...                      ...                ...              ...   \n2022-04-28                 0                  0                0   \n2022-04-29                 0                  0                0   \n2022-04-30                 0                  0                0   \n2022-05-01                 0                  0                0   \n2022-05-02                 0                  0                0   \n\n            children_injured  \n2022-02-24                 0  \n2022-02-25                 0  \n2022-02-26                 0  \n2022-02-27                 0  \n2022-02-28                 0  \n...                      ...  \n2022-04-28                 0  \n2022-04-29                 0  \n2022-04-30                 0  \n2022-05-01                 0  \n2022-05-02                 0  \n\n[68 rows x 4 columns]",
      "text/html": "<div>\n<style scoped>\n    .dataframe tbody tr th:only-of-type {\n        vertical-align: middle;\n    }\n\n    .dataframe tbody tr th {\n        vertical-align: top;\n    }\n\n    .dataframe thead th {\n        text-align: right;\n    }\n</style>\n<table border=\"1\" class=\"dataframe\">\n  <thead>\n    <tr style=\"text-align: right;\">\n      <th></th>\n      <th>civilians_killed</th>\n      <th>civilians_injured</th>\n      <th>children_killed</th>\n      <th>children_injured</th>\n    </tr>\n  </thead>\n  <tbody>\n    <tr>\n      <th>2022-02-24</th>\n      <td>0</td>\n      <td>0</td>\n      <td>0</td>\n      <td>0</td>\n    </tr>\n    <tr>\n      <th>2022-02-25</th>\n      <td>0</td>\n      <td>0</td>\n      <td>0</td>\n      <td>0</td>\n    </tr>\n    <tr>\n      <th>2022-02-26</th>\n      <td>0</td>\n      <td>0</td>\n      <td>0</td>\n      <td>0</td>\n    </tr>\n    <tr>\n      <th>2022-02-27</th>\n      <td>0</td>\n      <td>0</td>\n      <td>0</td>\n      <td>0</td>\n    </tr>\n    <tr>\n      <th>2022-02-28</th>\n      <td>0</td>\n      <td>0</td>\n      <td>0</td>\n      <td>0</td>\n    </tr>\n    <tr>\n      <th>...</th>\n      <td>...</td>\n      <td>...</td>\n      <td>...</td>\n      <td>...</td>\n    </tr>\n    <tr>\n      <th>2022-04-28</th>\n      <td>0</td>\n      <td>0</td>\n      <td>0</td>\n      <td>0</td>\n    </tr>\n    <tr>\n      <th>2022-04-29</th>\n      <td>0</td>\n      <td>0</td>\n      <td>0</td>\n      <td>0</td>\n    </tr>\n    <tr>\n      <th>2022-04-30</th>\n      <td>0</td>\n      <td>0</td>\n      <td>0</td>\n      <td>0</td>\n    </tr>\n    <tr>\n      <th>2022-05-01</th>\n      <td>0</td>\n      <td>0</td>\n      <td>0</td>\n      <td>0</td>\n    </tr>\n    <tr>\n      <th>2022-05-02</th>\n      <td>0</td>\n      <td>0</td>\n      <td>0</td>\n      <td>0</td>\n    </tr>\n  </tbody>\n</table>\n<p>68 rows × 4 columns</p>\n</div>"
     },
     "execution_count": 54,
     "metadata": {},
     "output_type": "execute_result"
    }
   ],
   "source": [
    "casualties"
   ],
   "metadata": {
    "collapsed": false,
    "pycharm": {
     "name": "#%%\n"
    }
   }
  },
  {
   "cell_type": "code",
   "execution_count": 55,
   "outputs": [],
   "source": [
    "casualties.to_excel(\"./../data/casualtiesUNHumanRightsUATweets.xlsx\")"
   ],
   "metadata": {
    "collapsed": false,
    "pycharm": {
     "name": "#%%\n"
    }
   }
  },
  {
   "cell_type": "code",
   "execution_count": 55,
   "outputs": [],
   "source": [],
   "metadata": {
    "collapsed": false,
    "pycharm": {
     "name": "#%%\n"
    }
   }
  },
  {
   "cell_type": "code",
   "execution_count": null,
   "outputs": [],
   "source": [],
   "metadata": {
    "collapsed": false,
    "pycharm": {
     "name": "#%%\n"
    }
   }
  },
  {
   "cell_type": "code",
   "execution_count": null,
   "outputs": [],
   "source": [],
   "metadata": {
    "collapsed": false,
    "pycharm": {
     "name": "#%%\n"
    }
   }
  },
  {
   "cell_type": "code",
   "execution_count": null,
   "outputs": [],
   "source": [],
   "metadata": {
    "collapsed": false,
    "pycharm": {
     "name": "#%%\n"
    }
   }
  }
 ],
 "metadata": {
  "kernelspec": {
   "display_name": "Python 3",
   "language": "python",
   "name": "python3"
  },
  "language_info": {
   "codemirror_mode": {
    "name": "ipython",
    "version": 2
   },
   "file_extension": ".py",
   "mimetype": "text/x-python",
   "name": "python",
   "nbconvert_exporter": "python",
   "pygments_lexer": "ipython2",
   "version": "2.7.6"
  }
 },
 "nbformat": 4,
 "nbformat_minor": 0
}