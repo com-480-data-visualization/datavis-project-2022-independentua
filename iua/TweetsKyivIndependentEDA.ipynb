{
 "cells": [
  {
   "cell_type": "code",
   "execution_count": 1,
   "metadata": {},
   "outputs": [],
   "source": [
    "import pandas as pd\n",
    "import spacy\n",
    "\n",
    "from iua.lexical import determine_keywords_count, fix_apostrophes"
   ]
  },
  {
   "cell_type": "markdown",
   "metadata": {
    "pycharm": {
     "name": "#%% md\n"
    }
   },
   "source": [
    "# Load the data"
   ]
  },
  {
   "cell_type": "code",
   "execution_count": 14,
   "metadata": {
    "pycharm": {
     "name": "#%%\n"
    }
   },
   "outputs": [
    {
     "data": {
      "text/plain": "                         conversation_id    created_at                 date  \\\nid                                                                            \n1488303588229230594  1488303588229230594  1.643674e+12  2022-02-01 01:10:01   \n1488540215018938372  1488540215018938372  1.643731e+12  2022-02-01 16:50:17   \n1488551955668611076  1488551955668611076  1.643733e+12  2022-02-01 17:36:56   \n1488579472165163014  1488579472165163014  1.643740e+12  2022-02-01 19:26:17   \n1488603295593766918  1488603295593766918  1.643746e+12  2022-02-01 21:00:57   \n\n                     timezone  place  \\\nid                                     \n1488303588229230594       200    NaN   \n1488540215018938372       200    NaN   \n1488551955668611076       200    NaN   \n1488579472165163014       200    NaN   \n1488603295593766918       200    NaN   \n\n                                                                 tweet  \\\nid                                                                       \n1488303588229230594  The UN Security Council meeting on threats to ...   \n1488540215018938372  According to Foreign Minister Dmytro Kuleba, t...   \n1488551955668611076  The document, signed to “bolster the nation’s ...   \n1488579472165163014  For the cargo pallets on the runway contained ...   \n1488603295593766918  According to the Bureau, the searches were par...   \n\n                    language hashtags cashtags              user_id  ...  geo  \\\nid                                                                   ...        \n1488303588229230594       en       []       []  1462548977367359490  ...  NaN   \n1488540215018938372       en       []       []  1462548977367359490  ...  NaN   \n1488551955668611076       en       []       []  1462548977367359490  ...  NaN   \n1488579472165163014       en       []       []  1462548977367359490  ...  NaN   \n1488603295593766918       en       []       []  1462548977367359490  ...  NaN   \n\n                    source user_rt_id  user_rt  retweet_id reply_to  \\\nid                                                                    \n1488303588229230594    NaN        NaN      NaN         NaN       []   \n1488540215018938372    NaN        NaN      NaN         NaN       []   \n1488551955668611076    NaN        NaN      NaN         NaN       []   \n1488579472165163014    NaN        NaN      NaN         NaN       []   \n1488603295593766918    NaN        NaN      NaN         NaN       []   \n\n                    retweet_date translate  trans_src trans_dest  \nid                                                                \n1488303588229230594          NaN       NaN        NaN        NaN  \n1488540215018938372          NaN       NaN        NaN        NaN  \n1488551955668611076          NaN       NaN        NaN        NaN  \n1488579472165163014          NaN       NaN        NaN        NaN  \n1488603295593766918          NaN       NaN        NaN        NaN  \n\n[5 rows x 37 columns]",
      "text/html": "<div>\n<style scoped>\n    .dataframe tbody tr th:only-of-type {\n        vertical-align: middle;\n    }\n\n    .dataframe tbody tr th {\n        vertical-align: top;\n    }\n\n    .dataframe thead th {\n        text-align: right;\n    }\n</style>\n<table border=\"1\" class=\"dataframe\">\n  <thead>\n    <tr style=\"text-align: right;\">\n      <th></th>\n      <th>conversation_id</th>\n      <th>created_at</th>\n      <th>date</th>\n      <th>timezone</th>\n      <th>place</th>\n      <th>tweet</th>\n      <th>language</th>\n      <th>hashtags</th>\n      <th>cashtags</th>\n      <th>user_id</th>\n      <th>...</th>\n      <th>geo</th>\n      <th>source</th>\n      <th>user_rt_id</th>\n      <th>user_rt</th>\n      <th>retweet_id</th>\n      <th>reply_to</th>\n      <th>retweet_date</th>\n      <th>translate</th>\n      <th>trans_src</th>\n      <th>trans_dest</th>\n    </tr>\n    <tr>\n      <th>id</th>\n      <th></th>\n      <th></th>\n      <th></th>\n      <th></th>\n      <th></th>\n      <th></th>\n      <th></th>\n      <th></th>\n      <th></th>\n      <th></th>\n      <th></th>\n      <th></th>\n      <th></th>\n      <th></th>\n      <th></th>\n      <th></th>\n      <th></th>\n      <th></th>\n      <th></th>\n      <th></th>\n      <th></th>\n    </tr>\n  </thead>\n  <tbody>\n    <tr>\n      <th>1488303588229230594</th>\n      <td>1488303588229230594</td>\n      <td>1.643674e+12</td>\n      <td>2022-02-01 01:10:01</td>\n      <td>200</td>\n      <td>NaN</td>\n      <td>The UN Security Council meeting on threats to ...</td>\n      <td>en</td>\n      <td>[]</td>\n      <td>[]</td>\n      <td>1462548977367359490</td>\n      <td>...</td>\n      <td>NaN</td>\n      <td>NaN</td>\n      <td>NaN</td>\n      <td>NaN</td>\n      <td>NaN</td>\n      <td>[]</td>\n      <td>NaN</td>\n      <td>NaN</td>\n      <td>NaN</td>\n      <td>NaN</td>\n    </tr>\n    <tr>\n      <th>1488540215018938372</th>\n      <td>1488540215018938372</td>\n      <td>1.643731e+12</td>\n      <td>2022-02-01 16:50:17</td>\n      <td>200</td>\n      <td>NaN</td>\n      <td>According to Foreign Minister Dmytro Kuleba, t...</td>\n      <td>en</td>\n      <td>[]</td>\n      <td>[]</td>\n      <td>1462548977367359490</td>\n      <td>...</td>\n      <td>NaN</td>\n      <td>NaN</td>\n      <td>NaN</td>\n      <td>NaN</td>\n      <td>NaN</td>\n      <td>[]</td>\n      <td>NaN</td>\n      <td>NaN</td>\n      <td>NaN</td>\n      <td>NaN</td>\n    </tr>\n    <tr>\n      <th>1488551955668611076</th>\n      <td>1488551955668611076</td>\n      <td>1.643733e+12</td>\n      <td>2022-02-01 17:36:56</td>\n      <td>200</td>\n      <td>NaN</td>\n      <td>The document, signed to “bolster the nation’s ...</td>\n      <td>en</td>\n      <td>[]</td>\n      <td>[]</td>\n      <td>1462548977367359490</td>\n      <td>...</td>\n      <td>NaN</td>\n      <td>NaN</td>\n      <td>NaN</td>\n      <td>NaN</td>\n      <td>NaN</td>\n      <td>[]</td>\n      <td>NaN</td>\n      <td>NaN</td>\n      <td>NaN</td>\n      <td>NaN</td>\n    </tr>\n    <tr>\n      <th>1488579472165163014</th>\n      <td>1488579472165163014</td>\n      <td>1.643740e+12</td>\n      <td>2022-02-01 19:26:17</td>\n      <td>200</td>\n      <td>NaN</td>\n      <td>For the cargo pallets on the runway contained ...</td>\n      <td>en</td>\n      <td>[]</td>\n      <td>[]</td>\n      <td>1462548977367359490</td>\n      <td>...</td>\n      <td>NaN</td>\n      <td>NaN</td>\n      <td>NaN</td>\n      <td>NaN</td>\n      <td>NaN</td>\n      <td>[]</td>\n      <td>NaN</td>\n      <td>NaN</td>\n      <td>NaN</td>\n      <td>NaN</td>\n    </tr>\n    <tr>\n      <th>1488603295593766918</th>\n      <td>1488603295593766918</td>\n      <td>1.643746e+12</td>\n      <td>2022-02-01 21:00:57</td>\n      <td>200</td>\n      <td>NaN</td>\n      <td>According to the Bureau, the searches were par...</td>\n      <td>en</td>\n      <td>[]</td>\n      <td>[]</td>\n      <td>1462548977367359490</td>\n      <td>...</td>\n      <td>NaN</td>\n      <td>NaN</td>\n      <td>NaN</td>\n      <td>NaN</td>\n      <td>NaN</td>\n      <td>[]</td>\n      <td>NaN</td>\n      <td>NaN</td>\n      <td>NaN</td>\n      <td>NaN</td>\n    </tr>\n  </tbody>\n</table>\n<p>5 rows × 37 columns</p>\n</div>"
     },
     "execution_count": 14,
     "metadata": {},
     "output_type": "execute_result"
    }
   ],
   "source": [
    "tweets_path = \"./../data/KyivIndependent_tweets.csv\"\n",
    "tweets = pd.read_csv(tweets_path, index_col=0)\n",
    "tweets.head()"
   ]
  },
  {
   "cell_type": "code",
   "execution_count": 15,
   "outputs": [],
   "source": [
    "tweets = fix_apostrophes(tweets)"
   ],
   "metadata": {
    "collapsed": false,
    "pycharm": {
     "name": "#%%\n"
    }
   }
  },
  {
   "cell_type": "code",
   "execution_count": 68,
   "metadata": {
    "pycharm": {
     "name": "#%%\n"
    }
   },
   "outputs": [],
   "source": [
    "death_keywords = [\"kill\", \"death\", \"killed\", \"deaths\", \"toll\", \"killings\"]\n",
    "injured_keywords = [\"wound\", \"wounded\", \"injure\"]\n",
    "casualties_keywords = death_keywords + injured_keywords\n",
    "kidnapping_keywords = [\"kidnap\", \"kidnapping\", \"kidnapped\"]\n",
    "rape_keywords = [\"rape\", \"rapist\"]"
   ]
  },
  {
   "cell_type": "code",
   "execution_count": 69,
   "outputs": [],
   "source": [
    "def collect_lemmas(text: str, nlp):\n",
    "    doc = nlp(text)\n",
    "    lemmas = [token.lemma_ for token in doc]\n",
    "    return lemmas"
   ],
   "metadata": {
    "collapsed": false,
    "pycharm": {
     "name": "#%%\n"
    }
   }
  },
  {
   "cell_type": "code",
   "execution_count": 70,
   "outputs": [],
   "source": [
    "nlp = spacy.load(\"en_core_web_sm\")\n",
    "tweet_lemmas = tweets[\"tweet\"].apply(collect_lemmas, args=(nlp,))"
   ],
   "metadata": {
    "collapsed": false,
    "pycharm": {
     "name": "#%%\n"
    }
   }
  },
  {
   "cell_type": "code",
   "execution_count": 71,
   "outputs": [
    {
     "data": {
      "text/plain": "id\n1488303588229230594    [the, UN, Security, Council, meeting, on, thre...\n1488540215018938372    [accord, to, Foreign, Minister, Dmytro, Kuleba...\n1488551955668611076    [the, document, ,, sign, to, \", bolster, the, ...\n1488579472165163014    [for, the, cargo, pallet, on, the, runway, con...\n1488603295593766918    [accord, to, the, Bureau, ,, the, search, be, ...\n                                             ...                        \n1509965911192711172    [⚡, ️, state, budget, collect, $, 3.5, billion...\n1509969228350296069    [⚡, ️, Metsola, :, Ukraine, 's, candidacy, can...\n1509979949494583314    [European, Parliament, President, Roberta, Met...\n1509990736011350019    [⚡, ️, Ukraine, 's, Air, Force, :, russian, ai...\n1509995123534450689    [⚡, ️, government, increase, army, 's, reserve...\nName: tweet, Length: 2340, dtype: object"
     },
     "execution_count": 71,
     "metadata": {},
     "output_type": "execute_result"
    }
   ],
   "source": [
    "tweet_lemmas"
   ],
   "metadata": {
    "collapsed": false,
    "pycharm": {
     "name": "#%%\n"
    }
   }
  },
  {
   "cell_type": "markdown",
   "metadata": {
    "pycharm": {
     "name": "#%% md\n"
    }
   },
   "source": [
    "## Check tweet count"
   ]
  },
  {
   "cell_type": "code",
   "execution_count": 73,
   "outputs": [
    {
     "data": {
      "text/plain": "11"
     },
     "execution_count": 73,
     "metadata": {},
     "output_type": "execute_result"
    }
   ],
   "source": [
    "kidnapping_count, kidnapping_mask = determine_keywords_count(tweet_lemmas, kidnapping_keywords)\n",
    "kidnapping_count"
   ],
   "metadata": {
    "collapsed": false,
    "pycharm": {
     "name": "#%%\n"
    }
   }
  },
  {
   "cell_type": "code",
   "execution_count": 74,
   "outputs": [
    {
     "data": {
      "text/plain": "257"
     },
     "execution_count": 74,
     "metadata": {},
     "output_type": "execute_result"
    }
   ],
   "source": [
    "casualties_count, casualties_mask = determine_keywords_count(tweet_lemmas, casualties_keywords)\n",
    "casualties_count"
   ],
   "metadata": {
    "collapsed": false,
    "pycharm": {
     "name": "#%%\n"
    }
   }
  },
  {
   "cell_type": "code",
   "execution_count": 75,
   "outputs": [
    {
     "data": {
      "text/plain": "223"
     },
     "execution_count": 75,
     "metadata": {},
     "output_type": "execute_result"
    }
   ],
   "source": [
    "death_mentions_count, death_mentions_mask = determine_keywords_count(tweet_lemmas, death_keywords)\n",
    "death_mentions_count"
   ],
   "metadata": {
    "collapsed": false,
    "pycharm": {
     "name": "#%%\n"
    }
   }
  },
  {
   "cell_type": "code",
   "execution_count": 76,
   "metadata": {},
   "outputs": [
    {
     "data": {
      "text/plain": "113"
     },
     "execution_count": 76,
     "metadata": {},
     "output_type": "execute_result"
    }
   ],
   "source": [
    "injured_mentions_count, injured_mentions_mask = determine_keywords_count(tweet_lemmas, injured_keywords)\n",
    "injured_mentions_count"
   ]
  },
  {
   "cell_type": "code",
   "execution_count": 24,
   "outputs": [
    {
     "data": {
      "text/plain": "1"
     },
     "execution_count": 24,
     "metadata": {},
     "output_type": "execute_result"
    }
   ],
   "source": [
    "rape_count, rape_mask = determine_keywords_count(tweet_lemmas, rape_keywords)\n",
    "rape_count"
   ],
   "metadata": {
    "collapsed": false,
    "pycharm": {
     "name": "#%%\n"
    }
   }
  },
  {
   "cell_type": "markdown",
   "source": [
    "#### Save only selected posts"
   ],
   "metadata": {
    "collapsed": false
   }
  },
  {
   "cell_type": "markdown",
   "source": [
    "Casualties"
   ],
   "metadata": {
    "collapsed": false,
    "pycharm": {
     "name": "#%% md\n"
    }
   }
  },
  {
   "cell_type": "code",
   "execution_count": 77,
   "outputs": [],
   "source": [
    "necessary_columns = [\"date\", \"link\"]"
   ],
   "metadata": {
    "collapsed": false,
    "pycharm": {
     "name": "#%%\n"
    }
   }
  },
  {
   "cell_type": "code",
   "execution_count": 78,
   "outputs": [],
   "source": [
    "excel_casualties = tweets.loc[casualties_mask, necessary_columns]"
   ],
   "metadata": {
    "collapsed": false,
    "pycharm": {
     "name": "#%%\n"
    }
   }
  },
  {
   "cell_type": "code",
   "execution_count": 79,
   "outputs": [
    {
     "data": {
      "text/plain": "                                    date  \\\nid                                         \n1494283213644181511  2022-02-17 13:10:55   \n1495364937019019266  2022-02-20 12:49:18   \n1495450672606629889  2022-02-20 18:29:59   \n1496771173291642883  2022-02-24 09:57:11   \n1496785738045829122  2022-02-24 10:55:03   \n...                                  ...   \n1509486350684368897  2022-03-31 13:02:45   \n1509510190512709632  2022-03-31 14:37:29   \n1509664637037555714  2022-04-01 00:51:12   \n1509773512927547396  2022-04-01 08:03:50   \n1509793507594096669  2022-04-01 09:23:17   \n\n                                                                  link  \nid                                                                      \n1494283213644181511  https://twitter.com/KyivIndependent/status/149...  \n1495364937019019266  https://twitter.com/KyivIndependent/status/149...  \n1495450672606629889  https://twitter.com/KyivIndependent/status/149...  \n1496771173291642883  https://twitter.com/KyivIndependent/status/149...  \n1496785738045829122  https://twitter.com/KyivIndependent/status/149...  \n...                                                                ...  \n1509486350684368897  https://twitter.com/KyivIndependent/status/150...  \n1509510190512709632  https://twitter.com/KyivIndependent/status/150...  \n1509664637037555714  https://twitter.com/KyivIndependent/status/150...  \n1509773512927547396  https://twitter.com/KyivIndependent/status/150...  \n1509793507594096669  https://twitter.com/KyivIndependent/status/150...  \n\n[257 rows x 2 columns]",
      "text/html": "<div>\n<style scoped>\n    .dataframe tbody tr th:only-of-type {\n        vertical-align: middle;\n    }\n\n    .dataframe tbody tr th {\n        vertical-align: top;\n    }\n\n    .dataframe thead th {\n        text-align: right;\n    }\n</style>\n<table border=\"1\" class=\"dataframe\">\n  <thead>\n    <tr style=\"text-align: right;\">\n      <th></th>\n      <th>date</th>\n      <th>link</th>\n    </tr>\n    <tr>\n      <th>id</th>\n      <th></th>\n      <th></th>\n    </tr>\n  </thead>\n  <tbody>\n    <tr>\n      <th>1494283213644181511</th>\n      <td>2022-02-17 13:10:55</td>\n      <td>https://twitter.com/KyivIndependent/status/149...</td>\n    </tr>\n    <tr>\n      <th>1495364937019019266</th>\n      <td>2022-02-20 12:49:18</td>\n      <td>https://twitter.com/KyivIndependent/status/149...</td>\n    </tr>\n    <tr>\n      <th>1495450672606629889</th>\n      <td>2022-02-20 18:29:59</td>\n      <td>https://twitter.com/KyivIndependent/status/149...</td>\n    </tr>\n    <tr>\n      <th>1496771173291642883</th>\n      <td>2022-02-24 09:57:11</td>\n      <td>https://twitter.com/KyivIndependent/status/149...</td>\n    </tr>\n    <tr>\n      <th>1496785738045829122</th>\n      <td>2022-02-24 10:55:03</td>\n      <td>https://twitter.com/KyivIndependent/status/149...</td>\n    </tr>\n    <tr>\n      <th>...</th>\n      <td>...</td>\n      <td>...</td>\n    </tr>\n    <tr>\n      <th>1509486350684368897</th>\n      <td>2022-03-31 13:02:45</td>\n      <td>https://twitter.com/KyivIndependent/status/150...</td>\n    </tr>\n    <tr>\n      <th>1509510190512709632</th>\n      <td>2022-03-31 14:37:29</td>\n      <td>https://twitter.com/KyivIndependent/status/150...</td>\n    </tr>\n    <tr>\n      <th>1509664637037555714</th>\n      <td>2022-04-01 00:51:12</td>\n      <td>https://twitter.com/KyivIndependent/status/150...</td>\n    </tr>\n    <tr>\n      <th>1509773512927547396</th>\n      <td>2022-04-01 08:03:50</td>\n      <td>https://twitter.com/KyivIndependent/status/150...</td>\n    </tr>\n    <tr>\n      <th>1509793507594096669</th>\n      <td>2022-04-01 09:23:17</td>\n      <td>https://twitter.com/KyivIndependent/status/150...</td>\n    </tr>\n  </tbody>\n</table>\n<p>257 rows × 2 columns</p>\n</div>"
     },
     "execution_count": 79,
     "metadata": {},
     "output_type": "execute_result"
    }
   ],
   "source": [
    "excel_casualties"
   ],
   "metadata": {
    "collapsed": false,
    "pycharm": {
     "name": "#%%\n"
    }
   }
  },
  {
   "cell_type": "code",
   "execution_count": 80,
   "outputs": [],
   "source": [
    "excel_casualties[\"your id\"] = \"\"\n",
    "excel_casualties[\"correct tweet (yes/no)\"] = \"\"\n",
    "excel_casualties[\"which side? (UA/RU)\"] = \"\"\n",
    "excel_casualties[\"number of dead\"] = \"\"\n",
    "excel_casualties[\"dead: in total/new\"] = \"\"\n",
    "excel_casualties[\"dead-who?: (civilians/soldiers/children)\"] = \"\"\n",
    "excel_casualties[\"number of injured/wounded\"] = \"\"\n",
    "excel_casualties[\"injured: in total/new\"] = \"\"\n",
    "excel_casualties[\"injured-who?: civilians/soldiers/children\"] = \"\"\n",
    "excel_casualties[\"place\"] = \"\"\n",
    "excel_casualties[\"deaths date\"] = \"\"\n",
    "excel_casualties[\"additional info\"] = \"\""
   ],
   "metadata": {
    "collapsed": false,
    "pycharm": {
     "name": "#%%\n"
    }
   }
  },
  {
   "cell_type": "code",
   "execution_count": 81,
   "outputs": [],
   "source": [
    "save_path_casualties = \"./../data/KyivIndependentTweetsCasualties.xlsx\""
   ],
   "metadata": {
    "collapsed": false,
    "pycharm": {
     "name": "#%%\n"
    }
   }
  },
  {
   "cell_type": "code",
   "execution_count": 82,
   "outputs": [],
   "source": [
    "excel_casualties.to_excel(save_path_casualties)"
   ],
   "metadata": {
    "collapsed": false,
    "pycharm": {
     "name": "#%%\n"
    }
   }
  },
  {
   "cell_type": "markdown",
   "source": [
    "## Other statistics"
   ],
   "metadata": {
    "collapsed": false,
    "pycharm": {
     "name": "#%% md\n"
    }
   }
  },
  {
   "cell_type": "code",
   "execution_count": 12,
   "outputs": [
    {
     "data": {
      "text/plain": "287701"
     },
     "execution_count": 12,
     "metadata": {},
     "output_type": "execute_result"
    }
   ],
   "source": [
    "tweets[\"nlikes\"].max()"
   ],
   "metadata": {
    "collapsed": false,
    "pycharm": {
     "name": "#%%\n"
    }
   }
  },
  {
   "cell_type": "code",
   "execution_count": 13,
   "outputs": [
    {
     "data": {
      "text/plain": "40889"
     },
     "execution_count": 13,
     "metadata": {},
     "output_type": "execute_result"
    }
   ],
   "source": [
    "tweets[\"nretweets\"].max()"
   ],
   "metadata": {
    "collapsed": false,
    "pycharm": {
     "name": "#%%\n"
    }
   }
  },
  {
   "cell_type": "code",
   "execution_count": 13,
   "outputs": [],
   "source": [],
   "metadata": {
    "collapsed": false,
    "pycharm": {
     "name": "#%%\n"
    }
   }
  }
 ],
 "metadata": {
  "kernelspec": {
   "display_name": "Python 3 (ipykernel)",
   "language": "python",
   "name": "python3"
  },
  "language_info": {
   "codemirror_mode": {
    "name": "ipython",
    "version": 3
   },
   "file_extension": ".py",
   "mimetype": "text/x-python",
   "name": "python",
   "nbconvert_exporter": "python",
   "pygments_lexer": "ipython3",
   "version": "3.10.4"
  }
 },
 "nbformat": 4,
 "nbformat_minor": 1
}