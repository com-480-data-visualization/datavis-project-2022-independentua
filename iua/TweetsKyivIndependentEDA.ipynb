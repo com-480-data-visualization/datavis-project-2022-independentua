{
 "cells": [
  {
   "cell_type": "code",
   "execution_count": 1,
   "metadata": {},
   "outputs": [],
   "source": [
    "import pandas as pd\n",
    "import numpy as np"
   ]
  },
  {
   "cell_type": "markdown",
   "metadata": {
    "pycharm": {
     "name": "#%% md\n"
    }
   },
   "source": [
    "# Load the data"
   ]
  },
  {
   "cell_type": "code",
   "execution_count": 2,
   "metadata": {
    "pycharm": {
     "name": "#%%\n"
    }
   },
   "outputs": [
    {
     "data": {
      "text/html": [
       "<div>\n",
       "<style scoped>\n",
       "    .dataframe tbody tr th:only-of-type {\n",
       "        vertical-align: middle;\n",
       "    }\n",
       "\n",
       "    .dataframe tbody tr th {\n",
       "        vertical-align: top;\n",
       "    }\n",
       "\n",
       "    .dataframe thead th {\n",
       "        text-align: right;\n",
       "    }\n",
       "</style>\n",
       "<table border=\"1\" class=\"dataframe\">\n",
       "  <thead>\n",
       "    <tr style=\"text-align: right;\">\n",
       "      <th></th>\n",
       "      <th>id</th>\n",
       "      <th>conversation_id</th>\n",
       "      <th>created_at</th>\n",
       "      <th>date</th>\n",
       "      <th>timezone</th>\n",
       "      <th>place</th>\n",
       "      <th>tweet</th>\n",
       "      <th>language</th>\n",
       "      <th>hashtags</th>\n",
       "      <th>cashtags</th>\n",
       "      <th>...</th>\n",
       "      <th>geo</th>\n",
       "      <th>source</th>\n",
       "      <th>user_rt_id</th>\n",
       "      <th>user_rt</th>\n",
       "      <th>retweet_id</th>\n",
       "      <th>reply_to</th>\n",
       "      <th>retweet_date</th>\n",
       "      <th>translate</th>\n",
       "      <th>trans_src</th>\n",
       "      <th>trans_dest</th>\n",
       "    </tr>\n",
       "  </thead>\n",
       "  <tbody>\n",
       "    <tr>\n",
       "      <th>0</th>\n",
       "      <td>1488303588229230594</td>\n",
       "      <td>1488303588229230594</td>\n",
       "      <td>1.643674e+12</td>\n",
       "      <td>2022-02-01 01:10:01</td>\n",
       "      <td>200</td>\n",
       "      <td>NaN</td>\n",
       "      <td>The UN Security Council meeting on threats to ...</td>\n",
       "      <td>en</td>\n",
       "      <td>[]</td>\n",
       "      <td>[]</td>\n",
       "      <td>...</td>\n",
       "      <td>NaN</td>\n",
       "      <td>NaN</td>\n",
       "      <td>NaN</td>\n",
       "      <td>NaN</td>\n",
       "      <td>NaN</td>\n",
       "      <td>[]</td>\n",
       "      <td>NaN</td>\n",
       "      <td>NaN</td>\n",
       "      <td>NaN</td>\n",
       "      <td>NaN</td>\n",
       "    </tr>\n",
       "    <tr>\n",
       "      <th>1</th>\n",
       "      <td>1488540215018938372</td>\n",
       "      <td>1488540215018938372</td>\n",
       "      <td>1.643731e+12</td>\n",
       "      <td>2022-02-01 16:50:17</td>\n",
       "      <td>200</td>\n",
       "      <td>NaN</td>\n",
       "      <td>According to Foreign Minister Dmytro Kuleba, t...</td>\n",
       "      <td>en</td>\n",
       "      <td>[]</td>\n",
       "      <td>[]</td>\n",
       "      <td>...</td>\n",
       "      <td>NaN</td>\n",
       "      <td>NaN</td>\n",
       "      <td>NaN</td>\n",
       "      <td>NaN</td>\n",
       "      <td>NaN</td>\n",
       "      <td>[]</td>\n",
       "      <td>NaN</td>\n",
       "      <td>NaN</td>\n",
       "      <td>NaN</td>\n",
       "      <td>NaN</td>\n",
       "    </tr>\n",
       "    <tr>\n",
       "      <th>2</th>\n",
       "      <td>1488551955668611076</td>\n",
       "      <td>1488551955668611076</td>\n",
       "      <td>1.643733e+12</td>\n",
       "      <td>2022-02-01 17:36:56</td>\n",
       "      <td>200</td>\n",
       "      <td>NaN</td>\n",
       "      <td>The document, signed to “bolster the nation’s ...</td>\n",
       "      <td>en</td>\n",
       "      <td>[]</td>\n",
       "      <td>[]</td>\n",
       "      <td>...</td>\n",
       "      <td>NaN</td>\n",
       "      <td>NaN</td>\n",
       "      <td>NaN</td>\n",
       "      <td>NaN</td>\n",
       "      <td>NaN</td>\n",
       "      <td>[]</td>\n",
       "      <td>NaN</td>\n",
       "      <td>NaN</td>\n",
       "      <td>NaN</td>\n",
       "      <td>NaN</td>\n",
       "    </tr>\n",
       "    <tr>\n",
       "      <th>3</th>\n",
       "      <td>1488579472165163014</td>\n",
       "      <td>1488579472165163014</td>\n",
       "      <td>1.643740e+12</td>\n",
       "      <td>2022-02-01 19:26:17</td>\n",
       "      <td>200</td>\n",
       "      <td>NaN</td>\n",
       "      <td>For the cargo pallets on the runway contained ...</td>\n",
       "      <td>en</td>\n",
       "      <td>[]</td>\n",
       "      <td>[]</td>\n",
       "      <td>...</td>\n",
       "      <td>NaN</td>\n",
       "      <td>NaN</td>\n",
       "      <td>NaN</td>\n",
       "      <td>NaN</td>\n",
       "      <td>NaN</td>\n",
       "      <td>[]</td>\n",
       "      <td>NaN</td>\n",
       "      <td>NaN</td>\n",
       "      <td>NaN</td>\n",
       "      <td>NaN</td>\n",
       "    </tr>\n",
       "    <tr>\n",
       "      <th>4</th>\n",
       "      <td>1488603295593766918</td>\n",
       "      <td>1488603295593766918</td>\n",
       "      <td>1.643746e+12</td>\n",
       "      <td>2022-02-01 21:00:57</td>\n",
       "      <td>200</td>\n",
       "      <td>NaN</td>\n",
       "      <td>According to the Bureau, the searches were par...</td>\n",
       "      <td>en</td>\n",
       "      <td>[]</td>\n",
       "      <td>[]</td>\n",
       "      <td>...</td>\n",
       "      <td>NaN</td>\n",
       "      <td>NaN</td>\n",
       "      <td>NaN</td>\n",
       "      <td>NaN</td>\n",
       "      <td>NaN</td>\n",
       "      <td>[]</td>\n",
       "      <td>NaN</td>\n",
       "      <td>NaN</td>\n",
       "      <td>NaN</td>\n",
       "      <td>NaN</td>\n",
       "    </tr>\n",
       "  </tbody>\n",
       "</table>\n",
       "<p>5 rows × 38 columns</p>\n",
       "</div>"
      ],
      "text/plain": [
       "                    id      conversation_id    created_at  \\\n",
       "0  1488303588229230594  1488303588229230594  1.643674e+12   \n",
       "1  1488540215018938372  1488540215018938372  1.643731e+12   \n",
       "2  1488551955668611076  1488551955668611076  1.643733e+12   \n",
       "3  1488579472165163014  1488579472165163014  1.643740e+12   \n",
       "4  1488603295593766918  1488603295593766918  1.643746e+12   \n",
       "\n",
       "                  date  timezone  place  \\\n",
       "0  2022-02-01 01:10:01       200    NaN   \n",
       "1  2022-02-01 16:50:17       200    NaN   \n",
       "2  2022-02-01 17:36:56       200    NaN   \n",
       "3  2022-02-01 19:26:17       200    NaN   \n",
       "4  2022-02-01 21:00:57       200    NaN   \n",
       "\n",
       "                                               tweet language hashtags  \\\n",
       "0  The UN Security Council meeting on threats to ...       en       []   \n",
       "1  According to Foreign Minister Dmytro Kuleba, t...       en       []   \n",
       "2  The document, signed to “bolster the nation’s ...       en       []   \n",
       "3  For the cargo pallets on the runway contained ...       en       []   \n",
       "4  According to the Bureau, the searches were par...       en       []   \n",
       "\n",
       "  cashtags  ...  geo  source user_rt_id user_rt  retweet_id  reply_to  \\\n",
       "0       []  ...  NaN     NaN        NaN     NaN         NaN        []   \n",
       "1       []  ...  NaN     NaN        NaN     NaN         NaN        []   \n",
       "2       []  ...  NaN     NaN        NaN     NaN         NaN        []   \n",
       "3       []  ...  NaN     NaN        NaN     NaN         NaN        []   \n",
       "4       []  ...  NaN     NaN        NaN     NaN         NaN        []   \n",
       "\n",
       "  retweet_date translate trans_src  trans_dest  \n",
       "0          NaN       NaN       NaN         NaN  \n",
       "1          NaN       NaN       NaN         NaN  \n",
       "2          NaN       NaN       NaN         NaN  \n",
       "3          NaN       NaN       NaN         NaN  \n",
       "4          NaN       NaN       NaN         NaN  \n",
       "\n",
       "[5 rows x 38 columns]"
      ]
     },
     "execution_count": 2,
     "metadata": {},
     "output_type": "execute_result"
    }
   ],
   "source": [
    "tweets_path = \"./../data/KyivIndependent_tweets.csv\"\n",
    "tweets = pd.read_csv(tweets_path)\n",
    "tweets.head()"
   ]
  },
  {
   "cell_type": "code",
   "execution_count": 3,
   "metadata": {
    "pycharm": {
     "name": "#%%\n"
    }
   },
   "outputs": [],
   "source": [
    "casualties_keywords = [\"kill\", \"killed\", \"death\", \"deaths\"]\n",
    "wounded_keywords = [\"wound\", \"wounded\"]\n",
    "kidnapping_keywords = [\"kidnapping\", \"kidnapped\"]"
   ]
  },
  {
   "cell_type": "markdown",
   "metadata": {
    "pycharm": {
     "name": "#%% md\n"
    }
   },
   "source": [
    "## Filter tweets for kidnappings"
   ]
  },
  {
   "cell_type": "code",
   "execution_count": 45,
   "outputs": [],
   "source": [
    "def determine_keywords_count(tweets: pd.DataFrame, keywords: list[str]) -> tuple[pd.DataFrame, int]:\n",
    "    #TODO: check for duplicate\n",
    "    #TODO: return relevant tweets\n",
    "    count = 0\n",
    "    masks = []\n",
    "    for keyword in keywords:\n",
    "        mask = tweets[\"tweet\"].astype(\"string\").str.find(keyword) > 0\n",
    "        masks.append(mask)\n",
    "        count += (mask).sum()\n",
    "    return count"
   ],
   "metadata": {
    "collapsed": false,
    "pycharm": {
     "name": "#%%\n"
    }
   }
  },
  {
   "cell_type": "code",
   "execution_count": 48,
   "metadata": {
    "pycharm": {
     "name": "#%%\n"
    }
   },
   "outputs": [
    {
     "data": {
      "text/plain": "389"
     },
     "execution_count": 48,
     "metadata": {},
     "output_type": "execute_result"
    }
   ],
   "source": [
    "casualties_mentions_count = determine_keywords_count(tweets, casualties_keywords)\n",
    "casualties_mentions_count"
   ]
  },
  {
   "cell_type": "code",
   "execution_count": 46,
   "outputs": [
    {
     "data": {
      "text/plain": "8"
     },
     "execution_count": 46,
     "metadata": {},
     "output_type": "execute_result"
    }
   ],
   "source": [
    "kidnapping_mentions_count = determine_keywords_count(tweets, kidnapping_keywords)\n",
    "kidnapping_mentions_count"
   ],
   "metadata": {
    "collapsed": false,
    "pycharm": {
     "name": "#%%\n"
    }
   }
  },
  {
   "cell_type": "code",
   "execution_count": 49,
   "metadata": {},
   "outputs": [
    {
     "data": {
      "text/plain": "50"
     },
     "execution_count": 49,
     "metadata": {},
     "output_type": "execute_result"
    }
   ],
   "source": [
    "wounded_mentions_count = determine_keywords_count(tweets, wounded_keywords)\n",
    "wounded_mentions_count"
   ]
  },
  {
   "cell_type": "code",
   "execution_count": 54,
   "outputs": [
    {
     "data": {
      "text/plain": "287701"
     },
     "execution_count": 54,
     "metadata": {},
     "output_type": "execute_result"
    }
   ],
   "source": [
    "tweets[\"nlikes\"].max()"
   ],
   "metadata": {
    "collapsed": false,
    "pycharm": {
     "name": "#%%\n"
    }
   }
  },
  {
   "cell_type": "code",
   "execution_count": 55,
   "outputs": [
    {
     "data": {
      "text/plain": "40889"
     },
     "execution_count": 55,
     "metadata": {},
     "output_type": "execute_result"
    }
   ],
   "source": [
    "tweets[\"nretweets\"].max()"
   ],
   "metadata": {
    "collapsed": false,
    "pycharm": {
     "name": "#%%\n"
    }
   }
  },
  {
   "cell_type": "code",
   "execution_count": null,
   "outputs": [],
   "source": [],
   "metadata": {
    "collapsed": false,
    "pycharm": {
     "name": "#%%\n"
    }
   }
  }
 ],
 "metadata": {
  "kernelspec": {
   "display_name": "Python 3 (ipykernel)",
   "language": "python",
   "name": "python3"
  },
  "language_info": {
   "codemirror_mode": {
    "name": "ipython",
    "version": 3
   },
   "file_extension": ".py",
   "mimetype": "text/x-python",
   "name": "python",
   "nbconvert_exporter": "python",
   "pygments_lexer": "ipython3",
   "version": "3.10.4"
  }
 },
 "nbformat": 4,
 "nbformat_minor": 1
}