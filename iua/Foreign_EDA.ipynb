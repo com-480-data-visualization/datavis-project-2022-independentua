{
 "cells": [
  {
   "cell_type": "code",
   "execution_count": 91,
   "id": "a4078fcc-a7e6-499b-9db3-cec23dd8f223",
   "metadata": {},
   "outputs": [],
   "source": [
    "import pandas as pd\n",
    "from tqdm.notebook import tqdm\n",
    "import matplotlib.pyplot as plt\n",
    "\n",
    "from deep_translator import GoogleTranslator\n",
    "from transformers import pipeline\n",
    "from geopy.geocoders import Nominatim\n",
    "import preprocessor as p\n",
    "\n",
    "import os\n",
    "from colorama import Fore\n",
    "import re"
   ]
  },
  {
   "cell_type": "code",
   "execution_count": 151,
   "id": "6807485e-77a3-48f8-9f56-46dc1da43843",
   "metadata": {},
   "outputs": [],
   "source": [
    "tqdm.pandas()\n",
    "p.set_options(p.OPT.URL, p.OPT.MENTION, p.OPT.RESERVED, p.OPT.EMOJI, p.OPT.SMILEY, p.OPT.NUMBER)\n",
    "\n",
    "data_loc = '../data/'\n",
    "tweets_loc = 'TWEETS/'\n",
    "tweets_processed_loc = 'TWEETS_PROCESSED/'"
   ]
  },
  {
   "cell_type": "markdown",
   "id": "e9200125-6c2c-481c-aa7f-9d3a7e46c63a",
   "metadata": {
    "jp-MarkdownHeadingCollapsed": true,
    "tags": []
   },
   "source": [
    "# Reparations on data2h"
   ]
  },
  {
   "cell_type": "code",
   "execution_count": null,
   "id": "248823b5-0f07-490a-a511-d2656bc56401",
   "metadata": {
    "collapsed": true,
    "jupyter": {
     "outputs_hidden": true
    },
    "tags": []
   },
   "outputs": [],
   "source": [
    "with open(data_loc+'data2h_refugees.OLDcsv', 'rb') as f:\n",
    "    doc = f.read()\n",
    "print(doc.decode('utf-8'))"
   ]
  },
  {
   "cell_type": "code",
   "execution_count": null,
   "id": "a27cf10e-53ce-4719-abb1-5dd48be956c9",
   "metadata": {
    "collapsed": true,
    "jupyter": {
     "outputs_hidden": true
    },
    "tags": []
   },
   "outputs": [],
   "source": [
    "data2h_refugees_REPAIRED = [[e for e in l.split(';')] for l in data2h_refugees.split('\\n')][1:]\n",
    "data2h_refugees_REPAIRED = pd.DataFrame(data2h_refugees_REPAIRED[1:], columns=data2h_refugees_REPAIRED[0])\n",
    "data2h_refugees_REPAIRED[\"individuals\"] = data2h_refugees_REPAIRED.individuals.apply(int)\n",
    "data2h_refugees_REPAIRED.to_csv(data_loc+'data2h_refugees_REPAIRED.csv', index=False)\n",
    "data2h_refugees_REPAIRED"
   ]
  },
  {
   "cell_type": "code",
   "execution_count": null,
   "id": "8ea4de85-1dcd-4095-bdb2-edadf5ab75c7",
   "metadata": {},
   "outputs": [],
   "source": []
  },
  {
   "cell_type": "markdown",
   "id": "0285740b-5667-4e75-ad17-fd58200b57a7",
   "metadata": {
    "jp-MarkdownHeadingCollapsed": true,
    "tags": []
   },
   "source": [
    "# New datasets"
   ]
  },
  {
   "cell_type": "code",
   "execution_count": null,
   "id": "b9b0b0df-0301-4a46-95d4-f25e28cca80c",
   "metadata": {},
   "outputs": [],
   "source": [
    "files = os.listdir(data_loc)\n",
    "files = [f for f in files if '.csv' in f]\n",
    "\n",
    "# _files = os.listdir('TWEETS/')\n",
    "# _files = ['TWEETS/'+f for f in _files if '.csv' in f]\n",
    "# files += _files\n",
    "\n",
    "files"
   ]
  },
  {
   "cell_type": "code",
   "execution_count": null,
   "id": "a93c810b-d1bc-4ebe-8dc4-004c0938d43c",
   "metadata": {},
   "outputs": [],
   "source": [
    "def load_csv(path):\n",
    "    key = path.split('.csv')[0].split('/')[-1]\n",
    "    print(f\"Loading {key}...\")\n",
    "    if '.gzip' in path:\n",
    "        df = pd.read_csv(path, encoding='utf-8', compression='gzip')\n",
    "    else :\n",
    "        df = pd.read_csv(path)\n",
    "    print(f\"Loaded {key} !\")\n",
    "    return key, df"
   ]
  },
  {
   "cell_type": "code",
   "execution_count": null,
   "id": "e2b8ef85-d3b2-46bb-9ac6-d96ac24589f2",
   "metadata": {
    "tags": []
   },
   "outputs": [],
   "source": [
    "dfs = [load_csv(data_loc+f) for f in files]\n",
    "dfs = dict(dfs)"
   ]
  },
  {
   "cell_type": "code",
   "execution_count": null,
   "id": "6cac8774-3560-4543-998f-3cee2ef15c85",
   "metadata": {},
   "outputs": [],
   "source": [
    "dfs['refugees_data2h_REPAIRED']"
   ]
  },
  {
   "cell_type": "markdown",
   "id": "cb2c9366-1662-410c-8660-ce83515dc130",
   "metadata": {
    "jp-MarkdownHeadingCollapsed": true,
    "tags": []
   },
   "source": [
    "# Twitter dataset exploration"
   ]
  },
  {
   "cell_type": "code",
   "execution_count": null,
   "id": "aa53dcda-28e7-4e74-a24f-dd930207eb25",
   "metadata": {
    "tags": []
   },
   "outputs": [],
   "source": [
    "tweets_files = [f for f in os.listdir(data_loc+tweets_loc) if '.csv' in f]\n",
    "tweets_files"
   ]
  },
  {
   "cell_type": "markdown",
   "id": "96d94233-d07a-4f5b-a5a8-34fdcd58632d",
   "metadata": {
    "tags": []
   },
   "source": [
    "## Renaming tweets"
   ]
  },
  {
   "cell_type": "code",
   "execution_count": null,
   "id": "c60418b2-be5e-4b61-8819-974aebad8856",
   "metadata": {},
   "outputs": [],
   "source": [
    "translate_months = {\n",
    "    'FEB':'02',\n",
    "    'MAR':'03',\n",
    "}\n",
    "\n",
    "def rename_tweets(tweets_files):\n",
    "    results = []\n",
    "    \n",
    "    for f in tweets_files:\n",
    "\n",
    "        # Case 'UkraineCombinedTweetsDeduped_XXXX'\n",
    "        if f[0] == 'U' and '_' in f:\n",
    "            date = f.split('_')[1].split('.')[0]\n",
    "            month = date[:3]\n",
    "            day = date[3:]\n",
    "            month = translate_months[month]\n",
    "\n",
    "            beginning = f.split('_')[0]\n",
    "            if len(f.split('_')) > 2 : intermediate = beginning = f.split('_')[2]\n",
    "            else: intermediate = ''\n",
    "            ending = '.'.join(f.split('_')[1].split('.')[1:])\n",
    "\n",
    "            final = month+day+'_'+beginning+intermediate+'.'+ending\n",
    "            results.append((f, final))\n",
    "        else :\n",
    "            results.append((f, f))\n",
    "    \n",
    "    results = [f for f in results if 'UkraineCombinedTweetsDeduped' in f[1]]\n",
    "    return results\n",
    "\n",
    "renaming_dict = dict(rename_tweets(tweets_files))\n",
    "\n",
    "for o,n in renaming_dict.items():\n",
    "    os.rename(tweets_loc+o, tweets_loc+n)"
   ]
  },
  {
   "cell_type": "markdown",
   "id": "b7944da9-7273-4cab-8f64-bc52b7180c2f",
   "metadata": {},
   "source": [
    "## Exploring tweets"
   ]
  },
  {
   "cell_type": "code",
   "execution_count": null,
   "id": "ae32e824-bc5c-44ff-8814-59e6c8c39767",
   "metadata": {},
   "outputs": [],
   "source": [
    "tf = tweets_files[0]\n",
    "tf"
   ]
  },
  {
   "cell_type": "code",
   "execution_count": null,
   "id": "560f7d7e-7b48-4c60-abb9-f5cba2f43975",
   "metadata": {},
   "outputs": [],
   "source": [
    "df_raw = pd.read_csv(data_loc+tweets_loc+tf, compression='gzip')\n",
    "df_raw.head()"
   ]
  },
  {
   "cell_type": "code",
   "execution_count": null,
   "id": "500bc2f1-3384-4f8e-af79-c49b4efe8354",
   "metadata": {},
   "outputs": [],
   "source": [
    "_to_drop=['Unnamed: 0','acctdesc', 'following', 'usercreatedts', 'coordinates', 'favorite_count']\n",
    "df = df_raw.drop(columns=_to_drop)\n",
    "df.set_index('tweetid', inplace=True)\n",
    "\n",
    "ltest = df.groupby('language').first().reset_index()[['language', 'text']].values"
   ]
  },
  {
   "cell_type": "code",
   "execution_count": null,
   "id": "056b89b4-918a-46ba-b021-1cfb187177ed",
   "metadata": {
    "collapsed": true,
    "jupyter": {
     "outputs_hidden": true
    },
    "tags": []
   },
   "outputs": [],
   "source": [
    "ltest_tr = []\n",
    "\n",
    "for l, t in ltest:\n",
    "    try :\n",
    "        print(Fore.BLACK + '############')\n",
    "        translator = GoogleTranslator(source=l)\n",
    "        tr = translator.translate(t)\n",
    "        print(t)\n",
    "        print(Fore.BLUE + tr)\n",
    "        ltest_tr.append((t, tr))\n",
    "    except Exception as e :\n",
    "        print(Fore.RED + str(e))"
   ]
  },
  {
   "cell_type": "markdown",
   "id": "105538c1-0e5f-45ed-85c8-69dbd90bbdd8",
   "metadata": {},
   "source": [
    "### Emotions"
   ]
  },
  {
   "cell_type": "code",
   "execution_count": null,
   "id": "03079714-d59b-4511-88f5-f47e7b71ce56",
   "metadata": {},
   "outputs": [],
   "source": [
    "def get_top_label(scores, topn=1, emo_only=True):\n",
    "    s = scores[0]\n",
    "    topn = min(topn, len(s))\n",
    "    s = sorted(s, key=lambda d : d['score'], reverse=True)\n",
    "    s = s[:topn]\n",
    "    if emo_only: s = [d['label'] for d in s]\n",
    "    if topn==1 : s = s[0]\n",
    "    return s"
   ]
  },
  {
   "cell_type": "code",
   "execution_count": 81,
   "id": "0e87b2ef-483f-49cd-b698-68cf9066c5b1",
   "metadata": {},
   "outputs": [],
   "source": [
    "ttest = ltest_tr[3][1]\n",
    "model_path = \"j-hartmann/emotion-english-distilroberta-base\"\n",
    "emotion_classifier = pipeline(\"text-classification\", model=model_path, tokenizer=model_path, return_all_scores=True)"
   ]
  },
  {
   "cell_type": "code",
   "execution_count": null,
   "id": "4be29db7-0a58-491c-a802-4640a8103b33",
   "metadata": {},
   "outputs": [
    {
     "data": {
      "text/plain": [
       "'sadness'"
      ]
     },
     "execution_count": 82,
     "metadata": {},
     "output_type": "execute_result"
    }
   ],
   "source": [
    "get_top_label(emotion_classifier(ttest))"
   ]
  },
  {
   "cell_type": "markdown",
   "id": "ab0e6d69-518f-4c80-9fcd-c15b41b6a957",
   "metadata": {},
   "source": [
    "### Sentiment"
   ]
  },
  {
   "cell_type": "code",
   "execution_count": null,
   "id": "8d38dd47-b120-42fc-9ef9-abd6e407f3cd",
   "metadata": {},
   "outputs": [],
   "source": [
    "ttest = ltest_tr[3][1]\n",
    "\n",
    "model_path = \"cardiffnlp/twitter-xlm-roberta-base-sentiment\"\n",
    "sentiment_task = pipeline(\"sentiment-analysis\", model=model_path, tokenizer=model_path, return_all_scores=True)"
   ]
  },
  {
   "cell_type": "code",
   "execution_count": null,
   "id": "b07df3e2-4824-4976-ac8d-2adf31fa0741",
   "metadata": {},
   "outputs": [],
   "source": [
    "get_top_label(sentiment_task(ttest))"
   ]
  },
  {
   "cell_type": "markdown",
   "id": "7e555c61-8182-4a0e-bb92-902c8859e5fc",
   "metadata": {},
   "source": [
    "### Batch test"
   ]
  },
  {
   "cell_type": "code",
   "execution_count": null,
   "id": "b3ca60a9-47ba-4658-b614-728930aa3364",
   "metadata": {},
   "outputs": [],
   "source": [
    "def get_translator(l):\n",
    "    try :\n",
    "        translator = GoogleTranslator(source=l)\n",
    "        return (l, translator)\n",
    "    except :\n",
    "        return None"
   ]
  },
  {
   "cell_type": "code",
   "execution_count": null,
   "id": "63c69650-2028-4304-b3ce-a1eaeab43138",
   "metadata": {},
   "outputs": [],
   "source": [
    "def _process_tweet(t):\n",
    "    return t"
   ]
  },
  {
   "cell_type": "code",
   "execution_count": null,
   "id": "f82b74b1-327e-4823-8f93-14a10200d92a",
   "metadata": {},
   "outputs": [],
   "source": [
    "def translate_batch(df, l, translator):\n",
    "    tmp = df.loc[df.language==l, 'text']\n",
    "    tmp = tmp.apply(_process_tweet)\n",
    "    tmp = tmp.progress_apply(translator.translate)\n",
    "    return tmp"
   ]
  },
  {
   "cell_type": "code",
   "execution_count": null,
   "id": "af69ddb7-2dad-4777-b24c-85f10e8f724e",
   "metadata": {},
   "outputs": [],
   "source": [
    "def process_tweets(df):\n",
    "    \n",
    "    ## Translate\n",
    "    # Get languages\n",
    "    print(f\"Getting all translators...\")\n",
    "    translators = df.language.unique()\n",
    "    nlang = len(translators)\n",
    "    translators = [get_translator(l) for l in translators]\n",
    "    translators = [t for t in translators if t != None]\n",
    "    translators = dict(translators)\n",
    "    print(f\"Got {len(translators)} translators ({len(translators)/nlang*100:.2f}%)!\")\n",
    "    \n",
    "    # Translate for each available language\n",
    "    for l in []:#translators.keys():\n",
    "        print(f\"\\nStarting translation for {l}...\")\n",
    "        tr = translate_batch(df, l, translators[l])\n",
    "        df.loc[df.language == l, 'translated'] = tr\n",
    "        print(f\"Translation done for {l}!\")\n",
    "        \n",
    "    # Add english to only use translated column\n",
    "    df.loc[df.language == 'en', 'translated'] = df.loc[df.language == 'en', 'text']\n",
    "    \n",
    "    ## Get Sentiment\n",
    "    model_path = \"cardiffnlp/twitter-xlm-roberta-base-sentiment\"\n",
    "    print(f\"Starting sentiment analysis using {model_path}...\")\n",
    "    sentiment_task = pipeline(\"sentiment-analysis\", model=model_path, tokenizer=model_path, return_all_scores=True)\n",
    "    \n",
    "    sen = df.loc[~df.translated.isna(), 'translated'].progress_apply(sentiment_task)\n",
    "    sen = sen.apply(get_top_label)\n",
    "    df['sentiment'] = sen\n",
    "    print(f\"Finished sentiment analysis!\")\n",
    "    \n",
    "    # Get emotion\n",
    "    \n",
    "process_tweets(df)"
   ]
  },
  {
   "cell_type": "code",
   "execution_count": null,
   "id": "2c8cef95-9bd3-4fcc-95f2-140a9c10ab54",
   "metadata": {},
   "outputs": [],
   "source": [
    "tweets_files[0]"
   ]
  },
  {
   "cell_type": "code",
   "execution_count": null,
   "id": "4e4e0589-3946-4205-a174-122c2ef6f74b",
   "metadata": {},
   "outputs": [],
   "source": [
    "df.to_csv(data_loc+'TWEETS_SENTIMENT/EN_'+tweets_files[0])"
   ]
  },
  {
   "cell_type": "code",
   "execution_count": null,
   "id": "4d9a8ae9-6318-4f2f-8bd0-d94c9dcac35e",
   "metadata": {},
   "outputs": [],
   "source": [
    "df.groupby('language').count()['location'].reset_index().sort_values(\"location\", ascending=False).plot(x='language', y='location', kind='bar', figsize=(17, 4))"
   ]
  },
  {
   "cell_type": "markdown",
   "id": "d8c593e5-870a-42d9-8275-e401f81f4c37",
   "metadata": {},
   "source": [
    "## Exploring language distribution in tweets"
   ]
  },
  {
   "cell_type": "code",
   "execution_count": null,
   "id": "23c47b7d-e382-4f4f-8640-2e62ecde79e3",
   "metadata": {
    "collapsed": true,
    "jupyter": {
     "outputs_hidden": true
    },
    "tags": []
   },
   "outputs": [],
   "source": [
    "for f in tweets_files:\n",
    "    # load tweets\n",
    "    tmp = pd.read_csv(tweets_loc+f, compression='gzip')\n",
    "    # plot\n",
    "    print(f\"\\n############### {f}\")\n",
    "    tmp.groupby('language').count()['location'].reset_index().sort_values(\"location\", ascending=False).plot(x='language', y='location', kind='bar', figsize=(17, 4))\n",
    "    plt.show()"
   ]
  },
  {
   "cell_type": "markdown",
   "id": "1da7d08b-6615-4eb3-8197-f0bf73abdab2",
   "metadata": {},
   "source": [
    "## Geocode tests\n",
    "\n",
    "Using geopy https://pypi.org/project/geopy/"
   ]
  },
  {
   "cell_type": "code",
   "execution_count": 6,
   "id": "6702ca1b-febf-4ca6-b068-16cca5e1ba16",
   "metadata": {},
   "outputs": [],
   "source": [
    "files = [f for f in os.listdir(data_loc + tweets_loc) if 'UkraineCombinedTweets' in f]\n",
    "print(f\"First 3 files in {tweets_loc} folder:\")\n",
    "[print(f) for f in files[:3]]\n",
    "print()"
   ]
  },
  {
   "cell_type": "code",
   "execution_count": 7,
   "id": "1d56a6b7-2eb3-4211-bf76-b0aa5f6b8895",
   "metadata": {},
   "outputs": [],
   "source": [
    "f = files[0]"
   ]
  },
  {
   "cell_type": "code",
   "execution_count": 8,
   "id": "6cf89cf3-aa0a-4c4f-a873-6effd240d81f",
   "metadata": {
    "tags": []
   },
   "outputs": [],
   "source": [
    "# read dataframe\n",
    "tmp = pd.read_csv(data_loc + tweets_loc + f, compression='gzip')"
   ]
  },
  {
   "cell_type": "code",
   "execution_count": 9,
   "id": "77894eb4-7647-40cf-9d02-e49258c6daad",
   "metadata": {},
   "outputs": [],
   "source": [
    "user_agent = \"Mozilla/5.0 (Windows NT 10.0; Win64; x64) AppleWebKit/537.36 (KHTML, like Gecko) Chrome/100.0.4896.127 Safari/537.36 Edg/100.0.1185.44\"\n",
    "geolocator = Nominatim(user_agent=user_agent)"
   ]
  },
  {
   "cell_type": "code",
   "execution_count": 10,
   "id": "b65292e7-6b92-4cb1-97c6-3ec8d9acb10e",
   "metadata": {},
   "outputs": [],
   "source": [
    "tmp_en = tmp.loc[(tmp.language == 'en') & (~tmp.location.isna())]\n",
    "locs = tmp_en.location.unique()\n",
    "locs"
   ]
  },
  {
   "cell_type": "code",
   "execution_count": null,
   "id": "b12ff73e-d3e8-42aa-aded-4bf562b8e27c",
   "metadata": {},
   "outputs": [],
   "source": [
    "def _extract_country(l) :\n",
    "    try:\n",
    "        country = geolocator.geocode(l, language = \"en\").address.split(',')[-1]\n",
    "        country = \" \".join(country.split())\n",
    "    except Exception as e :\n",
    "        if len(str(e)) < 400: print(e)\n",
    "        else : print(str(e)[:400]+'...')\n",
    "        country = ''\n",
    "    # print(l + ' || ' + country)\n",
    "    return country\n",
    "\n",
    "countries = [(l, _extract_country(l)) for l in tqdm(locs)]\n",
    "countries[:30]"
   ]
  },
  {
   "cell_type": "code",
   "execution_count": null,
   "id": "85e96bc1-ca71-45ce-ab3e-4c3e7e1a5630",
   "metadata": {},
   "outputs": [],
   "source": [
    "for l in locs[:10] :\n",
    "    loc = geolocator.geocode(l, language='en')\n",
    "    print(l + \"||\" + loc.address.split(',')[-1])"
   ]
  },
  {
   "cell_type": "markdown",
   "id": "b0a72cf4-e6e2-4bbf-8cce-cf0d3c730164",
   "metadata": {},
   "source": [
    "# Complete pipeline\n",
    "\n",
    "1. Extract a subset of all the english tweets.\n",
    "2. Analyze emotions & sentiment for the subset.\n",
    "3. Compute the country of origin for the tweet."
   ]
  },
  {
   "cell_type": "code",
   "execution_count": 28,
   "id": "fc8b7dba-e3fd-4b6f-9dda-61c5b48b943b",
   "metadata": {},
   "outputs": [],
   "source": [
    "# Ratio to define subset\n",
    "ratio = 0.2"
   ]
  },
  {
   "cell_type": "code",
   "execution_count": 30,
   "id": "4ee1824d-3b81-46b7-aa6d-33ff3030dcf6",
   "metadata": {},
   "outputs": [],
   "source": [
    "## Load all files\n",
    "# only containing UkraineCombinedTweets\n",
    "files = [f for f in os.listdir(data_loc + tweets_loc) if 'UkraineCombinedTweets' in f]\n",
    "# prints\n",
    "print(f\"# First 3 files in {tweets_loc} folder ({len(files)} files):\")\n",
    "[print(f) for f in files[:3]]\n",
    "print()"
   ]
  },
  {
   "cell_type": "code",
   "execution_count": 83,
   "id": "e29c1bdf-0ab7-4e78-8031-ab9584788d65",
   "metadata": {},
   "outputs": [],
   "source": [
    "# Getting the emotions & sentiment model\n",
    "emotion_path = \"j-hartmann/emotion-english-distilroberta-base\"\n",
    "emotion_classifier = pipeline(\"text-classification\", model=emotion_path, tokenizer=emotion_path, return_all_scores=True)\n",
    "\n",
    "sentiment_path = \"cardiffnlp/twitter-xlm-roberta-base-sentiment\"\n",
    "sentiment_classifier = pipeline(\"sentiment-analysis\", model=sentiment_path, tokenizer=sentiment_path, return_all_scores=True)"
   ]
  },
  {
   "cell_type": "code",
   "execution_count": 32,
   "id": "10777171-99b3-4b37-a02a-b6ef0c0bb963",
   "metadata": {},
   "outputs": [],
   "source": [
    "f = files[0]"
   ]
  },
  {
   "cell_type": "code",
   "execution_count": 158,
   "id": "d2de94a9-a303-482c-bbf4-7c185ab8bc31",
   "metadata": {},
   "outputs": [],
   "source": [
    "## Define pipeline functions for emotion, sentiment and location retrieval\n",
    "\n",
    "def get_top_label(scores, topn=1, emo_only=True):\n",
    "    \"\"\"\n",
    "    scores : Output of pipeline(..) function from HuggingFace's transformers package for sentiment/emotion classifier.\n",
    "    topn : Number of scores to output (if value is greater than max length, it is set to max length).\n",
    "    emo_only : Remove the scores and keep only the emotions.\n",
    "    \"\"\"\n",
    "    s = scores[0]\n",
    "    topn = min(topn, len(s))\n",
    "    s = sorted(s, key=lambda d : d['score'], reverse=True)\n",
    "    s = s[:topn]\n",
    "    if emo_only: s = [d['label'] for d in s]\n",
    "    if topn==1 : s = s[0]\n",
    "    return s\n",
    "\n",
    "def _extract_emotion(t, classifier=emotion_classifier):\n",
    "    \"\"\"\n",
    "    Extracts ranked score & emotions.\n",
    "    \"\"\"\n",
    "    score = get_top_label(classifier(t), topn=100, emo_only=False) \n",
    "    return score\n",
    "\n",
    "def _extract_sentiment(t, classifier=sentiment_classifier):\n",
    "    \"\"\"\n",
    "    Extracts ranked score & sentiment (POSITIVE | NEUTRAL | NEGATIVE).\n",
    "    \"\"\"\n",
    "    score = get_top_label(classifier(t), topn=100, emo_only=False) \n",
    "    return score    \n",
    "\n",
    "def _extract_country(l, error_crop = 400, verbose = False) :\n",
    "    \"\"\"\n",
    "    Tries to extract the country from the 'location' field in the tweet. If impossible, sets an empty string.\n",
    "    Note: Error is printed (cropped to 400 chars.)\n",
    "    \"\"\"\n",
    "    try:\n",
    "        country = geolocator.geocode(l, language = \"en\").address.split(',')[-1]\n",
    "        country = \" \".join(country.split())\n",
    "    except Exception as e :\n",
    "        if verbose :\n",
    "            if len(str(e)) < error_crop: print(e)\n",
    "            else : print(str(e)[:error_crop]+'...')\n",
    "        country = ''\n",
    "    # print(l + ' || ' + country)\n",
    "    return country\n",
    "\n",
    "def _preprocess_tweet(t) :\n",
    "    \"\"\"\n",
    "    NLP processing for the text.\n",
    "    Note: tokenization is handled by the models.\n",
    "    \"\"\"\n",
    "    # removes links, mentions, smileys, reserved words, emojis\n",
    "    r = p.clean(t).strip()\n",
    "    \n",
    "    # Matches (?<=#)([A-Z]?[a-z]*) or (?<=[a-z])([A-Z][a-z]*)\n",
    "    # First case is a lookbehind for #, followed by a detection of a sequence optionally starting with a capital letter.\n",
    "    # Second case is a lookbehind for [a-z], followed by a detection of a sequence starting with a capital letter.\n",
    "    # This way we do not separate hashtags with no capital letters in them e.g. #oneforall\n",
    "    r = re.sub(r'(?<=#)([A-Z]?[a-z]*)|(?<=[a-z])([A-Z][a-z]*)', r' \\1\\2', r)\n",
    "    # Replace # by a hashtag\n",
    "    r = re.sub(r'(# )|( #)', '', r)\n",
    "    \n",
    "    return r"
   ]
  },
  {
   "cell_type": "code",
   "execution_count": 159,
   "id": "69dac59a-ae96-4d91-815e-ab281502d2af",
   "metadata": {},
   "outputs": [],
   "source": [
    "def process_df(f):\n",
    "    print(f\"Processing {f}...\")\n",
    "    \n",
    "    ## Read dataframe\n",
    "    tmp = pd.read_csv(data_loc + tweets_loc + f, compression='gzip')\n",
    "\n",
    "    # Get only valid tweets\n",
    "    tmp_en = tmp.loc[(tmp.language == 'en') & (~tmp.location.isna())]\n",
    "    print(f\"Filtered (only english & non-NaN locatio) size: {tmp_en.shape[0]:,} (Total: {tmp.shape[0]:,}; {tmp_en.shape[0] / tmp.shape[0]*100:.2f}%).\")\n",
    "\n",
    "    ## Get subset\n",
    "    idx = int(ratio * tmp_en.shape[0])\n",
    "    sample = tmp_en.sample(frac=1).reset_index(drop=True).iloc[:idx]\n",
    "    print(f\"Sampled {sample.shape[0]:,} lines ({sample.shape[0]/tmp_en.shape[0]*100:.2f}%) from filtered.\")\n",
    "    \n",
    "    print(\"Extracting country...\")\n",
    "    sample['country'] = sample.location.progress_apply(_extract_country)\n",
    "    \n",
    "    processed_text = sample.text.progress_apply(_preprocess_tweet)\n",
    "    print(\"Extracting emotion...\")\n",
    "    sample['emotion'] = processed_text.progress_apply(_extract_emotion)\n",
    "    print(\"Extracting sentiment...\")\n",
    "    sample['sentiment'] = processed_text.progress_apply(_extract_sentiment)\n",
    "    \n",
    "    # Save df\n",
    "    path = data_loc + tweets_processed_loc + f\n",
    "    print(f\"Save file to {path}...\")\n",
    "    sample.to_csv(path)\n",
    "    print(f\"#### Done processing {f}!\\n\")"
   ]
  },
  {
   "cell_type": "code",
   "execution_count": 160,
   "id": "81188b9a-2a3c-45d3-b5ec-9d7d19bfaba1",
   "metadata": {},
   "outputs": [
    {
     "name": "stdout",
     "output_type": "stream",
     "text": [
      "Processing 0227_UkraineCombinedTweetsDeduped.csv.gzip...\n",
      "Filtered (only english & non-NaN locatio) size: 137,362 (Total: 357,018; 38.47%).\n",
      "Sampled 27,472 lines (20.00%) from filtered.\n",
      "Extracting country...\n"
     ]
    },
    {
     "data": {
      "application/vnd.jupyter.widget-view+json": {
       "model_id": "8c7eb3f5d05c430ab50cd6549ba53a1c",
       "version_major": 2,
       "version_minor": 0
      },
      "text/plain": [
       "  0%|          | 0/27472 [00:00<?, ?it/s]"
      ]
     },
     "metadata": {},
     "output_type": "display_data"
    },
    {
     "ename": "KeyboardInterrupt",
     "evalue": "",
     "output_type": "error",
     "traceback": [
      "\u001b[1;31m---------------------------------------------------------------------------\u001b[0m",
      "\u001b[1;31mKeyboardInterrupt\u001b[0m                         Traceback (most recent call last)",
      "\u001b[1;32m~\\AppData\\Local\\Temp/ipykernel_17024/1729017760.py\u001b[0m in \u001b[0;36m<module>\u001b[1;34m\u001b[0m\n\u001b[0;32m      1\u001b[0m \u001b[1;32mfor\u001b[0m \u001b[0mf\u001b[0m \u001b[1;32min\u001b[0m \u001b[0mfiles\u001b[0m\u001b[1;33m:\u001b[0m\u001b[1;33m\u001b[0m\u001b[1;33m\u001b[0m\u001b[0m\n\u001b[1;32m----> 2\u001b[1;33m     \u001b[0mprocess_df\u001b[0m\u001b[1;33m(\u001b[0m\u001b[0mf\u001b[0m\u001b[1;33m)\u001b[0m\u001b[1;33m\u001b[0m\u001b[1;33m\u001b[0m\u001b[0m\n\u001b[0m",
      "\u001b[1;32m~\\AppData\\Local\\Temp/ipykernel_17024/3530816587.py\u001b[0m in \u001b[0;36mprocess_df\u001b[1;34m(f)\u001b[0m\n\u001b[0;32m     15\u001b[0m \u001b[1;33m\u001b[0m\u001b[0m\n\u001b[0;32m     16\u001b[0m     \u001b[0mprint\u001b[0m\u001b[1;33m(\u001b[0m\u001b[1;34m\"Extracting country...\"\u001b[0m\u001b[1;33m)\u001b[0m\u001b[1;33m\u001b[0m\u001b[1;33m\u001b[0m\u001b[0m\n\u001b[1;32m---> 17\u001b[1;33m     \u001b[0msample\u001b[0m\u001b[1;33m[\u001b[0m\u001b[1;34m'country'\u001b[0m\u001b[1;33m]\u001b[0m \u001b[1;33m=\u001b[0m \u001b[0msample\u001b[0m\u001b[1;33m.\u001b[0m\u001b[0mlocation\u001b[0m\u001b[1;33m.\u001b[0m\u001b[0mprogress_apply\u001b[0m\u001b[1;33m(\u001b[0m\u001b[0m_extract_country\u001b[0m\u001b[1;33m)\u001b[0m\u001b[1;33m\u001b[0m\u001b[1;33m\u001b[0m\u001b[0m\n\u001b[0m\u001b[0;32m     18\u001b[0m \u001b[1;33m\u001b[0m\u001b[0m\n\u001b[0;32m     19\u001b[0m     \u001b[0mprocessed_text\u001b[0m \u001b[1;33m=\u001b[0m \u001b[0msample\u001b[0m\u001b[1;33m.\u001b[0m\u001b[0mtext\u001b[0m\u001b[1;33m.\u001b[0m\u001b[0mprogress_apply\u001b[0m\u001b[1;33m(\u001b[0m\u001b[0m_preprocess_tweet\u001b[0m\u001b[1;33m)\u001b[0m\u001b[1;33m\u001b[0m\u001b[1;33m\u001b[0m\u001b[0m\n",
      "\u001b[1;32m~\\anaconda3\\envs\\plt\\lib\\site-packages\\tqdm\\std.py\u001b[0m in \u001b[0;36minner\u001b[1;34m(df, func, *args, **kwargs)\u001b[0m\n\u001b[0;32m    812\u001b[0m                 \u001b[1;31m# on the df using our wrapper (which provides bar updating)\u001b[0m\u001b[1;33m\u001b[0m\u001b[1;33m\u001b[0m\u001b[0m\n\u001b[0;32m    813\u001b[0m                 \u001b[1;32mtry\u001b[0m\u001b[1;33m:\u001b[0m\u001b[1;33m\u001b[0m\u001b[1;33m\u001b[0m\u001b[0m\n\u001b[1;32m--> 814\u001b[1;33m                     \u001b[1;32mreturn\u001b[0m \u001b[0mgetattr\u001b[0m\u001b[1;33m(\u001b[0m\u001b[0mdf\u001b[0m\u001b[1;33m,\u001b[0m \u001b[0mdf_function\u001b[0m\u001b[1;33m)\u001b[0m\u001b[1;33m(\u001b[0m\u001b[0mwrapper\u001b[0m\u001b[1;33m,\u001b[0m \u001b[1;33m**\u001b[0m\u001b[0mkwargs\u001b[0m\u001b[1;33m)\u001b[0m\u001b[1;33m\u001b[0m\u001b[1;33m\u001b[0m\u001b[0m\n\u001b[0m\u001b[0;32m    815\u001b[0m                 \u001b[1;32mfinally\u001b[0m\u001b[1;33m:\u001b[0m\u001b[1;33m\u001b[0m\u001b[1;33m\u001b[0m\u001b[0m\n\u001b[0;32m    816\u001b[0m                     \u001b[0mt\u001b[0m\u001b[1;33m.\u001b[0m\u001b[0mclose\u001b[0m\u001b[1;33m(\u001b[0m\u001b[1;33m)\u001b[0m\u001b[1;33m\u001b[0m\u001b[1;33m\u001b[0m\u001b[0m\n",
      "\u001b[1;32m~\\anaconda3\\envs\\plt\\lib\\site-packages\\pandas\\core\\series.py\u001b[0m in \u001b[0;36mapply\u001b[1;34m(self, func, convert_dtype, args, **kwargs)\u001b[0m\n\u001b[0;32m   4355\u001b[0m         \u001b[0mdtype\u001b[0m\u001b[1;33m:\u001b[0m \u001b[0mfloat64\u001b[0m\u001b[1;33m\u001b[0m\u001b[1;33m\u001b[0m\u001b[0m\n\u001b[0;32m   4356\u001b[0m         \"\"\"\n\u001b[1;32m-> 4357\u001b[1;33m         \u001b[1;32mreturn\u001b[0m \u001b[0mSeriesApply\u001b[0m\u001b[1;33m(\u001b[0m\u001b[0mself\u001b[0m\u001b[1;33m,\u001b[0m \u001b[0mfunc\u001b[0m\u001b[1;33m,\u001b[0m \u001b[0mconvert_dtype\u001b[0m\u001b[1;33m,\u001b[0m \u001b[0margs\u001b[0m\u001b[1;33m,\u001b[0m \u001b[0mkwargs\u001b[0m\u001b[1;33m)\u001b[0m\u001b[1;33m.\u001b[0m\u001b[0mapply\u001b[0m\u001b[1;33m(\u001b[0m\u001b[1;33m)\u001b[0m\u001b[1;33m\u001b[0m\u001b[1;33m\u001b[0m\u001b[0m\n\u001b[0m\u001b[0;32m   4358\u001b[0m \u001b[1;33m\u001b[0m\u001b[0m\n\u001b[0;32m   4359\u001b[0m     def _reduce(\n",
      "\u001b[1;32m~\\anaconda3\\envs\\plt\\lib\\site-packages\\pandas\\core\\apply.py\u001b[0m in \u001b[0;36mapply\u001b[1;34m(self)\u001b[0m\n\u001b[0;32m   1041\u001b[0m             \u001b[1;32mreturn\u001b[0m \u001b[0mself\u001b[0m\u001b[1;33m.\u001b[0m\u001b[0mapply_str\u001b[0m\u001b[1;33m(\u001b[0m\u001b[1;33m)\u001b[0m\u001b[1;33m\u001b[0m\u001b[1;33m\u001b[0m\u001b[0m\n\u001b[0;32m   1042\u001b[0m \u001b[1;33m\u001b[0m\u001b[0m\n\u001b[1;32m-> 1043\u001b[1;33m         \u001b[1;32mreturn\u001b[0m \u001b[0mself\u001b[0m\u001b[1;33m.\u001b[0m\u001b[0mapply_standard\u001b[0m\u001b[1;33m(\u001b[0m\u001b[1;33m)\u001b[0m\u001b[1;33m\u001b[0m\u001b[1;33m\u001b[0m\u001b[0m\n\u001b[0m\u001b[0;32m   1044\u001b[0m \u001b[1;33m\u001b[0m\u001b[0m\n\u001b[0;32m   1045\u001b[0m     \u001b[1;32mdef\u001b[0m \u001b[0magg\u001b[0m\u001b[1;33m(\u001b[0m\u001b[0mself\u001b[0m\u001b[1;33m)\u001b[0m\u001b[1;33m:\u001b[0m\u001b[1;33m\u001b[0m\u001b[1;33m\u001b[0m\u001b[0m\n",
      "\u001b[1;32m~\\anaconda3\\envs\\plt\\lib\\site-packages\\pandas\\core\\apply.py\u001b[0m in \u001b[0;36mapply_standard\u001b[1;34m(self)\u001b[0m\n\u001b[0;32m   1096\u001b[0m                 \u001b[1;31m# List[Union[Callable[..., Any], str]]]]]\"; expected\u001b[0m\u001b[1;33m\u001b[0m\u001b[1;33m\u001b[0m\u001b[0m\n\u001b[0;32m   1097\u001b[0m                 \u001b[1;31m# \"Callable[[Any], Any]\"\u001b[0m\u001b[1;33m\u001b[0m\u001b[1;33m\u001b[0m\u001b[0m\n\u001b[1;32m-> 1098\u001b[1;33m                 mapped = lib.map_infer(\n\u001b[0m\u001b[0;32m   1099\u001b[0m                     \u001b[0mvalues\u001b[0m\u001b[1;33m,\u001b[0m\u001b[1;33m\u001b[0m\u001b[1;33m\u001b[0m\u001b[0m\n\u001b[0;32m   1100\u001b[0m                     \u001b[0mf\u001b[0m\u001b[1;33m,\u001b[0m  \u001b[1;31m# type: ignore[arg-type]\u001b[0m\u001b[1;33m\u001b[0m\u001b[1;33m\u001b[0m\u001b[0m\n",
      "\u001b[1;32m~\\anaconda3\\envs\\plt\\lib\\site-packages\\pandas\\_libs\\lib.pyx\u001b[0m in \u001b[0;36mpandas._libs.lib.map_infer\u001b[1;34m()\u001b[0m\n",
      "\u001b[1;32m~\\anaconda3\\envs\\plt\\lib\\site-packages\\tqdm\\std.py\u001b[0m in \u001b[0;36mwrapper\u001b[1;34m(*args, **kwargs)\u001b[0m\n\u001b[0;32m    807\u001b[0m                     \u001b[1;31m# take a fast or slow code path; so stop when t.total==t.n\u001b[0m\u001b[1;33m\u001b[0m\u001b[1;33m\u001b[0m\u001b[0m\n\u001b[0;32m    808\u001b[0m                     \u001b[0mt\u001b[0m\u001b[1;33m.\u001b[0m\u001b[0mupdate\u001b[0m\u001b[1;33m(\u001b[0m\u001b[0mn\u001b[0m\u001b[1;33m=\u001b[0m\u001b[1;36m1\u001b[0m \u001b[1;32mif\u001b[0m \u001b[1;32mnot\u001b[0m \u001b[0mt\u001b[0m\u001b[1;33m.\u001b[0m\u001b[0mtotal\u001b[0m \u001b[1;32mor\u001b[0m \u001b[0mt\u001b[0m\u001b[1;33m.\u001b[0m\u001b[0mn\u001b[0m \u001b[1;33m<\u001b[0m \u001b[0mt\u001b[0m\u001b[1;33m.\u001b[0m\u001b[0mtotal\u001b[0m \u001b[1;32melse\u001b[0m \u001b[1;36m0\u001b[0m\u001b[1;33m)\u001b[0m\u001b[1;33m\u001b[0m\u001b[1;33m\u001b[0m\u001b[0m\n\u001b[1;32m--> 809\u001b[1;33m                     \u001b[1;32mreturn\u001b[0m \u001b[0mfunc\u001b[0m\u001b[1;33m(\u001b[0m\u001b[1;33m*\u001b[0m\u001b[0margs\u001b[0m\u001b[1;33m,\u001b[0m \u001b[1;33m**\u001b[0m\u001b[0mkwargs\u001b[0m\u001b[1;33m)\u001b[0m\u001b[1;33m\u001b[0m\u001b[1;33m\u001b[0m\u001b[0m\n\u001b[0m\u001b[0;32m    810\u001b[0m \u001b[1;33m\u001b[0m\u001b[0m\n\u001b[0;32m    811\u001b[0m                 \u001b[1;31m# Apply the provided function (in **kwargs)\u001b[0m\u001b[1;33m\u001b[0m\u001b[1;33m\u001b[0m\u001b[0m\n",
      "\u001b[1;32m~\\AppData\\Local\\Temp/ipykernel_17024/3232649615.py\u001b[0m in \u001b[0;36m_extract_country\u001b[1;34m(l, error_crop, verbose)\u001b[0m\n\u001b[0;32m     35\u001b[0m     \"\"\"\n\u001b[0;32m     36\u001b[0m     \u001b[1;32mtry\u001b[0m\u001b[1;33m:\u001b[0m\u001b[1;33m\u001b[0m\u001b[1;33m\u001b[0m\u001b[0m\n\u001b[1;32m---> 37\u001b[1;33m         \u001b[0mcountry\u001b[0m \u001b[1;33m=\u001b[0m \u001b[0mgeolocator\u001b[0m\u001b[1;33m.\u001b[0m\u001b[0mgeocode\u001b[0m\u001b[1;33m(\u001b[0m\u001b[0ml\u001b[0m\u001b[1;33m,\u001b[0m \u001b[0mlanguage\u001b[0m \u001b[1;33m=\u001b[0m \u001b[1;34m\"en\"\u001b[0m\u001b[1;33m)\u001b[0m\u001b[1;33m.\u001b[0m\u001b[0maddress\u001b[0m\u001b[1;33m.\u001b[0m\u001b[0msplit\u001b[0m\u001b[1;33m(\u001b[0m\u001b[1;34m','\u001b[0m\u001b[1;33m)\u001b[0m\u001b[1;33m[\u001b[0m\u001b[1;33m-\u001b[0m\u001b[1;36m1\u001b[0m\u001b[1;33m]\u001b[0m\u001b[1;33m\u001b[0m\u001b[1;33m\u001b[0m\u001b[0m\n\u001b[0m\u001b[0;32m     38\u001b[0m         \u001b[0mcountry\u001b[0m \u001b[1;33m=\u001b[0m \u001b[1;34m\" \"\u001b[0m\u001b[1;33m.\u001b[0m\u001b[0mjoin\u001b[0m\u001b[1;33m(\u001b[0m\u001b[0mcountry\u001b[0m\u001b[1;33m.\u001b[0m\u001b[0msplit\u001b[0m\u001b[1;33m(\u001b[0m\u001b[1;33m)\u001b[0m\u001b[1;33m)\u001b[0m\u001b[1;33m\u001b[0m\u001b[1;33m\u001b[0m\u001b[0m\n\u001b[0;32m     39\u001b[0m     \u001b[1;32mexcept\u001b[0m \u001b[0mException\u001b[0m \u001b[1;32mas\u001b[0m \u001b[0me\u001b[0m \u001b[1;33m:\u001b[0m\u001b[1;33m\u001b[0m\u001b[1;33m\u001b[0m\u001b[0m\n",
      "\u001b[1;32m~\\anaconda3\\envs\\plt\\lib\\site-packages\\geopy\\geocoders\\nominatim.py\u001b[0m in \u001b[0;36mgeocode\u001b[1;34m(self, query, exactly_one, timeout, limit, addressdetails, language, geometry, extratags, country_codes, viewbox, bounded, featuretype, namedetails)\u001b[0m\n\u001b[0;32m    295\u001b[0m         \u001b[0mlogger\u001b[0m\u001b[1;33m.\u001b[0m\u001b[0mdebug\u001b[0m\u001b[1;33m(\u001b[0m\u001b[1;34m\"%s.geocode: %s\"\u001b[0m\u001b[1;33m,\u001b[0m \u001b[0mself\u001b[0m\u001b[1;33m.\u001b[0m\u001b[0m__class__\u001b[0m\u001b[1;33m.\u001b[0m\u001b[0m__name__\u001b[0m\u001b[1;33m,\u001b[0m \u001b[0murl\u001b[0m\u001b[1;33m)\u001b[0m\u001b[1;33m\u001b[0m\u001b[1;33m\u001b[0m\u001b[0m\n\u001b[0;32m    296\u001b[0m         \u001b[0mcallback\u001b[0m \u001b[1;33m=\u001b[0m \u001b[0mpartial\u001b[0m\u001b[1;33m(\u001b[0m\u001b[0mself\u001b[0m\u001b[1;33m.\u001b[0m\u001b[0m_parse_json\u001b[0m\u001b[1;33m,\u001b[0m \u001b[0mexactly_one\u001b[0m\u001b[1;33m=\u001b[0m\u001b[0mexactly_one\u001b[0m\u001b[1;33m)\u001b[0m\u001b[1;33m\u001b[0m\u001b[1;33m\u001b[0m\u001b[0m\n\u001b[1;32m--> 297\u001b[1;33m         \u001b[1;32mreturn\u001b[0m \u001b[0mself\u001b[0m\u001b[1;33m.\u001b[0m\u001b[0m_call_geocoder\u001b[0m\u001b[1;33m(\u001b[0m\u001b[0murl\u001b[0m\u001b[1;33m,\u001b[0m \u001b[0mcallback\u001b[0m\u001b[1;33m,\u001b[0m \u001b[0mtimeout\u001b[0m\u001b[1;33m=\u001b[0m\u001b[0mtimeout\u001b[0m\u001b[1;33m)\u001b[0m\u001b[1;33m\u001b[0m\u001b[1;33m\u001b[0m\u001b[0m\n\u001b[0m\u001b[0;32m    298\u001b[0m \u001b[1;33m\u001b[0m\u001b[0m\n\u001b[0;32m    299\u001b[0m     def reverse(\n",
      "\u001b[1;32m~\\anaconda3\\envs\\plt\\lib\\site-packages\\geopy\\geocoders\\base.py\u001b[0m in \u001b[0;36m_call_geocoder\u001b[1;34m(self, url, callback, timeout, is_json, headers)\u001b[0m\n\u001b[0;32m    366\u001b[0m         \u001b[1;32mtry\u001b[0m\u001b[1;33m:\u001b[0m\u001b[1;33m\u001b[0m\u001b[1;33m\u001b[0m\u001b[0m\n\u001b[0;32m    367\u001b[0m             \u001b[1;32mif\u001b[0m \u001b[0mis_json\u001b[0m\u001b[1;33m:\u001b[0m\u001b[1;33m\u001b[0m\u001b[1;33m\u001b[0m\u001b[0m\n\u001b[1;32m--> 368\u001b[1;33m                 \u001b[0mresult\u001b[0m \u001b[1;33m=\u001b[0m \u001b[0mself\u001b[0m\u001b[1;33m.\u001b[0m\u001b[0madapter\u001b[0m\u001b[1;33m.\u001b[0m\u001b[0mget_json\u001b[0m\u001b[1;33m(\u001b[0m\u001b[0murl\u001b[0m\u001b[1;33m,\u001b[0m \u001b[0mtimeout\u001b[0m\u001b[1;33m=\u001b[0m\u001b[0mtimeout\u001b[0m\u001b[1;33m,\u001b[0m \u001b[0mheaders\u001b[0m\u001b[1;33m=\u001b[0m\u001b[0mreq_headers\u001b[0m\u001b[1;33m)\u001b[0m\u001b[1;33m\u001b[0m\u001b[1;33m\u001b[0m\u001b[0m\n\u001b[0m\u001b[0;32m    369\u001b[0m             \u001b[1;32melse\u001b[0m\u001b[1;33m:\u001b[0m\u001b[1;33m\u001b[0m\u001b[1;33m\u001b[0m\u001b[0m\n\u001b[0;32m    370\u001b[0m                 \u001b[0mresult\u001b[0m \u001b[1;33m=\u001b[0m \u001b[0mself\u001b[0m\u001b[1;33m.\u001b[0m\u001b[0madapter\u001b[0m\u001b[1;33m.\u001b[0m\u001b[0mget_text\u001b[0m\u001b[1;33m(\u001b[0m\u001b[0murl\u001b[0m\u001b[1;33m,\u001b[0m \u001b[0mtimeout\u001b[0m\u001b[1;33m=\u001b[0m\u001b[0mtimeout\u001b[0m\u001b[1;33m,\u001b[0m \u001b[0mheaders\u001b[0m\u001b[1;33m=\u001b[0m\u001b[0mreq_headers\u001b[0m\u001b[1;33m)\u001b[0m\u001b[1;33m\u001b[0m\u001b[1;33m\u001b[0m\u001b[0m\n",
      "\u001b[1;32m~\\anaconda3\\envs\\plt\\lib\\site-packages\\geopy\\adapters.py\u001b[0m in \u001b[0;36mget_json\u001b[1;34m(self, url, timeout, headers)\u001b[0m\n\u001b[0;32m    436\u001b[0m \u001b[1;33m\u001b[0m\u001b[0m\n\u001b[0;32m    437\u001b[0m     \u001b[1;32mdef\u001b[0m \u001b[0mget_json\u001b[0m\u001b[1;33m(\u001b[0m\u001b[0mself\u001b[0m\u001b[1;33m,\u001b[0m \u001b[0murl\u001b[0m\u001b[1;33m,\u001b[0m \u001b[1;33m*\u001b[0m\u001b[1;33m,\u001b[0m \u001b[0mtimeout\u001b[0m\u001b[1;33m,\u001b[0m \u001b[0mheaders\u001b[0m\u001b[1;33m)\u001b[0m\u001b[1;33m:\u001b[0m\u001b[1;33m\u001b[0m\u001b[1;33m\u001b[0m\u001b[0m\n\u001b[1;32m--> 438\u001b[1;33m         \u001b[0mresp\u001b[0m \u001b[1;33m=\u001b[0m \u001b[0mself\u001b[0m\u001b[1;33m.\u001b[0m\u001b[0m_request\u001b[0m\u001b[1;33m(\u001b[0m\u001b[0murl\u001b[0m\u001b[1;33m,\u001b[0m \u001b[0mtimeout\u001b[0m\u001b[1;33m=\u001b[0m\u001b[0mtimeout\u001b[0m\u001b[1;33m,\u001b[0m \u001b[0mheaders\u001b[0m\u001b[1;33m=\u001b[0m\u001b[0mheaders\u001b[0m\u001b[1;33m)\u001b[0m\u001b[1;33m\u001b[0m\u001b[1;33m\u001b[0m\u001b[0m\n\u001b[0m\u001b[0;32m    439\u001b[0m         \u001b[1;32mtry\u001b[0m\u001b[1;33m:\u001b[0m\u001b[1;33m\u001b[0m\u001b[1;33m\u001b[0m\u001b[0m\n\u001b[0;32m    440\u001b[0m             \u001b[1;32mreturn\u001b[0m \u001b[0mresp\u001b[0m\u001b[1;33m.\u001b[0m\u001b[0mjson\u001b[0m\u001b[1;33m(\u001b[0m\u001b[1;33m)\u001b[0m\u001b[1;33m\u001b[0m\u001b[1;33m\u001b[0m\u001b[0m\n",
      "\u001b[1;32m~\\anaconda3\\envs\\plt\\lib\\site-packages\\geopy\\adapters.py\u001b[0m in \u001b[0;36m_request\u001b[1;34m(self, url, timeout, headers)\u001b[0m\n\u001b[0;32m    446\u001b[0m     \u001b[1;32mdef\u001b[0m \u001b[0m_request\u001b[0m\u001b[1;33m(\u001b[0m\u001b[0mself\u001b[0m\u001b[1;33m,\u001b[0m \u001b[0murl\u001b[0m\u001b[1;33m,\u001b[0m \u001b[1;33m*\u001b[0m\u001b[1;33m,\u001b[0m \u001b[0mtimeout\u001b[0m\u001b[1;33m,\u001b[0m \u001b[0mheaders\u001b[0m\u001b[1;33m)\u001b[0m\u001b[1;33m:\u001b[0m\u001b[1;33m\u001b[0m\u001b[1;33m\u001b[0m\u001b[0m\n\u001b[0;32m    447\u001b[0m         \u001b[1;32mtry\u001b[0m\u001b[1;33m:\u001b[0m\u001b[1;33m\u001b[0m\u001b[1;33m\u001b[0m\u001b[0m\n\u001b[1;32m--> 448\u001b[1;33m             \u001b[0mresp\u001b[0m \u001b[1;33m=\u001b[0m \u001b[0mself\u001b[0m\u001b[1;33m.\u001b[0m\u001b[0msession\u001b[0m\u001b[1;33m.\u001b[0m\u001b[0mget\u001b[0m\u001b[1;33m(\u001b[0m\u001b[0murl\u001b[0m\u001b[1;33m,\u001b[0m \u001b[0mtimeout\u001b[0m\u001b[1;33m=\u001b[0m\u001b[0mtimeout\u001b[0m\u001b[1;33m,\u001b[0m \u001b[0mheaders\u001b[0m\u001b[1;33m=\u001b[0m\u001b[0mheaders\u001b[0m\u001b[1;33m)\u001b[0m\u001b[1;33m\u001b[0m\u001b[1;33m\u001b[0m\u001b[0m\n\u001b[0m\u001b[0;32m    449\u001b[0m         \u001b[1;32mexcept\u001b[0m \u001b[0mException\u001b[0m \u001b[1;32mas\u001b[0m \u001b[0merror\u001b[0m\u001b[1;33m:\u001b[0m\u001b[1;33m\u001b[0m\u001b[1;33m\u001b[0m\u001b[0m\n\u001b[0;32m    450\u001b[0m             \u001b[0mmessage\u001b[0m \u001b[1;33m=\u001b[0m \u001b[0mstr\u001b[0m\u001b[1;33m(\u001b[0m\u001b[0merror\u001b[0m\u001b[1;33m)\u001b[0m\u001b[1;33m\u001b[0m\u001b[1;33m\u001b[0m\u001b[0m\n",
      "\u001b[1;32m~\\anaconda3\\envs\\plt\\lib\\site-packages\\requests\\sessions.py\u001b[0m in \u001b[0;36mget\u001b[1;34m(self, url, **kwargs)\u001b[0m\n\u001b[0;32m    553\u001b[0m \u001b[1;33m\u001b[0m\u001b[0m\n\u001b[0;32m    554\u001b[0m         \u001b[0mkwargs\u001b[0m\u001b[1;33m.\u001b[0m\u001b[0msetdefault\u001b[0m\u001b[1;33m(\u001b[0m\u001b[1;34m'allow_redirects'\u001b[0m\u001b[1;33m,\u001b[0m \u001b[1;32mTrue\u001b[0m\u001b[1;33m)\u001b[0m\u001b[1;33m\u001b[0m\u001b[1;33m\u001b[0m\u001b[0m\n\u001b[1;32m--> 555\u001b[1;33m         \u001b[1;32mreturn\u001b[0m \u001b[0mself\u001b[0m\u001b[1;33m.\u001b[0m\u001b[0mrequest\u001b[0m\u001b[1;33m(\u001b[0m\u001b[1;34m'GET'\u001b[0m\u001b[1;33m,\u001b[0m \u001b[0murl\u001b[0m\u001b[1;33m,\u001b[0m \u001b[1;33m**\u001b[0m\u001b[0mkwargs\u001b[0m\u001b[1;33m)\u001b[0m\u001b[1;33m\u001b[0m\u001b[1;33m\u001b[0m\u001b[0m\n\u001b[0m\u001b[0;32m    556\u001b[0m \u001b[1;33m\u001b[0m\u001b[0m\n\u001b[0;32m    557\u001b[0m     \u001b[1;32mdef\u001b[0m \u001b[0moptions\u001b[0m\u001b[1;33m(\u001b[0m\u001b[0mself\u001b[0m\u001b[1;33m,\u001b[0m \u001b[0murl\u001b[0m\u001b[1;33m,\u001b[0m \u001b[1;33m**\u001b[0m\u001b[0mkwargs\u001b[0m\u001b[1;33m)\u001b[0m\u001b[1;33m:\u001b[0m\u001b[1;33m\u001b[0m\u001b[1;33m\u001b[0m\u001b[0m\n",
      "\u001b[1;32m~\\anaconda3\\envs\\plt\\lib\\site-packages\\requests\\sessions.py\u001b[0m in \u001b[0;36mrequest\u001b[1;34m(self, method, url, params, data, headers, cookies, files, auth, timeout, allow_redirects, proxies, hooks, stream, verify, cert, json)\u001b[0m\n\u001b[0;32m    540\u001b[0m         }\n\u001b[0;32m    541\u001b[0m         \u001b[0msend_kwargs\u001b[0m\u001b[1;33m.\u001b[0m\u001b[0mupdate\u001b[0m\u001b[1;33m(\u001b[0m\u001b[0msettings\u001b[0m\u001b[1;33m)\u001b[0m\u001b[1;33m\u001b[0m\u001b[1;33m\u001b[0m\u001b[0m\n\u001b[1;32m--> 542\u001b[1;33m         \u001b[0mresp\u001b[0m \u001b[1;33m=\u001b[0m \u001b[0mself\u001b[0m\u001b[1;33m.\u001b[0m\u001b[0msend\u001b[0m\u001b[1;33m(\u001b[0m\u001b[0mprep\u001b[0m\u001b[1;33m,\u001b[0m \u001b[1;33m**\u001b[0m\u001b[0msend_kwargs\u001b[0m\u001b[1;33m)\u001b[0m\u001b[1;33m\u001b[0m\u001b[1;33m\u001b[0m\u001b[0m\n\u001b[0m\u001b[0;32m    543\u001b[0m \u001b[1;33m\u001b[0m\u001b[0m\n\u001b[0;32m    544\u001b[0m         \u001b[1;32mreturn\u001b[0m \u001b[0mresp\u001b[0m\u001b[1;33m\u001b[0m\u001b[1;33m\u001b[0m\u001b[0m\n",
      "\u001b[1;32m~\\anaconda3\\envs\\plt\\lib\\site-packages\\requests\\sessions.py\u001b[0m in \u001b[0;36msend\u001b[1;34m(self, request, **kwargs)\u001b[0m\n\u001b[0;32m    653\u001b[0m \u001b[1;33m\u001b[0m\u001b[0m\n\u001b[0;32m    654\u001b[0m         \u001b[1;31m# Send the request\u001b[0m\u001b[1;33m\u001b[0m\u001b[1;33m\u001b[0m\u001b[0m\n\u001b[1;32m--> 655\u001b[1;33m         \u001b[0mr\u001b[0m \u001b[1;33m=\u001b[0m \u001b[0madapter\u001b[0m\u001b[1;33m.\u001b[0m\u001b[0msend\u001b[0m\u001b[1;33m(\u001b[0m\u001b[0mrequest\u001b[0m\u001b[1;33m,\u001b[0m \u001b[1;33m**\u001b[0m\u001b[0mkwargs\u001b[0m\u001b[1;33m)\u001b[0m\u001b[1;33m\u001b[0m\u001b[1;33m\u001b[0m\u001b[0m\n\u001b[0m\u001b[0;32m    656\u001b[0m \u001b[1;33m\u001b[0m\u001b[0m\n\u001b[0;32m    657\u001b[0m         \u001b[1;31m# Total elapsed time of the request (approximately)\u001b[0m\u001b[1;33m\u001b[0m\u001b[1;33m\u001b[0m\u001b[0m\n",
      "\u001b[1;32m~\\anaconda3\\envs\\plt\\lib\\site-packages\\requests\\adapters.py\u001b[0m in \u001b[0;36msend\u001b[1;34m(self, request, stream, timeout, verify, cert, proxies)\u001b[0m\n\u001b[0;32m    437\u001b[0m         \u001b[1;32mtry\u001b[0m\u001b[1;33m:\u001b[0m\u001b[1;33m\u001b[0m\u001b[1;33m\u001b[0m\u001b[0m\n\u001b[0;32m    438\u001b[0m             \u001b[1;32mif\u001b[0m \u001b[1;32mnot\u001b[0m \u001b[0mchunked\u001b[0m\u001b[1;33m:\u001b[0m\u001b[1;33m\u001b[0m\u001b[1;33m\u001b[0m\u001b[0m\n\u001b[1;32m--> 439\u001b[1;33m                 resp = conn.urlopen(\n\u001b[0m\u001b[0;32m    440\u001b[0m                     \u001b[0mmethod\u001b[0m\u001b[1;33m=\u001b[0m\u001b[0mrequest\u001b[0m\u001b[1;33m.\u001b[0m\u001b[0mmethod\u001b[0m\u001b[1;33m,\u001b[0m\u001b[1;33m\u001b[0m\u001b[1;33m\u001b[0m\u001b[0m\n\u001b[0;32m    441\u001b[0m                     \u001b[0murl\u001b[0m\u001b[1;33m=\u001b[0m\u001b[0murl\u001b[0m\u001b[1;33m,\u001b[0m\u001b[1;33m\u001b[0m\u001b[1;33m\u001b[0m\u001b[0m\n",
      "\u001b[1;32m~\\anaconda3\\envs\\plt\\lib\\site-packages\\urllib3\\connectionpool.py\u001b[0m in \u001b[0;36murlopen\u001b[1;34m(self, method, url, body, headers, retries, redirect, assert_same_host, timeout, pool_timeout, release_conn, chunked, body_pos, **response_kw)\u001b[0m\n\u001b[0;32m    697\u001b[0m \u001b[1;33m\u001b[0m\u001b[0m\n\u001b[0;32m    698\u001b[0m             \u001b[1;31m# Make the request on the httplib connection object.\u001b[0m\u001b[1;33m\u001b[0m\u001b[1;33m\u001b[0m\u001b[0m\n\u001b[1;32m--> 699\u001b[1;33m             httplib_response = self._make_request(\n\u001b[0m\u001b[0;32m    700\u001b[0m                 \u001b[0mconn\u001b[0m\u001b[1;33m,\u001b[0m\u001b[1;33m\u001b[0m\u001b[1;33m\u001b[0m\u001b[0m\n\u001b[0;32m    701\u001b[0m                 \u001b[0mmethod\u001b[0m\u001b[1;33m,\u001b[0m\u001b[1;33m\u001b[0m\u001b[1;33m\u001b[0m\u001b[0m\n",
      "\u001b[1;32m~\\anaconda3\\envs\\plt\\lib\\site-packages\\urllib3\\connectionpool.py\u001b[0m in \u001b[0;36m_make_request\u001b[1;34m(self, conn, method, url, timeout, chunked, **httplib_request_kw)\u001b[0m\n\u001b[0;32m    443\u001b[0m                     \u001b[1;31m# Python 3 (including for exceptions like SystemExit).\u001b[0m\u001b[1;33m\u001b[0m\u001b[1;33m\u001b[0m\u001b[0m\n\u001b[0;32m    444\u001b[0m                     \u001b[1;31m# Otherwise it looks like a bug in the code.\u001b[0m\u001b[1;33m\u001b[0m\u001b[1;33m\u001b[0m\u001b[0m\n\u001b[1;32m--> 445\u001b[1;33m                     \u001b[0msix\u001b[0m\u001b[1;33m.\u001b[0m\u001b[0mraise_from\u001b[0m\u001b[1;33m(\u001b[0m\u001b[0me\u001b[0m\u001b[1;33m,\u001b[0m \u001b[1;32mNone\u001b[0m\u001b[1;33m)\u001b[0m\u001b[1;33m\u001b[0m\u001b[1;33m\u001b[0m\u001b[0m\n\u001b[0m\u001b[0;32m    446\u001b[0m         \u001b[1;32mexcept\u001b[0m \u001b[1;33m(\u001b[0m\u001b[0mSocketTimeout\u001b[0m\u001b[1;33m,\u001b[0m \u001b[0mBaseSSLError\u001b[0m\u001b[1;33m,\u001b[0m \u001b[0mSocketError\u001b[0m\u001b[1;33m)\u001b[0m \u001b[1;32mas\u001b[0m \u001b[0me\u001b[0m\u001b[1;33m:\u001b[0m\u001b[1;33m\u001b[0m\u001b[1;33m\u001b[0m\u001b[0m\n\u001b[0;32m    447\u001b[0m             \u001b[0mself\u001b[0m\u001b[1;33m.\u001b[0m\u001b[0m_raise_timeout\u001b[0m\u001b[1;33m(\u001b[0m\u001b[0merr\u001b[0m\u001b[1;33m=\u001b[0m\u001b[0me\u001b[0m\u001b[1;33m,\u001b[0m \u001b[0murl\u001b[0m\u001b[1;33m=\u001b[0m\u001b[0murl\u001b[0m\u001b[1;33m,\u001b[0m \u001b[0mtimeout_value\u001b[0m\u001b[1;33m=\u001b[0m\u001b[0mread_timeout\u001b[0m\u001b[1;33m)\u001b[0m\u001b[1;33m\u001b[0m\u001b[1;33m\u001b[0m\u001b[0m\n",
      "\u001b[1;32m~\\anaconda3\\envs\\plt\\lib\\site-packages\\urllib3\\packages\\six.py\u001b[0m in \u001b[0;36mraise_from\u001b[1;34m(value, from_value)\u001b[0m\n",
      "\u001b[1;32m~\\anaconda3\\envs\\plt\\lib\\site-packages\\urllib3\\connectionpool.py\u001b[0m in \u001b[0;36m_make_request\u001b[1;34m(self, conn, method, url, timeout, chunked, **httplib_request_kw)\u001b[0m\n\u001b[0;32m    438\u001b[0m                 \u001b[1;31m# Python 3\u001b[0m\u001b[1;33m\u001b[0m\u001b[1;33m\u001b[0m\u001b[0m\n\u001b[0;32m    439\u001b[0m                 \u001b[1;32mtry\u001b[0m\u001b[1;33m:\u001b[0m\u001b[1;33m\u001b[0m\u001b[1;33m\u001b[0m\u001b[0m\n\u001b[1;32m--> 440\u001b[1;33m                     \u001b[0mhttplib_response\u001b[0m \u001b[1;33m=\u001b[0m \u001b[0mconn\u001b[0m\u001b[1;33m.\u001b[0m\u001b[0mgetresponse\u001b[0m\u001b[1;33m(\u001b[0m\u001b[1;33m)\u001b[0m\u001b[1;33m\u001b[0m\u001b[1;33m\u001b[0m\u001b[0m\n\u001b[0m\u001b[0;32m    441\u001b[0m                 \u001b[1;32mexcept\u001b[0m \u001b[0mBaseException\u001b[0m \u001b[1;32mas\u001b[0m \u001b[0me\u001b[0m\u001b[1;33m:\u001b[0m\u001b[1;33m\u001b[0m\u001b[1;33m\u001b[0m\u001b[0m\n\u001b[0;32m    442\u001b[0m                     \u001b[1;31m# Remove the TypeError from the exception chain in\u001b[0m\u001b[1;33m\u001b[0m\u001b[1;33m\u001b[0m\u001b[0m\n",
      "\u001b[1;32m~\\anaconda3\\envs\\plt\\lib\\http\\client.py\u001b[0m in \u001b[0;36mgetresponse\u001b[1;34m(self)\u001b[0m\n\u001b[0;32m   1369\u001b[0m         \u001b[1;32mtry\u001b[0m\u001b[1;33m:\u001b[0m\u001b[1;33m\u001b[0m\u001b[1;33m\u001b[0m\u001b[0m\n\u001b[0;32m   1370\u001b[0m             \u001b[1;32mtry\u001b[0m\u001b[1;33m:\u001b[0m\u001b[1;33m\u001b[0m\u001b[1;33m\u001b[0m\u001b[0m\n\u001b[1;32m-> 1371\u001b[1;33m                 \u001b[0mresponse\u001b[0m\u001b[1;33m.\u001b[0m\u001b[0mbegin\u001b[0m\u001b[1;33m(\u001b[0m\u001b[1;33m)\u001b[0m\u001b[1;33m\u001b[0m\u001b[1;33m\u001b[0m\u001b[0m\n\u001b[0m\u001b[0;32m   1372\u001b[0m             \u001b[1;32mexcept\u001b[0m \u001b[0mConnectionError\u001b[0m\u001b[1;33m:\u001b[0m\u001b[1;33m\u001b[0m\u001b[1;33m\u001b[0m\u001b[0m\n\u001b[0;32m   1373\u001b[0m                 \u001b[0mself\u001b[0m\u001b[1;33m.\u001b[0m\u001b[0mclose\u001b[0m\u001b[1;33m(\u001b[0m\u001b[1;33m)\u001b[0m\u001b[1;33m\u001b[0m\u001b[1;33m\u001b[0m\u001b[0m\n",
      "\u001b[1;32m~\\anaconda3\\envs\\plt\\lib\\http\\client.py\u001b[0m in \u001b[0;36mbegin\u001b[1;34m(self)\u001b[0m\n\u001b[0;32m    317\u001b[0m         \u001b[1;31m# read until we get a non-100 response\u001b[0m\u001b[1;33m\u001b[0m\u001b[1;33m\u001b[0m\u001b[0m\n\u001b[0;32m    318\u001b[0m         \u001b[1;32mwhile\u001b[0m \u001b[1;32mTrue\u001b[0m\u001b[1;33m:\u001b[0m\u001b[1;33m\u001b[0m\u001b[1;33m\u001b[0m\u001b[0m\n\u001b[1;32m--> 319\u001b[1;33m             \u001b[0mversion\u001b[0m\u001b[1;33m,\u001b[0m \u001b[0mstatus\u001b[0m\u001b[1;33m,\u001b[0m \u001b[0mreason\u001b[0m \u001b[1;33m=\u001b[0m \u001b[0mself\u001b[0m\u001b[1;33m.\u001b[0m\u001b[0m_read_status\u001b[0m\u001b[1;33m(\u001b[0m\u001b[1;33m)\u001b[0m\u001b[1;33m\u001b[0m\u001b[1;33m\u001b[0m\u001b[0m\n\u001b[0m\u001b[0;32m    320\u001b[0m             \u001b[1;32mif\u001b[0m \u001b[0mstatus\u001b[0m \u001b[1;33m!=\u001b[0m \u001b[0mCONTINUE\u001b[0m\u001b[1;33m:\u001b[0m\u001b[1;33m\u001b[0m\u001b[1;33m\u001b[0m\u001b[0m\n\u001b[0;32m    321\u001b[0m                 \u001b[1;32mbreak\u001b[0m\u001b[1;33m\u001b[0m\u001b[1;33m\u001b[0m\u001b[0m\n",
      "\u001b[1;32m~\\anaconda3\\envs\\plt\\lib\\http\\client.py\u001b[0m in \u001b[0;36m_read_status\u001b[1;34m(self)\u001b[0m\n\u001b[0;32m    278\u001b[0m \u001b[1;33m\u001b[0m\u001b[0m\n\u001b[0;32m    279\u001b[0m     \u001b[1;32mdef\u001b[0m \u001b[0m_read_status\u001b[0m\u001b[1;33m(\u001b[0m\u001b[0mself\u001b[0m\u001b[1;33m)\u001b[0m\u001b[1;33m:\u001b[0m\u001b[1;33m\u001b[0m\u001b[1;33m\u001b[0m\u001b[0m\n\u001b[1;32m--> 280\u001b[1;33m         \u001b[0mline\u001b[0m \u001b[1;33m=\u001b[0m \u001b[0mstr\u001b[0m\u001b[1;33m(\u001b[0m\u001b[0mself\u001b[0m\u001b[1;33m.\u001b[0m\u001b[0mfp\u001b[0m\u001b[1;33m.\u001b[0m\u001b[0mreadline\u001b[0m\u001b[1;33m(\u001b[0m\u001b[0m_MAXLINE\u001b[0m \u001b[1;33m+\u001b[0m \u001b[1;36m1\u001b[0m\u001b[1;33m)\u001b[0m\u001b[1;33m,\u001b[0m \u001b[1;34m\"iso-8859-1\"\u001b[0m\u001b[1;33m)\u001b[0m\u001b[1;33m\u001b[0m\u001b[1;33m\u001b[0m\u001b[0m\n\u001b[0m\u001b[0;32m    281\u001b[0m         \u001b[1;32mif\u001b[0m \u001b[0mlen\u001b[0m\u001b[1;33m(\u001b[0m\u001b[0mline\u001b[0m\u001b[1;33m)\u001b[0m \u001b[1;33m>\u001b[0m \u001b[0m_MAXLINE\u001b[0m\u001b[1;33m:\u001b[0m\u001b[1;33m\u001b[0m\u001b[1;33m\u001b[0m\u001b[0m\n\u001b[0;32m    282\u001b[0m             \u001b[1;32mraise\u001b[0m \u001b[0mLineTooLong\u001b[0m\u001b[1;33m(\u001b[0m\u001b[1;34m\"status line\"\u001b[0m\u001b[1;33m)\u001b[0m\u001b[1;33m\u001b[0m\u001b[1;33m\u001b[0m\u001b[0m\n",
      "\u001b[1;32m~\\anaconda3\\envs\\plt\\lib\\socket.py\u001b[0m in \u001b[0;36mreadinto\u001b[1;34m(self, b)\u001b[0m\n\u001b[0;32m    702\u001b[0m         \u001b[1;32mwhile\u001b[0m \u001b[1;32mTrue\u001b[0m\u001b[1;33m:\u001b[0m\u001b[1;33m\u001b[0m\u001b[1;33m\u001b[0m\u001b[0m\n\u001b[0;32m    703\u001b[0m             \u001b[1;32mtry\u001b[0m\u001b[1;33m:\u001b[0m\u001b[1;33m\u001b[0m\u001b[1;33m\u001b[0m\u001b[0m\n\u001b[1;32m--> 704\u001b[1;33m                 \u001b[1;32mreturn\u001b[0m \u001b[0mself\u001b[0m\u001b[1;33m.\u001b[0m\u001b[0m_sock\u001b[0m\u001b[1;33m.\u001b[0m\u001b[0mrecv_into\u001b[0m\u001b[1;33m(\u001b[0m\u001b[0mb\u001b[0m\u001b[1;33m)\u001b[0m\u001b[1;33m\u001b[0m\u001b[1;33m\u001b[0m\u001b[0m\n\u001b[0m\u001b[0;32m    705\u001b[0m             \u001b[1;32mexcept\u001b[0m \u001b[0mtimeout\u001b[0m\u001b[1;33m:\u001b[0m\u001b[1;33m\u001b[0m\u001b[1;33m\u001b[0m\u001b[0m\n\u001b[0;32m    706\u001b[0m                 \u001b[0mself\u001b[0m\u001b[1;33m.\u001b[0m\u001b[0m_timeout_occurred\u001b[0m \u001b[1;33m=\u001b[0m \u001b[1;32mTrue\u001b[0m\u001b[1;33m\u001b[0m\u001b[1;33m\u001b[0m\u001b[0m\n",
      "\u001b[1;32m~\\anaconda3\\envs\\plt\\lib\\ssl.py\u001b[0m in \u001b[0;36mrecv_into\u001b[1;34m(self, buffer, nbytes, flags)\u001b[0m\n\u001b[0;32m   1239\u001b[0m                   \u001b[1;34m\"non-zero flags not allowed in calls to recv_into() on %s\"\u001b[0m \u001b[1;33m%\u001b[0m\u001b[1;33m\u001b[0m\u001b[1;33m\u001b[0m\u001b[0m\n\u001b[0;32m   1240\u001b[0m                   self.__class__)\n\u001b[1;32m-> 1241\u001b[1;33m             \u001b[1;32mreturn\u001b[0m \u001b[0mself\u001b[0m\u001b[1;33m.\u001b[0m\u001b[0mread\u001b[0m\u001b[1;33m(\u001b[0m\u001b[0mnbytes\u001b[0m\u001b[1;33m,\u001b[0m \u001b[0mbuffer\u001b[0m\u001b[1;33m)\u001b[0m\u001b[1;33m\u001b[0m\u001b[1;33m\u001b[0m\u001b[0m\n\u001b[0m\u001b[0;32m   1242\u001b[0m         \u001b[1;32melse\u001b[0m\u001b[1;33m:\u001b[0m\u001b[1;33m\u001b[0m\u001b[1;33m\u001b[0m\u001b[0m\n\u001b[0;32m   1243\u001b[0m             \u001b[1;32mreturn\u001b[0m \u001b[0msuper\u001b[0m\u001b[1;33m(\u001b[0m\u001b[1;33m)\u001b[0m\u001b[1;33m.\u001b[0m\u001b[0mrecv_into\u001b[0m\u001b[1;33m(\u001b[0m\u001b[0mbuffer\u001b[0m\u001b[1;33m,\u001b[0m \u001b[0mnbytes\u001b[0m\u001b[1;33m,\u001b[0m \u001b[0mflags\u001b[0m\u001b[1;33m)\u001b[0m\u001b[1;33m\u001b[0m\u001b[1;33m\u001b[0m\u001b[0m\n",
      "\u001b[1;32m~\\anaconda3\\envs\\plt\\lib\\ssl.py\u001b[0m in \u001b[0;36mread\u001b[1;34m(self, len, buffer)\u001b[0m\n\u001b[0;32m   1097\u001b[0m         \u001b[1;32mtry\u001b[0m\u001b[1;33m:\u001b[0m\u001b[1;33m\u001b[0m\u001b[1;33m\u001b[0m\u001b[0m\n\u001b[0;32m   1098\u001b[0m             \u001b[1;32mif\u001b[0m \u001b[0mbuffer\u001b[0m \u001b[1;32mis\u001b[0m \u001b[1;32mnot\u001b[0m \u001b[1;32mNone\u001b[0m\u001b[1;33m:\u001b[0m\u001b[1;33m\u001b[0m\u001b[1;33m\u001b[0m\u001b[0m\n\u001b[1;32m-> 1099\u001b[1;33m                 \u001b[1;32mreturn\u001b[0m \u001b[0mself\u001b[0m\u001b[1;33m.\u001b[0m\u001b[0m_sslobj\u001b[0m\u001b[1;33m.\u001b[0m\u001b[0mread\u001b[0m\u001b[1;33m(\u001b[0m\u001b[0mlen\u001b[0m\u001b[1;33m,\u001b[0m \u001b[0mbuffer\u001b[0m\u001b[1;33m)\u001b[0m\u001b[1;33m\u001b[0m\u001b[1;33m\u001b[0m\u001b[0m\n\u001b[0m\u001b[0;32m   1100\u001b[0m             \u001b[1;32melse\u001b[0m\u001b[1;33m:\u001b[0m\u001b[1;33m\u001b[0m\u001b[1;33m\u001b[0m\u001b[0m\n\u001b[0;32m   1101\u001b[0m                 \u001b[1;32mreturn\u001b[0m \u001b[0mself\u001b[0m\u001b[1;33m.\u001b[0m\u001b[0m_sslobj\u001b[0m\u001b[1;33m.\u001b[0m\u001b[0mread\u001b[0m\u001b[1;33m(\u001b[0m\u001b[0mlen\u001b[0m\u001b[1;33m)\u001b[0m\u001b[1;33m\u001b[0m\u001b[1;33m\u001b[0m\u001b[0m\n",
      "\u001b[1;31mKeyboardInterrupt\u001b[0m: "
     ]
    }
   ],
   "source": [
    "for f in files:\n",
    "    process_df(f)"
   ]
  },
  {
   "cell_type": "code",
   "execution_count": null,
   "id": "a995cace-3688-4686-b320-8e9989d79fa3",
   "metadata": {},
   "outputs": [],
   "source": []
  }
 ],
 "metadata": {
  "kernelspec": {
   "display_name": "Python 3 (ipykernel)",
   "language": "python",
   "name": "python3"
  },
  "language_info": {
   "codemirror_mode": {
    "name": "ipython",
    "version": 3
   },
   "file_extension": ".py",
   "mimetype": "text/x-python",
   "name": "python",
   "nbconvert_exporter": "python",
   "pygments_lexer": "ipython3",
   "version": "3.9.7"
  }
 },
 "nbformat": 4,
 "nbformat_minor": 5
}
