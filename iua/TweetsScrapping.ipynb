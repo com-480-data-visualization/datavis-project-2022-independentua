{
 "cells": [
  {
   "cell_type": "code",
   "execution_count": 1,
   "metadata": {
    "collapsed": true
   },
   "outputs": [],
   "source": [
    "from datetime import date\n",
    "\n",
    "import pandas as pd\n",
    "\n",
    "from twitter_scrapper import get_now_string, scrap_twitter\n",
    "%load_ext autoreload\n",
    "%autoreload 2\n",
    "%reload_ext autoreload"
   ]
  },
  {
   "cell_type": "markdown",
   "source": [
    "# Scrap"
   ],
   "metadata": {
    "collapsed": false,
    "pycharm": {
     "name": "#%% md\n"
    }
   }
  },
  {
   "cell_type": "code",
   "execution_count": 2,
   "outputs": [
    {
     "name": "stderr",
     "output_type": "stream",
     "text": [
      "  WARNING: Did not find branch or tag 'origin/master', assuming revision or ref.\n"
     ]
    },
    {
     "name": "stdout",
     "output_type": "stream",
     "text": [
      "[!] No more data! Scraping will stop now.\n",
      "found 0 deleted tweets in this search.\n",
      "[!] No more data! Scraping will stop now.\n",
      "found 0 deleted tweets in this search.\n",
      "[!] No more data! Scraping will stop now.\n",
      "found 0 deleted tweets in this search.\n",
      "[!] No more data! Scraping will stop now.\n",
      "found 0 deleted tweets in this search.\n",
      "[!] No more data! Scraping will stop now.\n",
      "found 0 deleted tweets in this search.\n",
      "[!] No more data! Scraping will stop now.\n",
      "found 0 deleted tweets in this search.\n",
      "[!] No more data! Scraping will stop now.\n",
      "found 0 deleted tweets in this search.\n",
      "[!] No more data! Scraping will stop now.\n",
      "found 0 deleted tweets in this search.\n",
      "[!] No more data! Scraping will stop now.\n",
      "found 0 deleted tweets in this search.\n",
      "[!] No more data! Scraping will stop now.\n",
      "found 0 deleted tweets in this search.\n",
      "[!] No more data! Scraping will stop now.\n",
      "found 0 deleted tweets in this search.\n",
      "[!] No more data! Scraping will stop now.\n",
      "found 0 deleted tweets in this search.\n",
      "[!] No more data! Scraping will stop now.\n",
      "found 0 deleted tweets in this search.\n",
      "[!] No more data! Scraping will stop now.\n",
      "found 0 deleted tweets in this search.\n",
      "[!] No more data! Scraping will stop now.\n",
      "found 0 deleted tweets in this search.\n",
      "[!] No more data! Scraping will stop now.\n",
      "found 0 deleted tweets in this search.\n",
      "[!] No more data! Scraping will stop now.\n",
      "found 0 deleted tweets in this search.\n",
      "[!] No more data! Scraping will stop now.\n",
      "found 0 deleted tweets in this search.\n",
      "[!] No more data! Scraping will stop now.\n",
      "found 0 deleted tweets in this search.\n",
      "[!] No more data! Scraping will stop now.\n",
      "found 0 deleted tweets in this search.\n",
      "[!] No more data! Scraping will stop now.\n",
      "found 0 deleted tweets in this search.\n",
      "[!] No more data! Scraping will stop now.\n",
      "found 0 deleted tweets in this search.\n",
      "[!] No more data! Scraping will stop now.\n",
      "found 0 deleted tweets in this search.\n",
      "[!] No more data! Scraping will stop now.\n",
      "found 0 deleted tweets in this search.\n",
      "[!] No more data! Scraping will stop now.\n",
      "found 0 deleted tweets in this search.\n",
      "[!] No more data! Scraping will stop now.\n",
      "found 0 deleted tweets in this search.\n",
      "[!] No more data! Scraping will stop now.\n",
      "found 0 deleted tweets in this search.\n",
      "[!] No more data! Scraping will stop now.\n",
      "found 0 deleted tweets in this search.\n",
      "[!] No more data! Scraping will stop now.\n",
      "found 0 deleted tweets in this search.\n",
      "[!] No more data! Scraping will stop now.\n",
      "found 0 deleted tweets in this search.\n",
      "[!] No more data! Scraping will stop now.\n",
      "found 0 deleted tweets in this search.\n",
      "[!] No more data! Scraping will stop now.\n",
      "found 0 deleted tweets in this search.\n",
      "[!] No more data! Scraping will stop now.\n",
      "found 0 deleted tweets in this search.\n",
      "[!] No more data! Scraping will stop now.\n",
      "found 0 deleted tweets in this search.\n",
      "[!] No more data! Scraping will stop now.\n",
      "found 0 deleted tweets in this search.\n",
      "[!] No more data! Scraping will stop now.\n",
      "found 0 deleted tweets in this search.\n",
      "[!] No more data! Scraping will stop now.\n",
      "found 0 deleted tweets in this search.\n",
      "[!] No more data! Scraping will stop now.\n",
      "found 0 deleted tweets in this search.\n",
      "[!] No more data! Scraping will stop now.\n",
      "found 0 deleted tweets in this search.\n",
      "[!] No more data! Scraping will stop now.\n",
      "found 0 deleted tweets in this search.\n",
      "[!] No more data! Scraping will stop now.\n",
      "found 0 deleted tweets in this search.\n",
      "[!] No more data! Scraping will stop now.\n",
      "found 0 deleted tweets in this search.\n",
      "[!] No more data! Scraping will stop now.\n",
      "found 0 deleted tweets in this search.\n",
      "[!] No more data! Scraping will stop now.\n",
      "found 0 deleted tweets in this search.\n",
      "[!] No more data! Scraping will stop now.\n",
      "found 0 deleted tweets in this search.\n",
      "[!] No more data! Scraping will stop now.\n",
      "found 0 deleted tweets in this search.\n",
      "[!] No more data! Scraping will stop now.\n",
      "found 0 deleted tweets in this search.\n",
      "[!] No more data! Scraping will stop now.\n",
      "found 0 deleted tweets in this search.\n",
      "[!] No more data! Scraping will stop now.\n",
      "found 0 deleted tweets in this search.\n",
      "[!] No more data! Scraping will stop now.\n",
      "found 0 deleted tweets in this search.\n",
      "[!] No more data! Scraping will stop now.\n",
      "found 0 deleted tweets in this search.\n",
      "[!] No more data! Scraping will stop now.\n",
      "found 0 deleted tweets in this search.\n",
      "[!] No more data! Scraping will stop now.\n",
      "found 0 deleted tweets in this search.\n",
      "[!] No more data! Scraping will stop now.\n",
      "found 0 deleted tweets in this search.\n",
      "[!] No more data! Scraping will stop now.\n",
      "found 0 deleted tweets in this search.\n",
      "[!] No more data! Scraping will stop now.\n",
      "found 0 deleted tweets in this search.\n",
      "[!] No more data! Scraping will stop now.\n",
      "found 0 deleted tweets in this search.\n",
      "[!] No more data! Scraping will stop now.\n",
      "found 0 deleted tweets in this search.\n",
      "[!] No more data! Scraping will stop now.\n",
      "found 0 deleted tweets in this search.\n",
      "[!] No more data! Scraping will stop now.\n",
      "found 0 deleted tweets in this search.\n",
      "[!] No more data! Scraping will stop now.\n",
      "found 0 deleted tweets in this search.\n",
      "[!] No more data! Scraping will stop now.\n",
      "found 0 deleted tweets in this search.\n",
      "[!] No more data! Scraping will stop now.\n",
      "found 0 deleted tweets in this search.\n",
      "[!] No more data! Scraping will stop now.\n",
      "found 0 deleted tweets in this search.\n",
      "[!] No more data! Scraping will stop now.\n",
      "found 0 deleted tweets in this search.\n",
      "[!] No more data! Scraping will stop now.\n",
      "found 0 deleted tweets in this search.\n",
      "[!] No more data! Scraping will stop now.\n",
      "found 0 deleted tweets in this search.\n",
      "[!] No more data! Scraping will stop now.\n",
      "found 0 deleted tweets in this search.\n",
      "[!] No more data! Scraping will stop now.\n",
      "found 0 deleted tweets in this search.\n",
      "[!] No more data! Scraping will stop now.\n",
      "found 0 deleted tweets in this search.\n",
      "[!] No more data! Scraping will stop now.\n",
      "found 0 deleted tweets in this search.\n",
      "[!] No more data! Scraping will stop now.\n",
      "found 0 deleted tweets in this search.\n",
      "[!] No more data! Scraping will stop now.\n",
      "found 0 deleted tweets in this search.\n",
      "[!] No more data! Scraping will stop now.\n",
      "found 0 deleted tweets in this search.\n",
      "[!] No more data! Scraping will stop now.\n",
      "found 0 deleted tweets in this search.\n",
      "[!] No more data! Scraping will stop now.\n",
      "found 0 deleted tweets in this search.\n",
      "[!] No more data! Scraping will stop now.\n",
      "found 0 deleted tweets in this search.\n",
      "[!] No more data! Scraping will stop now.\n",
      "found 0 deleted tweets in this search.\n",
      "[!] No more data! Scraping will stop now.\n",
      "found 0 deleted tweets in this search.\n",
      "[!] No more data! Scraping will stop now.\n",
      "found 0 deleted tweets in this search.\n",
      "[!] No more data! Scraping will stop now.\n",
      "found 0 deleted tweets in this search.\n",
      "[!] No more data! Scraping will stop now.\n",
      "found 0 deleted tweets in this search.\n",
      "[!] No more data! Scraping will stop now.\n",
      "found 0 deleted tweets in this search.\n",
      "[!] No more data! Scraping will stop now.\n",
      "found 0 deleted tweets in this search.\n",
      "[!] No more data! Scraping will stop now.\n",
      "found 0 deleted tweets in this search.\n",
      "[!] No more data! Scraping will stop now.\n",
      "found 0 deleted tweets in this search.\n",
      "[!] No more data! Scraping will stop now.\n",
      "found 0 deleted tweets in this search.\n",
      "[!] No more data! Scraping will stop now.\n",
      "found 0 deleted tweets in this search.\n",
      "[!] No more data! Scraping will stop now.\n",
      "found 0 deleted tweets in this search.\n",
      "[!] No more data! Scraping will stop now.\n",
      "found 0 deleted tweets in this search.\n",
      "[!] No more data! Scraping will stop now.\n",
      "found 0 deleted tweets in this search.\n",
      "[!] No more data! Scraping will stop now.\n",
      "found 0 deleted tweets in this search.\n",
      "[!] No more data! Scraping will stop now.\n",
      "found 0 deleted tweets in this search.\n",
      "[!] No more data! Scraping will stop now.\n",
      "found 0 deleted tweets in this search.\n"
     ]
    },
    {
     "data": {
      "text/plain": "                         conversation_id       created_at                date  \\\nid                                                                              \n1488303588229230594  1488303588229230594  1643674201000.0 2022-02-01 01:10:01   \n1488540215018938372  1488540215018938372  1643730617000.0 2022-02-01 16:50:17   \n1488551955668611076  1488551955668611076  1643733416000.0 2022-02-01 17:36:56   \n1488579472165163014  1488579472165163014  1643739977000.0 2022-02-01 19:26:17   \n1488603295593766918  1488603295593766918  1643745657000.0 2022-02-01 21:00:57   \n...                                  ...              ...                 ...   \n1509965911192711172  1509965911192711172  1648838901000.0 2022-04-01 20:48:21   \n1509969228350296069  1509969228350296069  1648839692000.0 2022-04-01 21:01:32   \n1509979949494583314  1509979949494583314  1648842248000.0 2022-04-01 21:44:08   \n1509990736011350019  1509990736011350019  1648844820000.0 2022-04-01 22:27:00   \n1509995123534450689  1509995123534450689  1648845866000.0 2022-04-01 22:44:26   \n\n                    timezone place  \\\nid                                   \n1488303588229230594    +0200         \n1488540215018938372    +0200         \n1488551955668611076    +0200         \n1488579472165163014    +0200         \n1488603295593766918    +0200         \n...                      ...   ...   \n1509965911192711172    +0200         \n1509969228350296069    +0200         \n1509979949494583314    +0200         \n1509990736011350019    +0200         \n1509995123534450689    +0200         \n\n                                                                 tweet  \\\nid                                                                       \n1488303588229230594  The UN Security Council meeting on threats to ...   \n1488540215018938372  According to Foreign Minister Dmytro Kuleba, t...   \n1488551955668611076  The document, signed to “bolster the nation’s ...   \n1488579472165163014  For the cargo pallets on the runway contained ...   \n1488603295593766918  According to the Bureau, the searches were par...   \n...                                                                ...   \n1509965911192711172  ⚡️ State budget collects $3.5 billion in March...   \n1509969228350296069  ⚡️ Metsola: Ukraine's candidacy can count on E...   \n1509979949494583314  European Parliament President Roberta Metsola ...   \n1509990736011350019  ⚡️ Ukraine's Air Force: Russian aircraft incre...   \n1509995123534450689  ⚡️ Government increases army's reserve fund to...   \n\n                    language hashtags cashtags              user_id  ... geo  \\\nid                                                                   ...       \n1488303588229230594       en       []       []  1462548977367359490  ...       \n1488540215018938372       en       []       []  1462548977367359490  ...       \n1488551955668611076       en       []       []  1462548977367359490  ...       \n1488579472165163014       en       []       []  1462548977367359490  ...       \n1488603295593766918       en       []       []  1462548977367359490  ...       \n...                      ...      ...      ...                  ...  ...  ..   \n1509965911192711172       en       []       []  1462548977367359490  ...       \n1509969228350296069       en       []       []  1462548977367359490  ...       \n1509979949494583314       en       []       []  1462548977367359490  ...       \n1509990736011350019       en       []       []  1462548977367359490  ...       \n1509995123534450689       en       []       []  1462548977367359490  ...       \n\n                    source user_rt_id user_rt retweet_id reply_to  \\\nid                                                                  \n1488303588229230594                                            []   \n1488540215018938372                                            []   \n1488551955668611076                                            []   \n1488579472165163014                                            []   \n1488603295593766918                                            []   \n...                    ...        ...     ...        ...      ...   \n1509965911192711172                                            []   \n1509969228350296069                                            []   \n1509979949494583314                                            []   \n1509990736011350019                                            []   \n1509995123534450689                                            []   \n\n                    retweet_date translate trans_src trans_dest  \nid                                                               \n1488303588229230594                                              \n1488540215018938372                                              \n1488551955668611076                                              \n1488579472165163014                                              \n1488603295593766918                                              \n...                          ...       ...       ...        ...  \n1509965911192711172                                              \n1509969228350296069                                              \n1509979949494583314                                              \n1509990736011350019                                              \n1509995123534450689                                              \n\n[2340 rows x 37 columns]",
      "text/html": "<div>\n<style scoped>\n    .dataframe tbody tr th:only-of-type {\n        vertical-align: middle;\n    }\n\n    .dataframe tbody tr th {\n        vertical-align: top;\n    }\n\n    .dataframe thead th {\n        text-align: right;\n    }\n</style>\n<table border=\"1\" class=\"dataframe\">\n  <thead>\n    <tr style=\"text-align: right;\">\n      <th></th>\n      <th>conversation_id</th>\n      <th>created_at</th>\n      <th>date</th>\n      <th>timezone</th>\n      <th>place</th>\n      <th>tweet</th>\n      <th>language</th>\n      <th>hashtags</th>\n      <th>cashtags</th>\n      <th>user_id</th>\n      <th>...</th>\n      <th>geo</th>\n      <th>source</th>\n      <th>user_rt_id</th>\n      <th>user_rt</th>\n      <th>retweet_id</th>\n      <th>reply_to</th>\n      <th>retweet_date</th>\n      <th>translate</th>\n      <th>trans_src</th>\n      <th>trans_dest</th>\n    </tr>\n    <tr>\n      <th>id</th>\n      <th></th>\n      <th></th>\n      <th></th>\n      <th></th>\n      <th></th>\n      <th></th>\n      <th></th>\n      <th></th>\n      <th></th>\n      <th></th>\n      <th></th>\n      <th></th>\n      <th></th>\n      <th></th>\n      <th></th>\n      <th></th>\n      <th></th>\n      <th></th>\n      <th></th>\n      <th></th>\n      <th></th>\n    </tr>\n  </thead>\n  <tbody>\n    <tr>\n      <th>1488303588229230594</th>\n      <td>1488303588229230594</td>\n      <td>1643674201000.0</td>\n      <td>2022-02-01 01:10:01</td>\n      <td>+0200</td>\n      <td></td>\n      <td>The UN Security Council meeting on threats to ...</td>\n      <td>en</td>\n      <td>[]</td>\n      <td>[]</td>\n      <td>1462548977367359490</td>\n      <td>...</td>\n      <td></td>\n      <td></td>\n      <td></td>\n      <td></td>\n      <td></td>\n      <td>[]</td>\n      <td></td>\n      <td></td>\n      <td></td>\n      <td></td>\n    </tr>\n    <tr>\n      <th>1488540215018938372</th>\n      <td>1488540215018938372</td>\n      <td>1643730617000.0</td>\n      <td>2022-02-01 16:50:17</td>\n      <td>+0200</td>\n      <td></td>\n      <td>According to Foreign Minister Dmytro Kuleba, t...</td>\n      <td>en</td>\n      <td>[]</td>\n      <td>[]</td>\n      <td>1462548977367359490</td>\n      <td>...</td>\n      <td></td>\n      <td></td>\n      <td></td>\n      <td></td>\n      <td></td>\n      <td>[]</td>\n      <td></td>\n      <td></td>\n      <td></td>\n      <td></td>\n    </tr>\n    <tr>\n      <th>1488551955668611076</th>\n      <td>1488551955668611076</td>\n      <td>1643733416000.0</td>\n      <td>2022-02-01 17:36:56</td>\n      <td>+0200</td>\n      <td></td>\n      <td>The document, signed to “bolster the nation’s ...</td>\n      <td>en</td>\n      <td>[]</td>\n      <td>[]</td>\n      <td>1462548977367359490</td>\n      <td>...</td>\n      <td></td>\n      <td></td>\n      <td></td>\n      <td></td>\n      <td></td>\n      <td>[]</td>\n      <td></td>\n      <td></td>\n      <td></td>\n      <td></td>\n    </tr>\n    <tr>\n      <th>1488579472165163014</th>\n      <td>1488579472165163014</td>\n      <td>1643739977000.0</td>\n      <td>2022-02-01 19:26:17</td>\n      <td>+0200</td>\n      <td></td>\n      <td>For the cargo pallets on the runway contained ...</td>\n      <td>en</td>\n      <td>[]</td>\n      <td>[]</td>\n      <td>1462548977367359490</td>\n      <td>...</td>\n      <td></td>\n      <td></td>\n      <td></td>\n      <td></td>\n      <td></td>\n      <td>[]</td>\n      <td></td>\n      <td></td>\n      <td></td>\n      <td></td>\n    </tr>\n    <tr>\n      <th>1488603295593766918</th>\n      <td>1488603295593766918</td>\n      <td>1643745657000.0</td>\n      <td>2022-02-01 21:00:57</td>\n      <td>+0200</td>\n      <td></td>\n      <td>According to the Bureau, the searches were par...</td>\n      <td>en</td>\n      <td>[]</td>\n      <td>[]</td>\n      <td>1462548977367359490</td>\n      <td>...</td>\n      <td></td>\n      <td></td>\n      <td></td>\n      <td></td>\n      <td></td>\n      <td>[]</td>\n      <td></td>\n      <td></td>\n      <td></td>\n      <td></td>\n    </tr>\n    <tr>\n      <th>...</th>\n      <td>...</td>\n      <td>...</td>\n      <td>...</td>\n      <td>...</td>\n      <td>...</td>\n      <td>...</td>\n      <td>...</td>\n      <td>...</td>\n      <td>...</td>\n      <td>...</td>\n      <td>...</td>\n      <td>...</td>\n      <td>...</td>\n      <td>...</td>\n      <td>...</td>\n      <td>...</td>\n      <td>...</td>\n      <td>...</td>\n      <td>...</td>\n      <td>...</td>\n      <td>...</td>\n    </tr>\n    <tr>\n      <th>1509965911192711172</th>\n      <td>1509965911192711172</td>\n      <td>1648838901000.0</td>\n      <td>2022-04-01 20:48:21</td>\n      <td>+0200</td>\n      <td></td>\n      <td>⚡️ State budget collects $3.5 billion in March...</td>\n      <td>en</td>\n      <td>[]</td>\n      <td>[]</td>\n      <td>1462548977367359490</td>\n      <td>...</td>\n      <td></td>\n      <td></td>\n      <td></td>\n      <td></td>\n      <td></td>\n      <td>[]</td>\n      <td></td>\n      <td></td>\n      <td></td>\n      <td></td>\n    </tr>\n    <tr>\n      <th>1509969228350296069</th>\n      <td>1509969228350296069</td>\n      <td>1648839692000.0</td>\n      <td>2022-04-01 21:01:32</td>\n      <td>+0200</td>\n      <td></td>\n      <td>⚡️ Metsola: Ukraine's candidacy can count on E...</td>\n      <td>en</td>\n      <td>[]</td>\n      <td>[]</td>\n      <td>1462548977367359490</td>\n      <td>...</td>\n      <td></td>\n      <td></td>\n      <td></td>\n      <td></td>\n      <td></td>\n      <td>[]</td>\n      <td></td>\n      <td></td>\n      <td></td>\n      <td></td>\n    </tr>\n    <tr>\n      <th>1509979949494583314</th>\n      <td>1509979949494583314</td>\n      <td>1648842248000.0</td>\n      <td>2022-04-01 21:44:08</td>\n      <td>+0200</td>\n      <td></td>\n      <td>European Parliament President Roberta Metsola ...</td>\n      <td>en</td>\n      <td>[]</td>\n      <td>[]</td>\n      <td>1462548977367359490</td>\n      <td>...</td>\n      <td></td>\n      <td></td>\n      <td></td>\n      <td></td>\n      <td></td>\n      <td>[]</td>\n      <td></td>\n      <td></td>\n      <td></td>\n      <td></td>\n    </tr>\n    <tr>\n      <th>1509990736011350019</th>\n      <td>1509990736011350019</td>\n      <td>1648844820000.0</td>\n      <td>2022-04-01 22:27:00</td>\n      <td>+0200</td>\n      <td></td>\n      <td>⚡️ Ukraine's Air Force: Russian aircraft incre...</td>\n      <td>en</td>\n      <td>[]</td>\n      <td>[]</td>\n      <td>1462548977367359490</td>\n      <td>...</td>\n      <td></td>\n      <td></td>\n      <td></td>\n      <td></td>\n      <td></td>\n      <td>[]</td>\n      <td></td>\n      <td></td>\n      <td></td>\n      <td></td>\n    </tr>\n    <tr>\n      <th>1509995123534450689</th>\n      <td>1509995123534450689</td>\n      <td>1648845866000.0</td>\n      <td>2022-04-01 22:44:26</td>\n      <td>+0200</td>\n      <td></td>\n      <td>⚡️ Government increases army's reserve fund to...</td>\n      <td>en</td>\n      <td>[]</td>\n      <td>[]</td>\n      <td>1462548977367359490</td>\n      <td>...</td>\n      <td></td>\n      <td></td>\n      <td></td>\n      <td></td>\n      <td></td>\n      <td>[]</td>\n      <td></td>\n      <td></td>\n      <td></td>\n      <td></td>\n    </tr>\n  </tbody>\n</table>\n<p>2340 rows × 37 columns</p>\n</div>"
     },
     "execution_count": 2,
     "metadata": {},
     "output_type": "execute_result"
    }
   ],
   "source": [
    "twitter_account_name = \"KyivIndependent\"\n",
    "start_date = date(2022, 2, 1) #invasion started 2022/02/24\n",
    "now = get_now_string()\n",
    "save_path = f\"./../data/{twitter_account_name}_tweets.csv\"\n",
    "#save_path = f\"../data/{twitter_account_name}_run_{now}.csv\" # useful for experiments running\n",
    "store = True\n",
    "res = scrap_twitter(twitter_account_name, start_date, store, save_path)\n",
    "res"
   ],
   "metadata": {
    "collapsed": false,
    "pycharm": {
     "name": "#%%\n"
    }
   }
  },
  {
   "cell_type": "markdown",
   "source": [
    "## Load"
   ],
   "metadata": {
    "collapsed": false,
    "pycharm": {
     "name": "#%% md\n"
    }
   }
  },
  {
   "cell_type": "code",
   "execution_count": 3,
   "outputs": [],
   "source": [
    "res = pd.read_csv(\"./../data/KyivIndependent_twitts.csv\", index_col=0)"
   ],
   "metadata": {
    "collapsed": false,
    "pycharm": {
     "name": "#%%\n"
    }
   }
  },
  {
   "cell_type": "code",
   "execution_count": null,
   "outputs": [],
   "source": [],
   "metadata": {
    "collapsed": false,
    "pycharm": {
     "name": "#%%\n"
    }
   }
  }
 ],
 "metadata": {
  "kernelspec": {
   "display_name": "Python 3",
   "language": "python",
   "name": "python3"
  },
  "language_info": {
   "codemirror_mode": {
    "name": "ipython",
    "version": 2
   },
   "file_extension": ".py",
   "mimetype": "text/x-python",
   "name": "python",
   "nbconvert_exporter": "python",
   "pygments_lexer": "ipython2",
   "version": "2.7.6"
  }
 },
 "nbformat": 4,
 "nbformat_minor": 0
}